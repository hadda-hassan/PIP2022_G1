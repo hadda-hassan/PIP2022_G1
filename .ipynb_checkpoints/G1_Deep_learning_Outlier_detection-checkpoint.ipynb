{
 "cells": [
  {
   "cell_type": "markdown",
   "metadata": {},
   "source": [
    "## Import Libraries and install packages and framworks"
   ]
  },
  {
   "cell_type": "code",
   "execution_count": 176,
   "metadata": {},
   "outputs": [],
   "source": [
    "# !pip install tensorflow\n",
    "# !pip install keras\n",
    "# !pip install tensorflow-addons\n",
    "# !pip3 install tfa-nightly\n",
    "import numpy as np\n",
    "import pandas as pd\n",
    "import seaborn as sns\n",
    "import matplotlib.pyplot as plt\n",
    "\n",
    "from sklearn.preprocessing import StandardScaler    \n",
    "from sklearn.model_selection import train_test_split\n",
    "from sklearn.metrics import confusion_matrix, classification_report\n",
    "\n",
    "import tensorflow as tf\n",
    "import keras\n",
    "import tensorflow_addons as tfa\n",
    "\n",
    "from sklearn.preprocessing import LabelEncoder\n",
    "from tensorflow.keras import Sequential\n",
    "from tensorflow.keras.layers import Dense\n",
    "from keras.layers import BatchNormalization\n",
    "from tensorflow.keras.optimizers import SGD\n",
    "from tensorflow.keras.layers import Dense, Dropout, Activation,Flatten,Reshape"
   ]
  },
  {
   "cell_type": "markdown",
   "metadata": {},
   "source": [
    "## Data preparation."
   ]
  },
  {
   "cell_type": "code",
   "execution_count": 187,
   "metadata": {},
   "outputs": [],
   "source": [
    "#load data\n",
    "X_test=pd.read_csv('/home/sid2020-7/Bureau/DATA1/FINAL DATA/X_test_final.csv')\n",
    "y_test=pd.read_csv('/home/sid2020-7/Bureau/DATA1/FINAL DATA/y_test_final.csv')\n",
    "trainX=pd.read_csv('/home/sid2020-7/Bureau/DATA1/FINAL DATA/X_train_final.csv')\n",
    "trainy=pd.read_csv('/home/sid2020-7/Bureau/DATA1/FINAL DATA/y_train_final.csv')"
   ]
  },
  {
   "cell_type": "code",
   "execution_count": 194,
   "metadata": {},
   "outputs": [
    {
     "name": "stdout",
     "output_type": "stream",
     "text": [
      "pour la classe 0: 547182 (99.70% of total)\n",
      "\n",
      "pour la classe 1: 1630 (0.30% of total)\n",
      "\n"
     ]
    }
   ],
   "source": [
    "# the dataset imbalance:\n",
    "posts,negts  = np.bincount(trainy['TOP_FRAUDE'])\n",
    "postr ,negtr = np.bincount(y_test['TOP_FRAUDE'])\n",
    "\n",
    "pos=posts+postr \n",
    "neg=negts+negtr \n",
    "total = neg + pos\n",
    "print('pour la classe 0: {} ({:.2f}% of total)\\n'.format(pos, 100 * pos / total))\n",
    "print('pour la classe 1: {} ({:.2f}% of total)\\n'.format(neg, 100 * neg / total))"
   ]
  },
  {
   "cell_type": "code",
   "execution_count": 189,
   "metadata": {},
   "outputs": [],
   "source": [
    "# Split data test to test and validation datasets.\n",
    "testX, tvalX, testy, tvaly = train_test_split(X_test, y_test, test_size=0.5, random_state=2,stratify=y_test)"
   ]
  },
  {
   "cell_type": "markdown",
   "metadata": {},
   "source": [
    "## Loss Functions & Metrics.\n",
    "\n",
    "Metrics: the binary classification metrics that are used for the imbalanced data are F2Beta and curve (ROC-AUC).\n",
    "\n",
    "Loss functions: the binary classification loss functions available in Keras and most adaptable to tow metrics are:\n",
    " 'binary_crossentropy'.\n",
    " tfa.losses.SigmoidFocalCrossEntropy()\n",
    "\n",
    " In classification problems involving imbalanced data and outlier detection problems,\n",
    " the focal loss function seems to be the most efficient for an ANN.\n",
    " This loss introduces an adjustment to the cross-entropy criterion. \n",
    " For this we chose the loss.SigmoidFocalCrossEntropy().\n",
    "\n",
    "\n"
   ]
  },
  {
   "cell_type": "code",
   "execution_count": 274,
   "metadata": {},
   "outputs": [],
   "source": [
    " METRICS=[tfa.metrics.FBetaScore(name='FBeta2',num_classes=2,average=\"micro\",threshold=0.5),\n",
    "         tf.keras.metrics.AUC(name='prc', curve='PR'),]"
   ]
  },
  {
   "cell_type": "markdown",
   "metadata": {},
   "source": [
    "## Build the model"
   ]
  },
  {
   "cell_type": "code",
   "execution_count": 302,
   "metadata": {},
   "outputs": [],
   "source": [
    "n_features = trainX.shape[1]\n",
    "# The model tak\n",
    "def model(output_bias=None):\n",
    "    if output_bias is not None:\n",
    "        output_bias = tf.keras.initializers.Constant(output_bias)\n",
    "    model = Sequential()\n",
    "    model.add(Dense(32, activation='sigmoid', kernel_initializer='he_normal', input_shape=(n_features,)))\n",
    "#     model.add(Dense(62,activation='relu', kernel_initializer='he_normal')),\n",
    "    model.add(Dense(62,activation='sigmoid', kernel_initializer='he_normal')),\n",
    "    model.add(Dense(62,activation='sigmoid', kernel_initializer='he_normal')),\n",
    "    model.add(Dense(124,activation='sigmoid', kernel_initializer='he_normal')),\n",
    "    model.add(Dense(124,activation='sigmoid', kernel_initializer='he_normal')),\n",
    "    model.add(Dense(62,activation='sigmoid', kernel_initializer='he_normal')),\n",
    "    model.add(Dense(62,activation='sigmoid', kernel_initializer='he_normal')),\n",
    "#     model.add(Dropout(0.5)),\n",
    "#     model.add(BatchNormalization())\n",
    "\n",
    "    model.add(Dense(1, activation='sigmoid')),\n",
    "    model.compile(optimizer='adam', loss=tfa.losses.SigmoidFocalCrossEntropy(), metrics=[METRICS])\n",
    "\n",
    "    return model\n"
   ]
  },
  {
   "cell_type": "markdown",
   "metadata": {},
   "source": [
    "#### Bais\n",
    "We set the initial bias basing on this forlmula:\n",
    "\n",
    "$$ p_0 = pos/(pos + neg) = 1/(1+e^{-b_0}) $$\n",
    "$$ b_0 = -log_e(1/p_0 - 1) $$\n",
    "$$ b_0 = log_e(pos/neg)$$"
   ]
  },
  {
   "cell_type": "code",
   "execution_count": 301,
   "metadata": {},
   "outputs": [
    {
     "data": {
      "text/plain": [
       "array([5.81620146])"
      ]
     },
     "execution_count": 301,
     "metadata": {},
     "output_type": "execute_result"
    }
   ],
   "source": [
    "initial_bias = np.log([pos/neg])\n",
    "initial_bias"
   ]
  },
  {
   "cell_type": "markdown",
   "metadata": {},
   "source": [
    "#### Calculate class weights\n",
    "\n",
    "Identify the minor and major class, and give weights to class_weight which helps us optimize the scoring for the minor class.These will help the model to \"pay more attention\" to examples from an under-represented class."
   ]
  },
  {
   "cell_type": "code",
   "execution_count": 300,
   "metadata": {},
   "outputs": [
    {
     "name": "stdout",
     "output_type": "stream",
     "text": [
      "poid pour la classe 0: 168.35\n",
      "poids pour la classe 1: 0.50\n"
     ]
    }
   ],
   "source": [
    "total = neg + pos\n",
    "poids_0 = (1 / neg) * (total / 2.0)\n",
    "poids_1 = (1 / pos) * (total / 2.0)\n",
    "class_weight = {0: poids_1, 1: poids_0}\n",
    "class_weight\n",
    "print('poid pour la classe 0: {:.2f}'.format(weight_for_0))\n",
    "print('poids pour la classe 1: {:.2f}'.format(weight_for_1))"
   ]
  },
  {
   "cell_type": "code",
   "execution_count": 303,
   "metadata": {},
   "outputs": [
    {
     "name": "stdout",
     "output_type": "stream",
     "text": [
      "Model: \"sequential_54\"\n",
      "_________________________________________________________________\n",
      " Layer (type)                Output Shape              Param #   \n",
      "=================================================================\n",
      " dense_271 (Dense)           (None, 32)                1984      \n",
      "                                                                 \n",
      " dense_272 (Dense)           (None, 62)                2046      \n",
      "                                                                 \n",
      " dense_273 (Dense)           (None, 62)                3906      \n",
      "                                                                 \n",
      " dense_274 (Dense)           (None, 124)               7812      \n",
      "                                                                 \n",
      " dense_275 (Dense)           (None, 124)               15500     \n",
      "                                                                 \n",
      " dense_276 (Dense)           (None, 62)                7750      \n",
      "                                                                 \n",
      " dense_277 (Dense)           (None, 62)                3906      \n",
      "                                                                 \n",
      " dense_278 (Dense)           (None, 1)                 63        \n",
      "                                                                 \n",
      "=================================================================\n",
      "Total params: 42,967\n",
      "Trainable params: 42,967\n",
      "Non-trainable params: 0\n",
      "_________________________________________________________________\n"
     ]
    }
   ],
   "source": [
    "# summary model.\n",
    "model= model(output_bias=initial_bias)\n",
    "model.summary()"
   ]
  },
  {
   "cell_type": "markdown",
   "metadata": {},
   "source": [
    "## Training the ANN model.\n",
    "Our model is fit using a larger than default batch size of 3000, this is important to ensure that each batch has a decent chance of containing a few class 0 samples. If the batch size was too small, they would likely have no fraudulent transactions to learn from."
   ]
  },
  {
   "cell_type": "code",
   "execution_count": 304,
   "metadata": {},
   "outputs": [
    {
     "name": "stdout",
     "output_type": "stream",
     "text": [
      "Epoch 1/100\n",
      "98/98 [==============================] - 3s 21ms/step - loss: 0.0849 - FBeta2: 0.0122 - prc: 0.0046 - val_loss: 0.0731 - val_FBeta2: 0.0000e+00 - val_prc: 0.0038\n",
      "Epoch 2/100\n",
      "98/98 [==============================] - 2s 18ms/step - loss: 0.0749 - FBeta2: 0.0285 - prc: 0.0124 - val_loss: 0.0750 - val_FBeta2: 0.0120 - val_prc: 0.0063\n",
      "Epoch 3/100\n",
      "98/98 [==============================] - 4s 37ms/step - loss: 0.0634 - FBeta2: 0.0340 - prc: 0.0244 - val_loss: 0.0702 - val_FBeta2: 0.0130 - val_prc: 0.0075\n",
      "Epoch 4/100\n",
      "98/98 [==============================] - 3s 30ms/step - loss: 0.0629 - FBeta2: 0.0368 - prc: 0.0266 - val_loss: 0.0944 - val_FBeta2: 0.0110 - val_prc: 0.0077\n",
      "Epoch 5/100\n",
      "98/98 [==============================] - 2s 23ms/step - loss: 0.0612 - FBeta2: 0.0392 - prc: 0.0482 - val_loss: 0.0608 - val_FBeta2: 0.0141 - val_prc: 0.0083\n",
      "Epoch 6/100\n",
      "98/98 [==============================] - 4s 36ms/step - loss: 0.0610 - FBeta2: 0.0398 - prc: 0.0419 - val_loss: 0.0792 - val_FBeta2: 0.0128 - val_prc: 0.0080\n",
      "Epoch 7/100\n",
      "98/98 [==============================] - 3s 35ms/step - loss: 0.0600 - FBeta2: 0.0407 - prc: 0.0575 - val_loss: 0.0711 - val_FBeta2: 0.0138 - val_prc: 0.0082\n",
      "Epoch 8/100\n",
      "98/98 [==============================] - 2s 19ms/step - loss: 0.0596 - FBeta2: 0.0423 - prc: 0.0653 - val_loss: 0.0591 - val_FBeta2: 0.0148 - val_prc: 0.0081\n",
      "Epoch 9/100\n",
      "98/98 [==============================] - 2s 19ms/step - loss: 0.0590 - FBeta2: 0.0426 - prc: 0.0751 - val_loss: 0.1080 - val_FBeta2: 0.0106 - val_prc: 0.0085\n",
      "Epoch 10/100\n",
      "98/98 [==============================] - 3s 30ms/step - loss: 0.0592 - FBeta2: 0.0433 - prc: 0.0669 - val_loss: 0.0699 - val_FBeta2: 0.0137 - val_prc: 0.0084\n",
      "Epoch 11/100\n",
      "98/98 [==============================] - 4s 38ms/step - loss: 0.0583 - FBeta2: 0.0434 - prc: 0.0714 - val_loss: 0.0578 - val_FBeta2: 0.0145 - val_prc: 0.0083\n",
      "Epoch 12/100\n",
      "98/98 [==============================] - 3s 33ms/step - loss: 0.0579 - FBeta2: 0.0445 - prc: 0.0772 - val_loss: 0.0931 - val_FBeta2: 0.0119 - val_prc: 0.0084\n",
      "Epoch 13/100\n",
      "98/98 [==============================] - 2s 21ms/step - loss: 0.0578 - FBeta2: 0.0434 - prc: 0.0865 - val_loss: 0.0662 - val_FBeta2: 0.0146 - val_prc: 0.0083\n",
      "Epoch 14/100\n",
      "98/98 [==============================] - 2s 21ms/step - loss: 0.0572 - FBeta2: 0.0451 - prc: 0.0917 - val_loss: 0.0605 - val_FBeta2: 0.0154 - val_prc: 0.0084\n",
      "Epoch 15/100\n",
      "98/98 [==============================] - 3s 36ms/step - loss: 0.0570 - FBeta2: 0.0460 - prc: 0.0865 - val_loss: 0.0703 - val_FBeta2: 0.0142 - val_prc: 0.0081\n",
      "Epoch 16/100\n",
      "98/98 [==============================] - 4s 37ms/step - loss: 0.0567 - FBeta2: 0.0460 - prc: 0.0913 - val_loss: 0.0725 - val_FBeta2: 0.0139 - val_prc: 0.0083\n",
      "Epoch 17/100\n",
      "98/98 [==============================] - 3s 34ms/step - loss: 0.0564 - FBeta2: 0.0473 - prc: 0.1047 - val_loss: 0.0730 - val_FBeta2: 0.0137 - val_prc: 0.0083\n",
      "Epoch 18/100\n",
      "98/98 [==============================] - 4s 36ms/step - loss: 0.0561 - FBeta2: 0.0478 - prc: 0.1033 - val_loss: 0.0671 - val_FBeta2: 0.0143 - val_prc: 0.0081\n",
      "Epoch 19/100\n",
      "98/98 [==============================] - 3s 28ms/step - loss: 0.0564 - FBeta2: 0.0468 - prc: 0.0943 - val_loss: 0.0565 - val_FBeta2: 0.0155 - val_prc: 0.0081\n",
      "Epoch 20/100\n",
      "98/98 [==============================] - 3s 29ms/step - loss: 0.0565 - FBeta2: 0.0470 - prc: 0.0898 - val_loss: 0.0628 - val_FBeta2: 0.0149 - val_prc: 0.0083\n",
      "Epoch 21/100\n",
      "98/98 [==============================] - 3s 27ms/step - loss: 0.0555 - FBeta2: 0.0471 - prc: 0.1057 - val_loss: 0.0757 - val_FBeta2: 0.0136 - val_prc: 0.0081\n",
      "Epoch 22/100\n",
      "98/98 [==============================] - 4s 37ms/step - loss: 0.0559 - FBeta2: 0.0480 - prc: 0.0934 - val_loss: 0.0657 - val_FBeta2: 0.0148 - val_prc: 0.0082\n",
      "Epoch 23/100\n",
      "98/98 [==============================] - 3s 33ms/step - loss: 0.0558 - FBeta2: 0.0473 - prc: 0.1051 - val_loss: 0.0730 - val_FBeta2: 0.0144 - val_prc: 0.0083\n",
      "Epoch 24/100\n",
      "98/98 [==============================] - 3s 35ms/step - loss: 0.0550 - FBeta2: 0.0499 - prc: 0.1125 - val_loss: 0.0744 - val_FBeta2: 0.0138 - val_prc: 0.0082\n",
      "Epoch 25/100\n",
      "98/98 [==============================] - 3s 34ms/step - loss: 0.0547 - FBeta2: 0.0497 - prc: 0.1110 - val_loss: 0.0904 - val_FBeta2: 0.0127 - val_prc: 0.0083\n",
      "Epoch 26/100\n",
      "98/98 [==============================] - 3s 34ms/step - loss: 0.0544 - FBeta2: 0.0516 - prc: 0.1165 - val_loss: 0.0817 - val_FBeta2: 0.0134 - val_prc: 0.0082\n",
      "Epoch 27/100\n",
      "98/98 [==============================] - 3s 34ms/step - loss: 0.0543 - FBeta2: 0.0513 - prc: 0.1124 - val_loss: 0.0750 - val_FBeta2: 0.0140 - val_prc: 0.0081\n",
      "Epoch 28/100\n",
      "98/98 [==============================] - 3s 31ms/step - loss: 0.0541 - FBeta2: 0.0513 - prc: 0.1140 - val_loss: 0.0757 - val_FBeta2: 0.0139 - val_prc: 0.0081\n",
      "Epoch 29/100\n",
      "98/98 [==============================] - 3s 36ms/step - loss: 0.0542 - FBeta2: 0.0515 - prc: 0.1097 - val_loss: 0.0614 - val_FBeta2: 0.0148 - val_prc: 0.0080\n",
      "Epoch 30/100\n",
      "98/98 [==============================] - 3s 33ms/step - loss: 0.0537 - FBeta2: 0.0509 - prc: 0.1144 - val_loss: 0.0629 - val_FBeta2: 0.0150 - val_prc: 0.0080\n",
      "Epoch 31/100\n",
      "98/98 [==============================] - 3s 34ms/step - loss: 0.0539 - FBeta2: 0.0523 - prc: 0.1169 - val_loss: 0.0729 - val_FBeta2: 0.0139 - val_prc: 0.0080\n",
      "Epoch 32/100\n",
      "98/98 [==============================] - 3s 32ms/step - loss: 0.0535 - FBeta2: 0.0520 - prc: 0.1229 - val_loss: 0.0682 - val_FBeta2: 0.0142 - val_prc: 0.0081\n",
      "Epoch 33/100\n",
      "98/98 [==============================] - 2s 21ms/step - loss: 0.0531 - FBeta2: 0.0521 - prc: 0.1213 - val_loss: 0.0666 - val_FBeta2: 0.0147 - val_prc: 0.0082\n",
      "Epoch 34/100\n",
      "98/98 [==============================] - 3s 34ms/step - loss: 0.0530 - FBeta2: 0.0524 - prc: 0.1209 - val_loss: 0.0689 - val_FBeta2: 0.0139 - val_prc: 0.0080\n",
      "Epoch 35/100\n",
      "98/98 [==============================] - 4s 38ms/step - loss: 0.0530 - FBeta2: 0.0534 - prc: 0.1190 - val_loss: 0.0630 - val_FBeta2: 0.0146 - val_prc: 0.0080\n",
      "Epoch 36/100\n",
      "98/98 [==============================] - 4s 39ms/step - loss: 0.0529 - FBeta2: 0.0518 - prc: 0.1195 - val_loss: 0.0732 - val_FBeta2: 0.0139 - val_prc: 0.0080\n",
      "Epoch 37/100\n",
      "98/98 [==============================] - 3s 26ms/step - loss: 0.0525 - FBeta2: 0.0537 - prc: 0.1145 - val_loss: 0.0801 - val_FBeta2: 0.0134 - val_prc: 0.0080\n",
      "Epoch 38/100\n",
      "98/98 [==============================] - 3s 33ms/step - loss: 0.0520 - FBeta2: 0.0542 - prc: 0.1242 - val_loss: 0.0745 - val_FBeta2: 0.0134 - val_prc: 0.0079\n",
      "Epoch 39/100\n",
      "98/98 [==============================] - 3s 35ms/step - loss: 0.0518 - FBeta2: 0.0542 - prc: 0.1252 - val_loss: 0.0621 - val_FBeta2: 0.0149 - val_prc: 0.0079\n",
      "Epoch 40/100\n",
      "98/98 [==============================] - 3s 34ms/step - loss: 0.0526 - FBeta2: 0.0503 - prc: 0.1066 - val_loss: 0.0748 - val_FBeta2: 0.0136 - val_prc: 0.0078\n",
      "Epoch 41/100\n",
      "98/98 [==============================] - 4s 37ms/step - loss: 0.0516 - FBeta2: 0.0539 - prc: 0.1307 - val_loss: 0.0843 - val_FBeta2: 0.0129 - val_prc: 0.0079\n",
      "Epoch 42/100\n",
      "98/98 [==============================] - 3s 33ms/step - loss: 0.0522 - FBeta2: 0.0524 - prc: 0.1162 - val_loss: 0.0947 - val_FBeta2: 0.0120 - val_prc: 0.0081\n",
      "Epoch 43/100\n",
      "98/98 [==============================] - 4s 36ms/step - loss: 0.0513 - FBeta2: 0.0512 - prc: 0.1182 - val_loss: 0.0729 - val_FBeta2: 0.0136 - val_prc: 0.0080\n",
      "Epoch 44/100\n",
      "98/98 [==============================] - 3s 28ms/step - loss: 0.0515 - FBeta2: 0.0545 - prc: 0.1322 - val_loss: 0.0651 - val_FBeta2: 0.0146 - val_prc: 0.0081\n",
      "Epoch 45/100\n",
      "98/98 [==============================] - 3s 33ms/step - loss: 0.0512 - FBeta2: 0.0525 - prc: 0.1233 - val_loss: 0.0996 - val_FBeta2: 0.0114 - val_prc: 0.0078\n",
      "Epoch 46/100\n",
      "98/98 [==============================] - 4s 37ms/step - loss: 0.0508 - FBeta2: 0.0541 - prc: 0.1188 - val_loss: 0.0624 - val_FBeta2: 0.0151 - val_prc: 0.0082\n",
      "Epoch 47/100\n",
      "98/98 [==============================] - 2s 24ms/step - loss: 0.0507 - FBeta2: 0.0526 - prc: 0.1226 - val_loss: 0.0713 - val_FBeta2: 0.0132 - val_prc: 0.0078\n",
      "Epoch 48/100\n",
      "98/98 [==============================] - 2s 21ms/step - loss: 0.0501 - FBeta2: 0.0541 - prc: 0.1319 - val_loss: 0.0632 - val_FBeta2: 0.0148 - val_prc: 0.0080\n"
     ]
    },
    {
     "name": "stdout",
     "output_type": "stream",
     "text": [
      "Epoch 49/100\n",
      "98/98 [==============================] - 3s 35ms/step - loss: 0.0494 - FBeta2: 0.0561 - prc: 0.1331 - val_loss: 0.0851 - val_FBeta2: 0.0131 - val_prc: 0.0079\n",
      "Epoch 50/100\n",
      "98/98 [==============================] - 3s 34ms/step - loss: 0.0494 - FBeta2: 0.0540 - prc: 0.1266 - val_loss: 0.0739 - val_FBeta2: 0.0135 - val_prc: 0.0077\n",
      "Epoch 51/100\n",
      "98/98 [==============================] - 2s 20ms/step - loss: 0.0499 - FBeta2: 0.0524 - prc: 0.1133 - val_loss: 0.0740 - val_FBeta2: 0.0138 - val_prc: 0.0079\n",
      "Epoch 52/100\n",
      "98/98 [==============================] - 3s 26ms/step - loss: 0.0495 - FBeta2: 0.0532 - prc: 0.1331 - val_loss: 0.0877 - val_FBeta2: 0.0126 - val_prc: 0.0078\n",
      "Epoch 53/100\n",
      "98/98 [==============================] - 3s 29ms/step - loss: 0.0494 - FBeta2: 0.0533 - prc: 0.1292 - val_loss: 0.0608 - val_FBeta2: 0.0137 - val_prc: 0.0076\n",
      "Epoch 54/100\n",
      "98/98 [==============================] - 3s 34ms/step - loss: 0.0489 - FBeta2: 0.0545 - prc: 0.1318 - val_loss: 0.0774 - val_FBeta2: 0.0133 - val_prc: 0.0077\n",
      "Epoch 55/100\n",
      "98/98 [==============================] - 3s 30ms/step - loss: 0.0484 - FBeta2: 0.0549 - prc: 0.1169 - val_loss: 0.0754 - val_FBeta2: 0.0131 - val_prc: 0.0077\n",
      "Epoch 56/100\n",
      "98/98 [==============================] - 3s 31ms/step - loss: 0.0486 - FBeta2: 0.0535 - prc: 0.1207 - val_loss: 0.0631 - val_FBeta2: 0.0132 - val_prc: 0.0076\n",
      "Epoch 57/100\n",
      "98/98 [==============================] - 3s 31ms/step - loss: 0.0479 - FBeta2: 0.0542 - prc: 0.1313 - val_loss: 0.0481 - val_FBeta2: 0.0155 - val_prc: 0.0077\n",
      "Epoch 58/100\n",
      "98/98 [==============================] - 2s 18ms/step - loss: 0.0490 - FBeta2: 0.0517 - prc: 0.1215 - val_loss: 0.0743 - val_FBeta2: 0.0127 - val_prc: 0.0076\n",
      "Epoch 59/100\n",
      "98/98 [==============================] - 3s 31ms/step - loss: 0.0480 - FBeta2: 0.0527 - prc: 0.1337 - val_loss: 0.0529 - val_FBeta2: 0.0147 - val_prc: 0.0075\n",
      "Epoch 60/100\n",
      "98/98 [==============================] - 4s 36ms/step - loss: 0.0479 - FBeta2: 0.0520 - prc: 0.1248 - val_loss: 0.0639 - val_FBeta2: 0.0133 - val_prc: 0.0077\n",
      "Epoch 61/100\n",
      "98/98 [==============================] - 2s 20ms/step - loss: 0.0470 - FBeta2: 0.0548 - prc: 0.1285 - val_loss: 0.0792 - val_FBeta2: 0.0123 - val_prc: 0.0075\n",
      "Epoch 62/100\n",
      "98/98 [==============================] - 4s 39ms/step - loss: 0.0468 - FBeta2: 0.0520 - prc: 0.1341 - val_loss: 0.0473 - val_FBeta2: 0.0158 - val_prc: 0.0075\n",
      "Epoch 63/100\n",
      "98/98 [==============================] - 3s 31ms/step - loss: 0.0464 - FBeta2: 0.0525 - prc: 0.1308 - val_loss: 0.0459 - val_FBeta2: 0.0159 - val_prc: 0.0074\n",
      "Epoch 64/100\n",
      "98/98 [==============================] - 2s 24ms/step - loss: 0.0465 - FBeta2: 0.0524 - prc: 0.1271 - val_loss: 0.0646 - val_FBeta2: 0.0132 - val_prc: 0.0076\n",
      "Epoch 65/100\n",
      "98/98 [==============================] - 3s 35ms/step - loss: 0.0453 - FBeta2: 0.0534 - prc: 0.1367 - val_loss: 0.0585 - val_FBeta2: 0.0140 - val_prc: 0.0075\n",
      "Epoch 66/100\n",
      "98/98 [==============================] - 3s 30ms/step - loss: 0.0454 - FBeta2: 0.0523 - prc: 0.1388 - val_loss: 0.0610 - val_FBeta2: 0.0135 - val_prc: 0.0076\n",
      "Epoch 67/100\n",
      "98/98 [==============================] - 3s 28ms/step - loss: 0.0456 - FBeta2: 0.0535 - prc: 0.1305 - val_loss: 0.0742 - val_FBeta2: 0.0124 - val_prc: 0.0075\n",
      "Epoch 68/100\n",
      "98/98 [==============================] - 3s 28ms/step - loss: 0.0450 - FBeta2: 0.0528 - prc: 0.1311 - val_loss: 0.0811 - val_FBeta2: 0.0116 - val_prc: 0.0072\n",
      "Epoch 69/100\n",
      "98/98 [==============================] - 2s 19ms/step - loss: 0.0454 - FBeta2: 0.0520 - prc: 0.1329 - val_loss: 0.0668 - val_FBeta2: 0.0126 - val_prc: 0.0071\n",
      "Epoch 70/100\n",
      "98/98 [==============================] - 3s 33ms/step - loss: 0.0444 - FBeta2: 0.0516 - prc: 0.1410 - val_loss: 0.0560 - val_FBeta2: 0.0137 - val_prc: 0.0074\n",
      "Epoch 71/100\n",
      "98/98 [==============================] - 2s 20ms/step - loss: 0.0451 - FBeta2: 0.0502 - prc: 0.1278 - val_loss: 0.0941 - val_FBeta2: 0.0113 - val_prc: 0.0072\n",
      "Epoch 72/100\n",
      "98/98 [==============================] - 3s 28ms/step - loss: 0.0438 - FBeta2: 0.0516 - prc: 0.1368 - val_loss: 0.0919 - val_FBeta2: 0.0114 - val_prc: 0.0073\n",
      "Epoch 73/100\n",
      "98/98 [==============================] - 3s 34ms/step - loss: 0.0438 - FBeta2: 0.0522 - prc: 0.1313 - val_loss: 0.0600 - val_FBeta2: 0.0135 - val_prc: 0.0073\n",
      "Epoch 74/100\n",
      "98/98 [==============================] - 2s 21ms/step - loss: 0.0436 - FBeta2: 0.0515 - prc: 0.1308 - val_loss: 0.0700 - val_FBeta2: 0.0123 - val_prc: 0.0072\n",
      "Epoch 75/100\n",
      "98/98 [==============================] - 4s 41ms/step - loss: 0.0434 - FBeta2: 0.0521 - prc: 0.1352 - val_loss: 0.0757 - val_FBeta2: 0.0120 - val_prc: 0.0073\n",
      "Epoch 76/100\n",
      "98/98 [==============================] - 3s 35ms/step - loss: 0.0428 - FBeta2: 0.0536 - prc: 0.1218 - val_loss: 0.0734 - val_FBeta2: 0.0124 - val_prc: 0.0075\n",
      "Epoch 77/100\n",
      "98/98 [==============================] - 2s 22ms/step - loss: 0.0425 - FBeta2: 0.0501 - prc: 0.1435 - val_loss: 0.0595 - val_FBeta2: 0.0133 - val_prc: 0.0073\n",
      "Epoch 78/100\n",
      "98/98 [==============================] - 4s 38ms/step - loss: 0.0427 - FBeta2: 0.0511 - prc: 0.1312 - val_loss: 0.0620 - val_FBeta2: 0.0129 - val_prc: 0.0073\n",
      "Epoch 79/100\n",
      "98/98 [==============================] - 3s 29ms/step - loss: 0.0435 - FBeta2: 0.0502 - prc: 0.1215 - val_loss: 0.0680 - val_FBeta2: 0.0130 - val_prc: 0.0075\n",
      "Epoch 80/100\n",
      "98/98 [==============================] - 2s 20ms/step - loss: 0.0420 - FBeta2: 0.0516 - prc: 0.1292 - val_loss: 0.0644 - val_FBeta2: 0.0124 - val_prc: 0.0073\n",
      "Epoch 81/100\n",
      "98/98 [==============================] - 3s 32ms/step - loss: 0.0416 - FBeta2: 0.0506 - prc: 0.1323 - val_loss: 0.0634 - val_FBeta2: 0.0128 - val_prc: 0.0073\n",
      "Epoch 82/100\n",
      "98/98 [==============================] - 2s 18ms/step - loss: 0.0418 - FBeta2: 0.0504 - prc: 0.1268 - val_loss: 0.0583 - val_FBeta2: 0.0135 - val_prc: 0.0073\n",
      "Epoch 83/100\n",
      "98/98 [==============================] - 4s 36ms/step - loss: 0.0415 - FBeta2: 0.0508 - prc: 0.1396 - val_loss: 0.0652 - val_FBeta2: 0.0128 - val_prc: 0.0070\n",
      "Epoch 84/100\n",
      "98/98 [==============================] - 3s 34ms/step - loss: 0.0413 - FBeta2: 0.0525 - prc: 0.1354 - val_loss: 0.0564 - val_FBeta2: 0.0132 - val_prc: 0.0071\n",
      "Epoch 85/100\n",
      "98/98 [==============================] - 3s 29ms/step - loss: 0.0413 - FBeta2: 0.0512 - prc: 0.1370 - val_loss: 0.0722 - val_FBeta2: 0.0122 - val_prc: 0.0072\n",
      "Epoch 86/100\n",
      "98/98 [==============================] - 3s 32ms/step - loss: 0.0404 - FBeta2: 0.0482 - prc: 0.1298 - val_loss: 0.0622 - val_FBeta2: 0.0128 - val_prc: 0.0073\n",
      "Epoch 87/100\n",
      "98/98 [==============================] - 4s 36ms/step - loss: 0.0408 - FBeta2: 0.0509 - prc: 0.1249 - val_loss: 0.0491 - val_FBeta2: 0.0135 - val_prc: 0.0072\n",
      "Epoch 88/100\n",
      "98/98 [==============================] - 2s 20ms/step - loss: 0.0395 - FBeta2: 0.0506 - prc: 0.1332 - val_loss: 0.0707 - val_FBeta2: 0.0125 - val_prc: 0.0072\n",
      "Epoch 89/100\n",
      "98/98 [==============================] - 3s 35ms/step - loss: 0.0402 - FBeta2: 0.0491 - prc: 0.1315 - val_loss: 0.0700 - val_FBeta2: 0.0119 - val_prc: 0.0070\n",
      "Epoch 90/100\n",
      "98/98 [==============================] - 3s 31ms/step - loss: 0.0388 - FBeta2: 0.0500 - prc: 0.1346 - val_loss: 0.0844 - val_FBeta2: 0.0116 - val_prc: 0.0071\n",
      "Epoch 91/100\n",
      "98/98 [==============================] - 2s 18ms/step - loss: 0.0405 - FBeta2: 0.0476 - prc: 0.1205 - val_loss: 0.0502 - val_FBeta2: 0.0136 - val_prc: 0.0073\n",
      "Epoch 92/100\n",
      "98/98 [==============================] - 2s 23ms/step - loss: 0.0399 - FBeta2: 0.0514 - prc: 0.1238 - val_loss: 0.0602 - val_FBeta2: 0.0132 - val_prc: 0.0072\n",
      "Epoch 93/100\n",
      "98/98 [==============================] - 2s 22ms/step - loss: 0.0391 - FBeta2: 0.0496 - prc: 0.1280 - val_loss: 0.0877 - val_FBeta2: 0.0114 - val_prc: 0.0075\n",
      "Epoch 94/100\n",
      "98/98 [==============================] - 2s 23ms/step - loss: 0.0393 - FBeta2: 0.0485 - prc: 0.1330 - val_loss: 0.0597 - val_FBeta2: 0.0129 - val_prc: 0.0070\n",
      "Epoch 95/100\n",
      "98/98 [==============================] - 3s 25ms/step - loss: 0.0393 - FBeta2: 0.0494 - prc: 0.1220 - val_loss: 0.0794 - val_FBeta2: 0.0119 - val_prc: 0.0073\n",
      "Epoch 96/100\n",
      "98/98 [==============================] - 2s 23ms/step - loss: 0.0389 - FBeta2: 0.0504 - prc: 0.1306 - val_loss: 0.0672 - val_FBeta2: 0.0121 - val_prc: 0.0069\n"
     ]
    },
    {
     "name": "stdout",
     "output_type": "stream",
     "text": [
      "Epoch 97/100\n",
      "98/98 [==============================] - 2s 20ms/step - loss: 0.0403 - FBeta2: 0.0474 - prc: 0.1278 - val_loss: 0.0391 - val_FBeta2: 0.0141 - val_prc: 0.0069\n",
      "Epoch 98/100\n",
      "98/98 [==============================] - 2s 22ms/step - loss: 0.0397 - FBeta2: 0.0499 - prc: 0.1308 - val_loss: 0.0601 - val_FBeta2: 0.0127 - val_prc: 0.0072\n",
      "Epoch 99/100\n",
      "98/98 [==============================] - 2s 21ms/step - loss: 0.0376 - FBeta2: 0.0489 - prc: 0.1325 - val_loss: 0.0670 - val_FBeta2: 0.0125 - val_prc: 0.0072\n",
      "Epoch 100/100\n",
      "98/98 [==============================] - 3s 28ms/step - loss: 0.0371 - FBeta2: 0.0492 - prc: 0.1398 - val_loss: 0.0612 - val_FBeta2: 0.0124 - val_prc: 0.0069\n"
     ]
    }
   ],
   "source": [
    "EPOCHS = 100\n",
    "batch_size = 3000\n",
    "fit_model=model.fit(trainX, trainy,\n",
    "        batch_size = batch_size,\n",
    "        epochs=EPOCHS, \n",
    "        verbose=1,\n",
    "        validation_data = (tvalX, tvaly),  \n",
    "        class_weight={0 : 0.5, 1 : 169})\n"
   ]
  },
  {
   "cell_type": "code",
   "execution_count": 305,
   "metadata": {},
   "outputs": [
    {
     "data": {
      "image/png": "[encoded data removed]",
      "text/plain": [
       "<Figure size 432x288 with 1 Axes>"
      ]
     },
     "metadata": {
      "needs_background": "light"
     },
     "output_type": "display_data"
    }
   ],
   "source": [
    "# loss function value for train and for validation setes by epoch.\n",
    "\n",
    "def plot_loss(fited_model):\n",
    "  plt.semilogy(fited_model.epoch, fited_model.history['loss'], label='Train ' )\n",
    "  plt.semilogy(fited_model.epoch, fited_model.history['val_loss'], label='Val ' ,linestyle=\"--\")\n",
    "  plt.xlabel('Epochs')\n",
    "  plt.ylabel('Focal Loss value')\n",
    "plot_loss(fit_model)"
   ]
  },
  {
   "cell_type": "code",
   "execution_count": 306,
   "metadata": {},
   "outputs": [
    {
     "data": {
      "image/png": "[encoded data removed]",
      "text/plain": [
       "<Figure size 432x288 with 2 Axes>"
      ]
     },
     "metadata": {
      "needs_background": "light"
     },
     "output_type": "display_data"
    }
   ],
   "source": [
    "# metrics ('FBeta2' and 'prc') values for train and for validation setes by epoch.\n",
    "def plot_metrics(history):\n",
    "  metrics = ['FBeta2', 'prc']\n",
    "  for n, metric in enumerate(metrics):\n",
    "    name = metric.replace(\"_\",\" \").capitalize()\n",
    "    plt.subplot(2,1,n+1)\n",
    "    plt.plot(history.epoch, history.history[metric],label='Train')\n",
    "    plt.plot(history.epoch, history.history['val_'+metric],linestyle=\"--\", label='Val')\n",
    "    plt.xlabel('Epoch')\n",
    "    plt.ylabel(name)\n",
    "    plt.legend();\n",
    "plot_metrics(fit_model)"
   ]
  },
  {
   "cell_type": "markdown",
   "metadata": {},
   "source": [
    "## Test Evaluate the model performance."
   ]
  },
  {
   "cell_type": "code",
   "execution_count": 307,
   "metadata": {},
   "outputs": [],
   "source": [
    "## Prediction on test data. \n",
    "y_pred = model.predict(testX)\n",
    "y_pred_proba=y_pred[:,0]\n",
    "y_label=testy['TOP_FRAUDE']\n",
    "\n",
    "# Proportion of predected outliers by reel outliers. \n",
    "def plot_proportion_anomalies(y_label,y_pred_proba) :\n",
    "    s = [(i,y) for i,y in zip(y_label,y_pred_proba)]\n",
    "    #print(s)\n",
    "    s = sorted(s, key=lambda item: item[1])\n",
    "    anomalies_sorted = [i[0] for i in s]\n",
    "    number_anomalies = sum(anomalies_sorted)\n",
    "    liste_prop_anomalies = []\n",
    "\n",
    "    for seuil in range(0,100,1) :\n",
    "        borne_inf = int(len(anomalies_sorted)*(1-seuil/100))\n",
    "        number_ano_sample = sum(anomalies_sorted[borne_inf:])\n",
    "        liste_prop_anomalies.append(number_ano_sample/number_anomalies)\n",
    "        print(\"Pour le seuil : :\",seuil,\"il y'a un pourcentage de :\",number_ano_sample/number_anomalies)\n",
    "\n",
    "    plt.plot( range(0,100,1),np.array(liste_prop_anomalies)*100)\n",
    "    plt.plot(range(0,100,1),range(0,100,1))"
   ]
  },
  {
   "cell_type": "code",
   "execution_count": 308,
   "metadata": {},
   "outputs": [
    {
     "name": "stdout",
     "output_type": "stream",
     "text": [
      "Pour le seuil : : 0 il y'a un pourcentage de : 0.0\n",
      "Pour le seuil : : 1 il y'a un pourcentage de : 0.04743083003952569\n",
      "Pour le seuil : : 2 il y'a un pourcentage de : 0.09090909090909091\n",
      "Pour le seuil : : 3 il y'a un pourcentage de : 0.1422924901185771\n",
      "Pour le seuil : : 4 il y'a un pourcentage de : 0.18972332015810275\n",
      "Pour le seuil : : 5 il y'a un pourcentage de : 0.23715415019762845\n",
      "Pour le seuil : : 6 il y'a un pourcentage de : 0.2608695652173913\n",
      "Pour le seuil : : 7 il y'a un pourcentage de : 0.31620553359683795\n",
      "Pour le seuil : : 8 il y'a un pourcentage de : 0.3557312252964427\n",
      "Pour le seuil : : 9 il y'a un pourcentage de : 0.3952569169960474\n",
      "Pour le seuil : : 10 il y'a un pourcentage de : 0.4268774703557312\n",
      "Pour le seuil : : 11 il y'a un pourcentage de : 0.4624505928853755\n",
      "Pour le seuil : : 12 il y'a un pourcentage de : 0.48616600790513836\n",
      "Pour le seuil : : 13 il y'a un pourcentage de : 0.5138339920948617\n",
      "Pour le seuil : : 14 il y'a un pourcentage de : 0.5335968379446641\n",
      "Pour le seuil : : 15 il y'a un pourcentage de : 0.5533596837944664\n",
      "Pour le seuil : : 16 il y'a un pourcentage de : 0.5612648221343873\n",
      "Pour le seuil : : 17 il y'a un pourcentage de : 0.5691699604743083\n",
      "Pour le seuil : : 18 il y'a un pourcentage de : 0.5849802371541502\n",
      "Pour le seuil : : 19 il y'a un pourcentage de : 0.5928853754940712\n",
      "Pour le seuil : : 20 il y'a un pourcentage de : 0.616600790513834\n",
      "Pour le seuil : : 21 il y'a un pourcentage de : 0.6324110671936759\n",
      "Pour le seuil : : 22 il y'a un pourcentage de : 0.6442687747035574\n",
      "Pour le seuil : : 23 il y'a un pourcentage de : 0.6521739130434783\n",
      "Pour le seuil : : 24 il y'a un pourcentage de : 0.6561264822134387\n",
      "Pour le seuil : : 25 il y'a un pourcentage de : 0.6679841897233202\n",
      "Pour le seuil : : 26 il y'a un pourcentage de : 0.6798418972332015\n",
      "Pour le seuil : : 27 il y'a un pourcentage de : 0.6837944664031621\n",
      "Pour le seuil : : 28 il y'a un pourcentage de : 0.691699604743083\n",
      "Pour le seuil : : 29 il y'a un pourcentage de : 0.6956521739130435\n",
      "Pour le seuil : : 30 il y'a un pourcentage de : 0.6996047430830039\n",
      "Pour le seuil : : 31 il y'a un pourcentage de : 0.7154150197628458\n",
      "Pour le seuil : : 32 il y'a un pourcentage de : 0.7312252964426877\n",
      "Pour le seuil : : 33 il y'a un pourcentage de : 0.7430830039525692\n",
      "Pour le seuil : : 34 il y'a un pourcentage de : 0.7470355731225297\n",
      "Pour le seuil : : 35 il y'a un pourcentage de : 0.7509881422924901\n",
      "Pour le seuil : : 36 il y'a un pourcentage de : 0.766798418972332\n",
      "Pour le seuil : : 37 il y'a un pourcentage de : 0.7747035573122529\n",
      "Pour le seuil : : 38 il y'a un pourcentage de : 0.7786561264822134\n",
      "Pour le seuil : : 39 il y'a un pourcentage de : 0.782608695652174\n",
      "Pour le seuil : : 40 il y'a un pourcentage de : 0.7865612648221344\n",
      "Pour le seuil : : 41 il y'a un pourcentage de : 0.7944664031620553\n",
      "Pour le seuil : : 42 il y'a un pourcentage de : 0.8023715415019763\n",
      "Pour le seuil : : 43 il y'a un pourcentage de : 0.8181818181818182\n",
      "Pour le seuil : : 44 il y'a un pourcentage de : 0.8379446640316206\n",
      "Pour le seuil : : 45 il y'a un pourcentage de : 0.841897233201581\n",
      "Pour le seuil : : 46 il y'a un pourcentage de : 0.849802371541502\n",
      "Pour le seuil : : 47 il y'a un pourcentage de : 0.849802371541502\n",
      "Pour le seuil : : 48 il y'a un pourcentage de : 0.8537549407114624\n",
      "Pour le seuil : : 49 il y'a un pourcentage de : 0.857707509881423\n",
      "Pour le seuil : : 50 il y'a un pourcentage de : 0.8616600790513834\n",
      "Pour le seuil : : 51 il y'a un pourcentage de : 0.8656126482213439\n",
      "Pour le seuil : : 52 il y'a un pourcentage de : 0.8735177865612648\n",
      "Pour le seuil : : 53 il y'a un pourcentage de : 0.8735177865612648\n",
      "Pour le seuil : : 54 il y'a un pourcentage de : 0.8735177865612648\n",
      "Pour le seuil : : 55 il y'a un pourcentage de : 0.8735177865612648\n",
      "Pour le seuil : : 56 il y'a un pourcentage de : 0.8853754940711462\n",
      "Pour le seuil : : 57 il y'a un pourcentage de : 0.8853754940711462\n",
      "Pour le seuil : : 58 il y'a un pourcentage de : 0.9011857707509882\n",
      "Pour le seuil : : 59 il y'a un pourcentage de : 0.9051383399209486\n",
      "Pour le seuil : : 60 il y'a un pourcentage de : 0.9169960474308301\n",
      "Pour le seuil : : 61 il y'a un pourcentage de : 0.9169960474308301\n",
      "Pour le seuil : : 62 il y'a un pourcentage de : 0.924901185770751\n",
      "Pour le seuil : : 63 il y'a un pourcentage de : 0.9288537549407114\n",
      "Pour le seuil : : 64 il y'a un pourcentage de : 0.9288537549407114\n",
      "Pour le seuil : : 65 il y'a un pourcentage de : 0.932806324110672\n",
      "Pour le seuil : : 66 il y'a un pourcentage de : 0.9407114624505929\n",
      "Pour le seuil : : 67 il y'a un pourcentage de : 0.9407114624505929\n",
      "Pour le seuil : : 68 il y'a un pourcentage de : 0.9407114624505929\n",
      "Pour le seuil : : 69 il y'a un pourcentage de : 0.9446640316205533\n",
      "Pour le seuil : : 70 il y'a un pourcentage de : 0.9446640316205533\n",
      "Pour le seuil : : 71 il y'a un pourcentage de : 0.9525691699604744\n",
      "Pour le seuil : : 72 il y'a un pourcentage de : 0.9525691699604744\n",
      "Pour le seuil : : 73 il y'a un pourcentage de : 0.9565217391304348\n",
      "Pour le seuil : : 74 il y'a un pourcentage de : 0.9565217391304348\n",
      "Pour le seuil : : 75 il y'a un pourcentage de : 0.9644268774703557\n",
      "Pour le seuil : : 76 il y'a un pourcentage de : 0.9683794466403162\n",
      "Pour le seuil : : 77 il y'a un pourcentage de : 0.9683794466403162\n",
      "Pour le seuil : : 78 il y'a un pourcentage de : 0.9723320158102767\n",
      "Pour le seuil : : 79 il y'a un pourcentage de : 0.9723320158102767\n",
      "Pour le seuil : : 80 il y'a un pourcentage de : 0.9762845849802372\n",
      "Pour le seuil : : 81 il y'a un pourcentage de : 0.9802371541501976\n",
      "Pour le seuil : : 82 il y'a un pourcentage de : 0.9802371541501976\n",
      "Pour le seuil : : 83 il y'a un pourcentage de : 0.9802371541501976\n",
      "Pour le seuil : : 84 il y'a un pourcentage de : 0.9841897233201581\n",
      "Pour le seuil : : 85 il y'a un pourcentage de : 0.9881422924901185\n",
      "Pour le seuil : : 86 il y'a un pourcentage de : 0.9881422924901185\n",
      "Pour le seuil : : 87 il y'a un pourcentage de : 0.9920948616600791\n",
      "Pour le seuil : : 88 il y'a un pourcentage de : 0.9920948616600791\n",
      "Pour le seuil : : 89 il y'a un pourcentage de : 0.9920948616600791\n",
      "Pour le seuil : : 90 il y'a un pourcentage de : 0.9920948616600791\n",
      "Pour le seuil : : 91 il y'a un pourcentage de : 0.9960474308300395\n",
      "Pour le seuil : : 92 il y'a un pourcentage de : 0.9960474308300395\n",
      "Pour le seuil : : 93 il y'a un pourcentage de : 1.0\n",
      "Pour le seuil : : 94 il y'a un pourcentage de : 1.0\n",
      "Pour le seuil : : 95 il y'a un pourcentage de : 1.0\n",
      "Pour le seuil : : 96 il y'a un pourcentage de : 1.0\n",
      "Pour le seuil : : 97 il y'a un pourcentage de : 1.0\n",
      "Pour le seuil : : 98 il y'a un pourcentage de : 1.0\n",
      "Pour le seuil : : 99 il y'a un pourcentage de : 1.0\n"
     ]
    },
    {
     "data": {
      "image/png": "[encoded data removed]",
      "text/plain": [
       "<Figure size 432x288 with 1 Axes>"
      ]
     },
     "metadata": {
      "needs_background": "light"
     },
     "output_type": "display_data"
    }
   ],
   "source": [
    "plot_proportion_anomalies(y_label,y_pred_proba)"
   ]
  },
  {
   "cell_type": "code",
   "execution_count": 309,
   "metadata": {},
   "outputs": [
    {
     "data": {
      "image/png": "[encoded data removed]",
      "text/plain": [
       "<Figure size 360x360 with 2 Axes>"
      ]
     },
     "metadata": {
      "needs_background": "light"
     },
     "output_type": "display_data"
    }
   ],
   "source": [
    "def plot_cm(labels, predictions, p=0.5):\n",
    "  cm = confusion_matrix(labels, predictions > p)\n",
    "  plt.figure(figsize=(5,5))\n",
    "  sns.heatmap(cm, annot=True, fmt=\"d\")\n",
    "  plt.title('Matrice de confusion pour {:.2f}'.format(p))\n",
    "  plt.ylabel('True class label')\n",
    "  plt.xlabel('Predicted class label')\n",
    "test_predictions=model.predict(testX, batch_size=3000)\n",
    "plot_cm(testy, test_predictions)\n",
    "# as we can see the model found 142 outliers of class 1 for a threshold 0.5 of probabilty."
   ]
  }
 ],
 "metadata": {
  "kernelspec": {
   "display_name": "Python 3",
   "language": "python",
   "name": "python3"
  },
  "language_info": {
   "codemirror_mode": {
    "name": "ipython",
    "version": 3
   },
   "file_extension": ".py",
   "mimetype": "text/x-python",
   "name": "python",
   "nbconvert_exporter": "python",
   "pygments_lexer": "ipython3",
   "version": "3.7.7"
  }
 },
 "nbformat": 4,
 "nbformat_minor": 4
}
