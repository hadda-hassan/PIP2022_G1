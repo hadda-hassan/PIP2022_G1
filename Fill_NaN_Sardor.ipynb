{
 "cells": [
  {
   "cell_type": "markdown",
   "id": "119d48e7",
   "metadata": {},
   "source": [
    "# Remplir les NaN par Sardor"
   ]
  },
  {
   "cell_type": "markdown",
   "id": "0943b91e",
   "metadata": {},
   "source": [
    "# Import "
   ]
  },
  {
   "cell_type": "code",
   "execution_count": 33,
   "id": "72fd6792",
   "metadata": {},
   "outputs": [],
   "source": [
    "import seaborn as sns\n",
    "import pandas as pd\n",
    "import numpy as np\n",
    "import zipfile\n",
    "from matplotlib import pyplot as plt\n",
    "import re\n",
    "import sweetviz as sv\n",
    "from scipy.stats import skew\n",
    "from math import *\n",
    "\n",
    "from fonction_import_data import afficher_fichier_zip, import_data, readme"
   ]
  },
  {
   "cell_type": "markdown",
   "id": "e669ff42",
   "metadata": {},
   "source": [
    "# Lecture des données"
   ]
  },
  {
   "cell_type": "markdown",
   "id": "473a11ee",
   "metadata": {},
   "source": [
    "## Chemin où est stocké le dossier DATA1.zip"
   ]
  },
  {
   "cell_type": "code",
   "execution_count": 2,
   "id": "ecef4721",
   "metadata": {},
   "outputs": [],
   "source": [
    "path = '/Users/sardor/Documents/PIP_2022NA/'"
   ]
  },
  {
   "cell_type": "markdown",
   "id": "b8733356",
   "metadata": {},
   "source": [
    "## Import des données"
   ]
  },
  {
   "cell_type": "code",
   "execution_count": 3,
   "id": "f79b6417",
   "metadata": {},
   "outputs": [
    {
     "data": {
      "text/plain": [
       "['DATA1/',\n",
       " 'DATA1/DONNEES_BRUTES/',\n",
       " 'DATA1/DONNEES_BRUTES/DATA_FRAUDE_LANGUEDOC.csv',\n",
       " 'DATA1/DONNEES_BRUTES/DATA_FRAUDE_TOULOUSE.csv',\n",
       " 'DATA1/DONNEES_CONCAT_TLSE-LD/',\n",
       " 'DATA1/DONNEES_CONCAT_TLSE-LD/DATA1_COMPLET.csv',\n",
       " 'DATA1/DONNEES_CONCAT_TLSE-LD/ID_FRAUDE.CSV',\n",
       " 'DATA1/ECHANTILLONS/',\n",
       " 'DATA1/ECHANTILLONS/ECHANTILLON10/',\n",
       " 'DATA1/ECHANTILLONS/ECHANTILLON10/TRAIN/',\n",
       " 'DATA1/ECHANTILLONS/ECHANTILLON10/TRAIN/x_train_10.csv',\n",
       " 'DATA1/ECHANTILLONS/ECHANTILLON10/TRAIN/y_train_10.csv',\n",
       " 'DATA1/ECHANTILLONS/ECHANTILLON10/TEST/',\n",
       " 'DATA1/ECHANTILLONS/ECHANTILLON10/TEST/x_test_10.csv',\n",
       " 'DATA1/ECHANTILLONS/ECHANTILLON10/TEST/y_test_10.csv',\n",
       " 'DATA1/ECHANTILLONS/ECHANTILLON10/echantillon10.csv',\n",
       " 'DATA1/ECHANTILLONS/ECHANTILLON50/',\n",
       " 'DATA1/ECHANTILLONS/ECHANTILLON50/TRAIN/',\n",
       " 'DATA1/ECHANTILLONS/ECHANTILLON50/TRAIN/x_train_50.csv',\n",
       " 'DATA1/ECHANTILLONS/ECHANTILLON50/TRAIN/y_train_50.csv',\n",
       " 'DATA1/ECHANTILLONS/ECHANTILLON50/TEST/',\n",
       " 'DATA1/ECHANTILLONS/ECHANTILLON50/TEST/x_test_50.csv',\n",
       " 'DATA1/ECHANTILLONS/ECHANTILLON50/TEST/y_test_50.csv',\n",
       " 'DATA1/ECHANTILLONS/ECHANTILLON50/echantillon50.csv',\n",
       " 'DATA1/Dictionnaire_Data1.xlsx',\n",
       " 'DATA1/README.txt']"
      ]
     },
     "execution_count": 3,
     "metadata": {},
     "output_type": "execute_result"
    }
   ],
   "source": [
    "#Arborescence des fichiers \n",
    "afficher_fichier_zip(path, 'DATA1.zip')"
   ]
  },
  {
   "cell_type": "markdown",
   "id": "b534cf1e",
   "metadata": {},
   "source": [
    "## Lecture du READ ME\n"
   ]
  },
  {
   "cell_type": "code",
   "execution_count": 4,
   "id": "5067d957",
   "metadata": {},
   "outputs": [
    {
     "name": "stdout",
     "output_type": "stream",
     "text": [
      "b'\\r\\n'\n",
      "b'Ce dossier ZIP contient :\\r\\n'\n",
      "b'\\t1- Un dossier \"DONNEES_BRUTES\"  :\\r\\n'\n",
      "b'\\t- DATA_FRAUDE_LANGUEDOC.csv et DATA_FRAUDE_TOULOUSE.csv : les jeux donnees bruts pour Toulouse et Languedoc fournis par le Credit Agricole sans aucune modification.\\r\\n'\n",
      "b'\\t2- Un dossier \"DONNEES_CONCAT_TLSE-LD\":\\r\\n'\n",
      "b'\\t- DATA1_COMPLET.csv : Concatenation des jeux de donnees Toulouse et Languedoc.\\r\\n'\n",
      "b'\\t- ID_FRAUDE.csv : fichier csv contenant les colonnes id et TOP_FRAUDE (fraude (1), pas fraude (0))\\r\\n'\n",
      "b'\\t3- Un dossier \"ECHANTILLONS\" : \\r\\n'\n",
      "b\"\\t\\tUn dossier ECHANTILLON10 --> ech10.CSV echantillon de 10% des donn\\xc3\\xa9es concatenees (TLSE+LANGUEDOC) avec leurs jeux d'entrainement et de test.\\r\\n\"\n",
      "b\"\\t\\tUn dossier ECHANTILLON50 --> ech50.csv echantillon de 50% des donn\\xc3\\xa9es concatenees (TLSE+LANGUEDOC) avec leurs jeux d'entrainement et de test.\\r\\n\"\n",
      "b'\\t4- - Dictionnaire_Data1.xlsx : Dictionnaire des donnees\\r\\n'\n",
      "b'\\r\\n'\n",
      "b'\\r\\n'\n",
      "b'\\r\\n'\n",
      "b'\\r\\n'\n",
      "b'\\r\\n'\n",
      "b'\\r\\n'\n",
      "b'\\r\\n'\n",
      "b'\\r\\n'\n"
     ]
    }
   ],
   "source": [
    "readme(path, 'DATA1.zip', 'DATA1/README.txt')"
   ]
  },
  {
   "cell_type": "markdown",
   "id": "96e313c8",
   "metadata": {},
   "source": [
    "## Lecture fichier csv "
   ]
  },
  {
   "cell_type": "raw",
   "id": "908315c9",
   "metadata": {},
   "source": [
    "Ici on travaille avec la totalité du jeu des données."
   ]
  },
  {
   "cell_type": "code",
   "execution_count": 5,
   "id": "a26fbe08",
   "metadata": {},
   "outputs": [
    {
     "name": "stderr",
     "output_type": "stream",
     "text": [
      "/var/folders/fz/s504p4md7hv8w1295wj7d20m0000gn/T/ipykernel_50080/1227951240.py:1: DtypeWarning: Columns (4) have mixed types.Specify dtype option on import or set low_memory=False.\n",
      "  df = import_data(path, 'DATA1/DONNEES_CONCAT_TLSE-LD/DATA1_COMPLET.csv', 'DATA1.zip')\n"
     ]
    }
   ],
   "source": [
    "df = import_data(path, 'DATA1/DONNEES_CONCAT_TLSE-LD/DATA1_COMPLET.csv', 'DATA1.zip')"
   ]
  },
  {
   "cell_type": "code",
   "execution_count": 6,
   "id": "731851ac",
   "metadata": {},
   "outputs": [
    {
     "data": {
      "text/plain": [
       "120"
      ]
     },
     "execution_count": 6,
     "metadata": {},
     "output_type": "execute_result"
    }
   ],
   "source": [
    "df.columns.get_loc(\"note_mire\")"
   ]
  },
  {
   "cell_type": "code",
   "execution_count": 7,
   "id": "38717242",
   "metadata": {},
   "outputs": [],
   "source": [
    "df_save = df"
   ]
  },
  {
   "cell_type": "markdown",
   "id": "dd98dbf9",
   "metadata": {},
   "source": [
    "## Recherche de la méthode de remplissage"
   ]
  },
  {
   "cell_type": "markdown",
   "id": "a1176bf9",
   "metadata": {},
   "source": [
    "##  Pour la variable 'note_mire'"
   ]
  },
  {
   "cell_type": "code",
   "execution_count": 8,
   "id": "069a0ba1",
   "metadata": {},
   "outputs": [
    {
     "name": "stderr",
     "output_type": "stream",
     "text": [
      "/opt/anaconda3/envs/pandas/lib/python3.9/site-packages/seaborn/_decorators.py:36: FutureWarning: Pass the following variable as a keyword arg: x. From version 0.12, the only valid positional argument will be `data`, and passing other arguments without an explicit keyword will result in an error or misinterpretation.\n",
      "  warnings.warn(\n"
     ]
    },
    {
     "data": {
      "text/plain": [
       "<AxesSubplot:xlabel='note_mire'>"
      ]
     },
     "execution_count": 8,
     "metadata": {},
     "output_type": "execute_result"
    },
    {
     "data": {
      "image/png": "[encoded data removed]",
      "text/plain": [
       "<Figure size 432x288 with 1 Axes>"
      ]
     },
     "metadata": {
      "needs_background": "light"
     },
     "output_type": "display_data"
    }
   ],
   "source": [
    "sns.boxplot(df.note_mire)\n"
   ]
  },
  {
   "cell_type": "markdown",
   "id": "56deefbe",
   "metadata": {},
   "source": [
    "### Ici pas de valeures aberrantes donc on peut remplir en utilisant la méthode par moyenne"
   ]
  },
  {
   "cell_type": "code",
   "execution_count": 22,
   "id": "2a65a0ca",
   "metadata": {},
   "outputs": [],
   "source": [
    "df['note_mire'] = df['note_mire'].fillna(df['note_mire'].mean())"
   ]
  },
  {
   "cell_type": "markdown",
   "id": "20c58229",
   "metadata": {},
   "source": [
    "## Pour la variable \"note_FOpDebitrice\""
   ]
  },
  {
   "cell_type": "code",
   "execution_count": 11,
   "id": "17299917",
   "metadata": {},
   "outputs": [
    {
     "name": "stderr",
     "output_type": "stream",
     "text": [
      "/opt/anaconda3/envs/pandas/lib/python3.9/site-packages/seaborn/_decorators.py:36: FutureWarning: Pass the following variable as a keyword arg: x. From version 0.12, the only valid positional argument will be `data`, and passing other arguments without an explicit keyword will result in an error or misinterpretation.\n",
      "  warnings.warn(\n"
     ]
    },
    {
     "data": {
      "text/plain": [
       "<AxesSubplot:xlabel='note_FOpDebitrice'>"
      ]
     },
     "execution_count": 11,
     "metadata": {},
     "output_type": "execute_result"
    },
    {
     "data": {
      "image/png": "[encoded data removed]",
      "text/plain": [
       "<Figure size 432x288 with 1 Axes>"
      ]
     },
     "metadata": {
      "needs_background": "light"
     },
     "output_type": "display_data"
    }
   ],
   "source": [
    "sns.boxplot(df.note_FOpDebitrice)\n",
    "\n"
   ]
  },
  {
   "cell_type": "code",
   "execution_count": 27,
   "id": "0403bb8b",
   "metadata": {},
   "outputs": [
    {
     "data": {
      "text/plain": [
       "20.77    21.304558\n",
       "0.00     19.176825\n",
       "18.69    12.585128\n",
       "16.76    11.685895\n",
       "6.18     10.419035\n",
       "10.73     8.848247\n",
       "13.05     8.079133\n",
       "14.90     7.901180\n",
       "Name: note_FOpDebitrice, dtype: float64"
      ]
     },
     "execution_count": 27,
     "metadata": {},
     "output_type": "execute_result"
    }
   ],
   "source": [
    "df['note_FOpDebitrice'].value_counts(normalize=True) * 100\n",
    "\n"
   ]
  },
  {
   "cell_type": "markdown",
   "id": "0f94e556",
   "metadata": {},
   "source": [
    "### Ici pas de valeures aberrantes mais cette variable a 8 valeurs distinctes, on utilise la méthode du mode, on remplacera la moitié par 20,77 et l'autre moitié par 0,00 car c'est les deux valeurs les plus fréquentes "
   ]
  },
  {
   "cell_type": "code",
   "execution_count": 45,
   "id": "875cb12a",
   "metadata": {
    "scrolled": true
   },
   "outputs": [
    {
     "data": {
      "text/plain": [
       "0"
      ]
     },
     "execution_count": 45,
     "metadata": {},
     "output_type": "execute_result"
    }
   ],
   "source": [
    "nb_nan = df.note_FOpDebitrice.isnull().sum(axis = 0)"
   ]
  },
  {
   "cell_type": "code",
   "execution_count": 43,
   "id": "f5f66f02",
   "metadata": {},
   "outputs": [],
   "source": [
    "df['note_FOpDebitrice'] = df['note_FOpDebitrice'].fillna(20.77, limit=floor(nb_nan/2)) #j'utilise ceil et floor dans le cas le nombre de NaN soit pas divisible par 2\n",
    "df['note_FOpDebitrice'] = df['note_FOpDebitrice'].fillna(0.00, limit=ceil(nb_nan/2))\n",
    "\n"
   ]
  },
  {
   "cell_type": "markdown",
   "id": "698bf6ae",
   "metadata": {},
   "source": [
    "## Pour la variable \"note_Funivers\""
   ]
  },
  {
   "cell_type": "code",
   "execution_count": 12,
   "id": "cf83c048",
   "metadata": {},
   "outputs": [
    {
     "name": "stderr",
     "output_type": "stream",
     "text": [
      "/opt/anaconda3/envs/pandas/lib/python3.9/site-packages/seaborn/_decorators.py:36: FutureWarning: Pass the following variable as a keyword arg: x. From version 0.12, the only valid positional argument will be `data`, and passing other arguments without an explicit keyword will result in an error or misinterpretation.\n",
      "  warnings.warn(\n"
     ]
    },
    {
     "data": {
      "text/plain": [
       "<AxesSubplot:xlabel='note_Funivers'>"
      ]
     },
     "execution_count": 12,
     "metadata": {},
     "output_type": "execute_result"
    },
    {
     "data": {
      "image/png": "[encoded data removed]",
      "text/plain": [
       "<Figure size 432x288 with 1 Axes>"
      ]
     },
     "metadata": {
      "needs_background": "light"
     },
     "output_type": "display_data"
    }
   ],
   "source": [
    "sns.boxplot(df.note_Funivers)\n",
    "\n"
   ]
  },
  {
   "cell_type": "code",
   "execution_count": 46,
   "id": "4a1b2247",
   "metadata": {},
   "outputs": [
    {
     "data": {
      "text/plain": [
       "14.90    33.336412\n",
       "20.85    25.033743\n",
       "6.10     18.445125\n",
       "26.56    15.377785\n",
       "0.00      7.806935\n",
       "Name: note_Funivers, dtype: float64"
      ]
     },
     "execution_count": 46,
     "metadata": {},
     "output_type": "execute_result"
    }
   ],
   "source": [
    "df['note_Funivers'].value_counts(normalize=True) * 100\n",
    "\n"
   ]
  },
  {
   "cell_type": "markdown",
   "id": "e43cf106",
   "metadata": {},
   "source": [
    "### Exactement pareil que le précedent "
   ]
  },
  {
   "cell_type": "code",
   "execution_count": 51,
   "id": "e8dbf000",
   "metadata": {},
   "outputs": [
    {
     "data": {
      "text/plain": [
       "0"
      ]
     },
     "execution_count": 51,
     "metadata": {},
     "output_type": "execute_result"
    }
   ],
   "source": [
    "nb_nan = df.note_Funivers.isnull().sum(axis = 0)\n",
    "nb_nan"
   ]
  },
  {
   "cell_type": "code",
   "execution_count": 50,
   "id": "d7c1de55",
   "metadata": {},
   "outputs": [],
   "source": [
    "df['note_Funivers'] = df['note_Funivers'].fillna(14.90, limit=floor(nb_nan/2)) #j'utilise ceil et floor dans le cas le nombre de NaN soit pas divisible par 2\n",
    "df['note_Funivers'] = df['note_Funivers'].fillna(20.85, limit=ceil(nb_nan/2))"
   ]
  },
  {
   "cell_type": "markdown",
   "id": "6ef962b4",
   "metadata": {},
   "source": [
    "## Pour la variable note_Fassu"
   ]
  },
  {
   "cell_type": "code",
   "execution_count": 13,
   "id": "a1d4c670",
   "metadata": {},
   "outputs": [
    {
     "name": "stderr",
     "output_type": "stream",
     "text": [
      "/opt/anaconda3/envs/pandas/lib/python3.9/site-packages/seaborn/_decorators.py:36: FutureWarning: Pass the following variable as a keyword arg: x. From version 0.12, the only valid positional argument will be `data`, and passing other arguments without an explicit keyword will result in an error or misinterpretation.\n",
      "  warnings.warn(\n"
     ]
    },
    {
     "data": {
      "text/plain": [
       "<AxesSubplot:xlabel='note_Fassu'>"
      ]
     },
     "execution_count": 13,
     "metadata": {},
     "output_type": "execute_result"
    },
    {
     "data": {
      "image/png": "[encoded data removed]",
      "text/plain": [
       "<Figure size 432x288 with 1 Axes>"
      ]
     },
     "metadata": {
      "needs_background": "light"
     },
     "output_type": "display_data"
    }
   ],
   "source": [
    "sns.boxplot(df.note_Fassu)"
   ]
  },
  {
   "cell_type": "code",
   "execution_count": 52,
   "id": "b70f7467",
   "metadata": {},
   "outputs": [
    {
     "data": {
      "text/plain": [
       "0.00     63.199970\n",
       "4.22     20.656447\n",
       "8.44      8.926626\n",
       "12.66     7.216957\n",
       "Name: note_Fassu, dtype: float64"
      ]
     },
     "execution_count": 52,
     "metadata": {},
     "output_type": "execute_result"
    }
   ],
   "source": [
    "df['note_Fassu'].value_counts(normalize=True) * 100\n",
    "\n"
   ]
  },
  {
   "cell_type": "markdown",
   "id": "e83fcd9d",
   "metadata": {},
   "source": [
    "### Variable discrete + val aberrante donc meme chose, sauf qu'on remplace ici pas seulement le 1er mode"
   ]
  },
  {
   "cell_type": "code",
   "execution_count": 54,
   "id": "0b3ac45a",
   "metadata": {},
   "outputs": [],
   "source": [
    "df['note_Fassu'] = df['note_Fassu'].fillna(df['note_Fassu'].mode()[0])"
   ]
  },
  {
   "cell_type": "markdown",
   "id": "aa296b04",
   "metadata": {},
   "source": [
    "## Pour la variable note_Fcredit"
   ]
  },
  {
   "cell_type": "code",
   "execution_count": 14,
   "id": "eec22e23",
   "metadata": {},
   "outputs": [
    {
     "name": "stderr",
     "output_type": "stream",
     "text": [
      "/opt/anaconda3/envs/pandas/lib/python3.9/site-packages/seaborn/_decorators.py:36: FutureWarning: Pass the following variable as a keyword arg: x. From version 0.12, the only valid positional argument will be `data`, and passing other arguments without an explicit keyword will result in an error or misinterpretation.\n",
      "  warnings.warn(\n"
     ]
    },
    {
     "data": {
      "text/plain": [
       "<AxesSubplot:xlabel='note_Fcredit'>"
      ]
     },
     "execution_count": 14,
     "metadata": {},
     "output_type": "execute_result"
    },
    {
     "data": {
      "image/png": "[encoded data removed]",
      "text/plain": [
       "<Figure size 432x288 with 1 Axes>"
      ]
     },
     "metadata": {
      "needs_background": "light"
     },
     "output_type": "display_data"
    }
   ],
   "source": [
    "sns.boxplot(df.note_Fcredit)"
   ]
  },
  {
   "cell_type": "code",
   "execution_count": 55,
   "id": "9087cfcb",
   "metadata": {},
   "outputs": [
    {
     "data": {
      "text/plain": [
       "0.00     74.337563\n",
       "6.52     20.665445\n",
       "13.05     4.996993\n",
       "Name: note_Fcredit, dtype: float64"
      ]
     },
     "execution_count": 55,
     "metadata": {},
     "output_type": "execute_result"
    }
   ],
   "source": [
    "df['note_Fcredit'].value_counts(normalize=True) * 100\n",
    "\n"
   ]
  },
  {
   "cell_type": "markdown",
   "id": "fd61156b",
   "metadata": {},
   "source": [
    "### Pareil que le précedent"
   ]
  },
  {
   "cell_type": "code",
   "execution_count": 56,
   "id": "bb3c58c7",
   "metadata": {},
   "outputs": [],
   "source": [
    "df['note_Fcredit'] = df['note_Fcredit'].fillna(df['note_Fcredit'].mode()[0])"
   ]
  },
  {
   "cell_type": "markdown",
   "id": "6fad25ec",
   "metadata": {},
   "source": [
    "## Pour la variable \"note_Fepargne\""
   ]
  },
  {
   "cell_type": "code",
   "execution_count": 15,
   "id": "c07f510e",
   "metadata": {},
   "outputs": [
    {
     "name": "stderr",
     "output_type": "stream",
     "text": [
      "/opt/anaconda3/envs/pandas/lib/python3.9/site-packages/seaborn/_decorators.py:36: FutureWarning: Pass the following variable as a keyword arg: x. From version 0.12, the only valid positional argument will be `data`, and passing other arguments without an explicit keyword will result in an error or misinterpretation.\n",
      "  warnings.warn(\n"
     ]
    },
    {
     "data": {
      "text/plain": [
       "<AxesSubplot:xlabel='note_Fepargne'>"
      ]
     },
     "execution_count": 15,
     "metadata": {},
     "output_type": "execute_result"
    },
    {
     "data": {
      "image/png": "[encoded data removed]",
      "text/plain": [
       "<Figure size 432x288 with 1 Axes>"
      ]
     },
     "metadata": {
      "needs_background": "light"
     },
     "output_type": "display_data"
    }
   ],
   "source": [
    "sns.boxplot(df.note_Fepargne)"
   ]
  },
  {
   "cell_type": "code",
   "execution_count": 58,
   "id": "9fcf3c69",
   "metadata": {},
   "outputs": [
    {
     "data": {
      "text/plain": [
       "2.38     31.610641\n",
       "4.76     24.716910\n",
       "0.00     19.513313\n",
       "7.13     14.716886\n",
       "9.51      7.801252\n",
       "11.89     1.640998\n",
       "Name: note_Fepargne, dtype: float64"
      ]
     },
     "execution_count": 58,
     "metadata": {},
     "output_type": "execute_result"
    }
   ],
   "source": [
    "df['note_Fepargne'].value_counts(normalize=True) * 100\n",
    "\n"
   ]
  },
  {
   "cell_type": "markdown",
   "id": "c6e01d78",
   "metadata": {},
   "source": [
    "### Pareil qu'avant : var discrete et val aberrante, le 1er mode est proche du 2nd on remplace par les deux"
   ]
  },
  {
   "cell_type": "code",
   "execution_count": 59,
   "id": "b8b69fc8",
   "metadata": {},
   "outputs": [
    {
     "data": {
      "text/plain": [
       "4738"
      ]
     },
     "execution_count": 59,
     "metadata": {},
     "output_type": "execute_result"
    }
   ],
   "source": [
    "nb_nan = df.note_Fepargne.isnull().sum(axis = 0)\n",
    "nb_nan"
   ]
  },
  {
   "cell_type": "code",
   "execution_count": 60,
   "id": "72b29456",
   "metadata": {},
   "outputs": [],
   "source": [
    "df['note_Fepargne'] = df['note_Fepargne'].fillna(2.38, limit=floor(nb_nan/2)) #j'utilise ceil et floor dans le cas le nombre de NaN soit pas divisible par 2\n",
    "df['note_Fepargne'] = df['note_Fepargne'].fillna(4.76, limit=ceil(nb_nan/2))"
   ]
  },
  {
   "cell_type": "markdown",
   "id": "c447f334",
   "metadata": {},
   "source": [
    "## Pour la variable \"note_FService\""
   ]
  },
  {
   "cell_type": "code",
   "execution_count": 16,
   "id": "f21db696",
   "metadata": {},
   "outputs": [
    {
     "name": "stderr",
     "output_type": "stream",
     "text": [
      "/opt/anaconda3/envs/pandas/lib/python3.9/site-packages/seaborn/_decorators.py:36: FutureWarning: Pass the following variable as a keyword arg: x. From version 0.12, the only valid positional argument will be `data`, and passing other arguments without an explicit keyword will result in an error or misinterpretation.\n",
      "  warnings.warn(\n"
     ]
    },
    {
     "data": {
      "text/plain": [
       "<AxesSubplot:xlabel='note_FService'>"
      ]
     },
     "execution_count": 16,
     "metadata": {},
     "output_type": "execute_result"
    },
    {
     "data": {
      "image/png": "[encoded data removed]",
      "text/plain": [
       "<Figure size 432x288 with 1 Axes>"
      ]
     },
     "metadata": {
      "needs_background": "light"
     },
     "output_type": "display_data"
    }
   ],
   "source": [
    "sns.boxplot(df.note_FService)"
   ]
  },
  {
   "cell_type": "code",
   "execution_count": 61,
   "id": "8378cddb",
   "metadata": {},
   "outputs": [
    {
     "data": {
      "text/plain": [
       "15.06    60.112975\n",
       "0.00     21.218838\n",
       "7.53     18.668187\n",
       "Name: note_FService, dtype: float64"
      ]
     },
     "execution_count": 61,
     "metadata": {},
     "output_type": "execute_result"
    }
   ],
   "source": [
    "df['note_FService'].value_counts(normalize=True) * 100\n",
    "\n"
   ]
  },
  {
   "cell_type": "markdown",
   "id": "a329e535",
   "metadata": {},
   "source": [
    "### Val discrete on prend que le 1er mode "
   ]
  },
  {
   "cell_type": "code",
   "execution_count": 62,
   "id": "9b4224da",
   "metadata": {},
   "outputs": [],
   "source": [
    "df['note_FService'] = df['note_FService'].fillna(df['note_FService'].mode()[0])"
   ]
  },
  {
   "cell_type": "code",
   "execution_count": null,
   "id": "e8fc2370",
   "metadata": {},
   "outputs": [],
   "source": []
  },
  {
   "cell_type": "code",
   "execution_count": null,
   "id": "d6b93283",
   "metadata": {},
   "outputs": [],
   "source": []
  }
 ],
 "metadata": {
  "kernelspec": {
   "display_name": "Python 3 (ipykernel)",
   "language": "python",
   "name": "python3"
  },
  "language_info": {
   "codemirror_mode": {
    "name": "ipython",
    "version": 3
   },
   "file_extension": ".py",
   "mimetype": "text/x-python",
   "name": "python",
   "nbconvert_exporter": "python",
   "pygments_lexer": "ipython3",
   "version": "3.9.7"
  }
 },
 "nbformat": 4,
 "nbformat_minor": 5
}
