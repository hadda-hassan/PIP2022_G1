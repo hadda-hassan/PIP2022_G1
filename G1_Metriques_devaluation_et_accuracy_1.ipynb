{
 "cells": [
  {
   "cell_type": "code",
   "execution_count": 1,
   "metadata": {},
   "outputs": [
    {
     "name": "stdout",
     "output_type": "stream",
     "text": [
      "Collecting imblearn\n",
      "  Downloading imblearn-0.0-py2.py3-none-any.whl (1.9 kB)\n",
      "Collecting imbalanced-learn\n",
      "  Downloading imbalanced_learn-0.8.1-py3-none-any.whl (189 kB)\n",
      "\u001b[K     |████████████████████████████████| 189 kB 646 kB/s eta 0:00:01\n",
      "\u001b[?25hRequirement already satisfied: numpy>=1.13.3 in /home/sid2020-7/anaconda3/lib/python3.7/site-packages (from imbalanced-learn->imblearn) (1.18.5)\n",
      "Collecting scikit-learn>=0.24\n",
      "  Downloading scikit_learn-1.0.2-cp37-cp37m-manylinux_2_17_x86_64.manylinux2014_x86_64.whl (24.8 MB)\n",
      "\u001b[K     |████████████████████████████████| 24.8 MB 453 kB/s eta 0:00:01\n",
      "\u001b[?25hRequirement already satisfied: scipy>=0.19.1 in /home/sid2020-7/anaconda3/lib/python3.7/site-packages (from imbalanced-learn->imblearn) (1.5.0)\n",
      "Requirement already satisfied: joblib>=0.11 in /home/sid2020-7/anaconda3/lib/python3.7/site-packages (from imbalanced-learn->imblearn) (0.16.0)\n",
      "Requirement already satisfied: threadpoolctl>=2.0.0 in /home/sid2020-7/anaconda3/lib/python3.7/site-packages (from scikit-learn>=0.24->imbalanced-learn->imblearn) (2.1.0)\n",
      "Installing collected packages: scikit-learn, imbalanced-learn, imblearn\n",
      "  Attempting uninstall: scikit-learn\n",
      "    Found existing installation: scikit-learn 0.23.1\n",
      "    Uninstalling scikit-learn-0.23.1:\n",
      "      Successfully uninstalled scikit-learn-0.23.1\n",
      "Successfully installed imbalanced-learn-0.8.1 imblearn-0.0 scikit-learn-1.0.2\n"
     ]
    }
   ],
   "source": [
    "!pip install --trusted-host pypi.org --trusted-host files.pythonhosted.org imblearn"
   ]
  },
  {
   "cell_type": "code",
   "execution_count": 12,
   "metadata": {},
   "outputs": [
    {
     "data": {
      "text/plain": [
       "'Are you predicting probabilities?\\n    – Do you need class labels?\\n    * Is the positive class more important?\\n        · Use Precision-Recall AUC\\n    * Are both classes important?\\n        · Use ROC AUC\\n    – Do you need probabilities?\\n        * Use Brier Score and Brier Skill Score\\n\\x88 Are you predicting class labels?\\n    – Is the positive class more important?\\n        * Are False Negatives and False Positives Equally Important?\\n            · Use F1-measure\\n        * Are False Negatives More Important?\\n            · Use F2-measure\\n        * Are False Positives More Important?\\n            · Use F0.5-measure\\n     – Are both classes important?\\n\\n    * Do you have < 80%-90% Examples for the Majority Class?\\n        · Use Accuracy\\n    * Do you have > 80%-90% Examples for the Majority Class?\\n        · Use G-mean'"
      ]
     },
     "execution_count": 12,
     "metadata": {},
     "output_type": "execute_result"
    }
   ],
   "source": [
    "\"\"\"\n",
    "Are you predicting probabilities?\n",
    "    – Do you need class labels?\n",
    "    * Is the positive class more important?\n",
    "        · Use Precision-Recall AUC\n",
    "    * Are both classes important?\n",
    "        · Use ROC AUC\n",
    "    – Do you need probabilities?\n",
    "        * Use Brier Score and Brier Skill Score\n",
    " Are you predicting class labels?\n",
    "    – Is the positive class more important?\n",
    "        * Are False Negatives and False Positives Equally Important?\n",
    "            · Use F1-measure\n",
    "        * Are False Negatives More Important?\n",
    "            · Use F2-measure\n",
    "        * Are False Positives More Important?\n",
    "            · Use F0.5-measure\n",
    "     – Are both classes important?\n",
    "\n",
    "    * Do you have < 80%-90% Examples for the Majority Class?\n",
    "        · Use Accuracy\n",
    "    * Do you have > 80%-90% Examples for the Majority Class?\n",
    "        · Use G-mean\"\"\""
   ]
  },
  {
   "cell_type": "code",
   "execution_count": 2,
   "metadata": {},
   "outputs": [],
   "source": [
    "import numpy as np\n",
    "\n",
    "#                REALITY\n",
    "#Prediction   ( TP     FP  \n",
    "#             ( FN     TN  )\n",
    "\n",
    "#Métriques utilisables basés sur la matrice de confusion\n",
    "from imblearn.metrics import sensitivity_score  # sensitivity = TP / (TP + FN)\n",
    "from imblearn.metrics import specificity_score  # specificity = TN (FP+ TN)\n",
    "from imblearn.metrics import geometric_mean_score # sqrt(sensitivity*specificity)\n",
    "from sklearn.metrics import precision_score # precision TP/(TP+FP)\n",
    "from sklearn.metrics import recall_score # recall TP/(TP + FP)\n",
    "from sklearn.metrics import f1_score     # F measure (2 × Precision × Recall) / (Precision + Recall)\n",
    "\n",
    "\n",
    "#Métriques utilisables basés sur probabilités d'appartenance à une classe\n",
    "from sklearn.metrics import roc_curve # summarizes the performance of a binary classification model on the positive class\n",
    "from sklearn.metrics import roc_auc_score # Area under the roc curve\n",
    "from sklearn.metrics import precision_recall_curve #quantifies the number of correct positive predictions made\n",
    "from sklearn.metrics import auc # Area under the curve, utile pour la PR Curve"
   ]
  },
  {
   "cell_type": "code",
   "execution_count": 3,
   "metadata": {},
   "outputs": [],
   "source": [
    "#Jeux de donnée random\n",
    "y = [0,0,1,0,0,0,1,1,0] #\n",
    "y_pred = [1,0,0,0,1,0,1,1,1]"
   ]
  },
  {
   "cell_type": "code",
   "execution_count": 4,
   "metadata": {},
   "outputs": [
    {
     "name": "stdout",
     "output_type": "stream",
     "text": [
      "specificity score :  0.75\n",
      "sensitivity score :  0.4\n",
      "geometric_mean score :  0.5773502691896257\n",
      "precision score : 0.4\n",
      "recall score : 0.6666666666666666\n",
      "F measure score : 0.5\n"
     ]
    }
   ],
   "source": [
    "print(\"specificity score : \",specificity_score(y_pred,y))\n",
    "print(\"sensitivity score : \",sensitivity_score(y_pred,y))\n",
    "print(\"geometric_mean score : \",geometric_mean_score(y,y_pred))\n",
    "print(\"precision score :\",precision_score(y, y_pred))\n",
    "print(\"recall score :\",recall_score(y, y_pred))\n",
    "print(\"F measure score :\",f1_score(y, y_pred))\n"
   ]
  },
  {
   "cell_type": "markdown",
   "metadata": {},
   "source": [
    "# ROC CURVE"
   ]
  },
  {
   "cell_type": "code",
   "execution_count": 5,
   "metadata": {},
   "outputs": [
    {
     "name": "stdout",
     "output_type": "stream",
     "text": [
      "Aire sous la courbe roc : 0.9028205128205128\n"
     ]
    },
    {
     "data": {
      "image/png": "[encoded data removed]",
      "text/plain": [
       "<Figure size 432x288 with 1 Axes>"
      ]
     },
     "metadata": {
      "needs_background": "light"
     },
     "output_type": "display_data"
    }
   ],
   "source": [
    "from sklearn.datasets import make_classification\n",
    "from sklearn.linear_model import LogisticRegression\n",
    "from sklearn.model_selection import train_test_split\n",
    "\n",
    "from matplotlib import pyplot\n",
    "\n",
    "\n",
    "# generate 2 class dataset\n",
    "X, y = make_classification(n_samples=1000, n_classes=2, random_state=1)\n",
    "# split into train/test sets\n",
    "trainX, testX, trainy, testy = train_test_split(X, y, test_size=0.5, random_state=2)\n",
    "# fit a model\n",
    "model = LogisticRegression(solver='lbfgs')\n",
    "model.fit(trainX, trainy)\n",
    "# predict probabilities\n",
    "yhat = model.predict_proba(testX)\n",
    "# retrieve just the probabilities for the positive class\n",
    "pos_probs = yhat[:, 1]\n",
    "# plot no skill roc curve\n",
    "pyplot.plot([0, 1], [0, 1], linestyle='--', label='No Skill')\n",
    "# calculate roc curve for model\n",
    "fpr, tpr, _ = roc_curve(testy, pos_probs)      #REMPLACER PAR NOS Y_TEST ET NOS PREDICTIONS A NOUS\n",
    "print(\"Aire sous la courbe roc :\",roc_auc_score(testy,pos_probs))\n",
    "# plot model roc curve\n",
    "pyplot.plot(fpr, tpr, marker='.', label='Logistic')\n",
    "# axis labels\n",
    "pyplot.xlabel('False Positive Rate')\n",
    "pyplot.ylabel('True Positive Rate')\n",
    "# show the legend\n",
    "pyplot.legend() \n",
    "# show the plot\n",
    "pyplot.show()"
   ]
  },
  {
   "cell_type": "markdown",
   "metadata": {},
   "source": [
    "# PR CURVE"
   ]
  },
  {
   "cell_type": "code",
   "execution_count": 6,
   "metadata": {},
   "outputs": [
    {
     "name": "stdout",
     "output_type": "stream",
     "text": [
      "Aire sous la Pr Curve :  0.8977244980325833\n"
     ]
    },
    {
     "data": {
      "image/png": "[encoded data removed]",
      "text/plain": [
       "<Figure size 432x288 with 1 Axes>"
      ]
     },
     "metadata": {
      "needs_background": "light"
     },
     "output_type": "display_data"
    }
   ],
   "source": [
    "from sklearn.datasets import make_classification\n",
    "from sklearn.linear_model import LogisticRegression\n",
    "from sklearn.model_selection import train_test_split\n",
    "from sklearn.metrics import precision_recall_curve\n",
    "from matplotlib import pyplot\n",
    "# generate 2 class dataset\n",
    "X, y = make_classification(n_samples=1000, n_classes=2, random_state=1)\n",
    "# split into train/test sets\n",
    "trainX, testX, trainy, testy = train_test_split(X, y, test_size=0.5, random_state=2)\n",
    "# fit a model\n",
    "model = LogisticRegression(solver='lbfgs')\n",
    "model.fit(trainX, trainy)\n",
    "# predict probabilities\n",
    "yhat = model.predict_proba(testX)\n",
    "# retrieve just the probabilities for the positive class\n",
    "pos_probs = yhat[:, 1]\n",
    "# calculate the no skill line as the proportion of the positive class\n",
    "no_skill = len(y[y==1]) / len(y)\n",
    "# plot the no skill precision-recall curve\n",
    "pyplot.plot([0, 1], [no_skill, no_skill], linestyle='--', label='No Skill')\n",
    "# calculate model precision-recall curve\n",
    "precision, recall, _ = precision_recall_curve(testy, pos_probs)\n",
    "print(\"Aire sous la Pr Curve : \",auc(recall, precision))\n",
    "# plot the model precision-recall curve\n",
    "pyplot.plot(recall, precision, marker='.', label='Logistic')\n",
    "# axis labels\n",
    "pyplot.xlabel('Recall')\n",
    "pyplot.ylabel('Precision')\n",
    "# show the legend\n",
    "pyplot.legend()\n",
    "# show the plot\n",
    "pyplot.show()\n"
   ]
  },
  {
   "cell_type": "markdown",
   "metadata": {},
   "source": [
    "# STRATIFIED K FOLD AND SPLITS"
   ]
  },
  {
   "cell_type": "code",
   "execution_count": 10,
   "metadata": {},
   "outputs": [
    {
     "name": "stdout",
     "output_type": "stream",
     "text": [
      ">Train: 0=792, 1=8, Test: 0=198, 1=2\n",
      ">Train: 0=792, 1=8, Test: 0=198, 1=2\n",
      ">Train: 0=792, 1=8, Test: 0=198, 1=2\n",
      ">Train: 0=792, 1=8, Test: 0=198, 1=2\n",
      ">Train: 0=792, 1=8, Test: 0=198, 1=2\n"
     ]
    }
   ],
   "source": [
    "#Respect de la proportion d'anomalies dans chaque sous échantillons\n",
    "\n",
    "from sklearn.datasets import make_classification\n",
    "from sklearn.model_selection import StratifiedKFold\n",
    "# generate 2 class dataset\n",
    "X, y = make_classification(n_samples=1000, n_classes=2, weights=[0.99, 0.01], flip_y=0,\n",
    "random_state=1)\n",
    "kfold = StratifiedKFold(n_splits=5, shuffle=True, random_state=1)\n",
    "# enumerate the splits and summarize the distributions\n",
    "for train_ix, test_ix in kfold.split(X, y):\n",
    "    # select rows\n",
    "    train_X, test_X = X[train_ix], X[test_ix]\n",
    "    train_y, test_y = y[train_ix], y[test_ix]\n",
    "    # summarize train and test composition\n",
    "    train_0, train_1 = len(train_y[train_y==0]), len(train_y[train_y==1])\n",
    "    test_0, test_1 = len(test_y[test_y==0]), len(test_y[test_y==1])\n",
    "    print('>Train: 0=%d, 1=%d, Test: 0=%d, 1=%d' % (train_0, train_1, test_0, test_1))\n"
   ]
  },
  {
   "cell_type": "code",
   "execution_count": 8,
   "metadata": {},
   "outputs": [],
   "source": [
    "#Rajouter le stratify = y permet d'affecter la meme proportion d'anomalies dans le train et le test\n",
    "trainX, testX, trainy, testy = train_test_split(X, y, test_size=0.5, random_state=2,\n",
    "stratify=y)"
   ]
  },
  {
   "cell_type": "markdown",
   "metadata": {},
   "source": [
    "# STRATIFIED K-FOLD CROSS VALIDATION"
   ]
  },
  {
   "cell_type": "code",
   "execution_count": 11,
   "metadata": {},
   "outputs": [],
   "source": [
    "#Permet de faire de la cross validation sur des folds stratifiés \n",
    "from statistics import mean, stdev\n",
    "from sklearn import preprocessing\n",
    "# from sklearn.model_selection imp:ort StratifiedKFolds\n",
    "from sklearn import linear_model\n",
    "from sklearn import datasets\n",
    "  \n",
    "# FEATCHING FEATURES AND TARGET VARIABLES IN ARRAY FORMAT.\n",
    "cancer = datasets.load_breast_cancer()\n",
    "# Input_x_Features.\n",
    "x = cancer.data                        \n",
    " \n",
    "# Input_ y_Target_Variable.\n",
    "y = cancer.target                      \n",
    "   \n",
    "  \n",
    "# Feature Scaling for input features.\n",
    "scaler = preprocessing.MinMaxScaler()\n",
    "x_scaled = scaler.fit_transform(x)\n",
    "  \n",
    "# Create  classifier object.\n",
    "lr = linear_model.LogisticRegression()\n",
    "  \n",
    "# Create StratifiedKFold object.\n",
    "skf = StratifiedKFold(n_splits=10, shuffle=True, random_state=1)\n",
    "lst_accu_stratified = []\n",
    "  \n",
    "for train_index, test_index in skf.split(x, y):\n",
    "    x_train_fold, x_test_fold = x_scaled[train_index], x_scaled[test_index]\n",
    "    y_train_fold, y_test_fold = y[train_index], y[test_index]\n",
    "    lr.fit(x_train_fold, y_train_fold)\n",
    "    lst_accu_stratified.append(lr.score(x_test_fold, y_test_fold))"
   ]
  },
  {
   "cell_type": "code",
   "execution_count": 12,
   "metadata": {},
   "outputs": [
    {
     "data": {
      "text/plain": [
       "[0.9298245614035088,\n",
       " 0.9649122807017544,\n",
       " 0.9824561403508771,\n",
       " 1.0,\n",
       " 0.9649122807017544,\n",
       " 0.9649122807017544,\n",
       " 0.9824561403508771,\n",
       " 0.9473684210526315,\n",
       " 0.9473684210526315,\n",
       " 0.9821428571428571]"
      ]
     },
     "execution_count": 12,
     "metadata": {},
     "output_type": "execute_result"
    }
   ],
   "source": [
    "lst_accu_stratified"
   ]
  },
  {
   "cell_type": "code",
   "execution_count": 13,
   "metadata": {},
   "outputs": [
    {
     "data": {
      "text/plain": [
       "['mean_fit_time',\n",
       " 'mean_score_time',\n",
       " 'mean_test_score',\n",
       " 'param_C',\n",
       " 'param_kernel',\n",
       " 'params',\n",
       " 'rank_test_score',\n",
       " 'split0_test_score',\n",
       " 'split1_test_score',\n",
       " 'split2_test_score',\n",
       " 'split3_test_score',\n",
       " 'split4_test_score',\n",
       " 'std_fit_time',\n",
       " 'std_score_time',\n",
       " 'std_test_score']"
      ]
     },
     "execution_count": 13,
     "metadata": {},
     "output_type": "execute_result"
    }
   ],
   "source": [
    "from sklearn import svm, datasets\n",
    "from sklearn.model_selection import GridSearchCV\n",
    "iris = datasets.load_iris()\n",
    "parameters = {'kernel':('linear', 'rbf'), 'C':[1, 2]}\n",
    "svc = svm.SVC()\n",
    "clf = GridSearchCV(svc, parameters)\n",
    "clf.fit(iris.data, iris.target)\n",
    "sorted(clf.cv_results_.keys())"
   ]
  },
  {
   "cell_type": "code",
   "execution_count": 14,
   "metadata": {},
   "outputs": [
    {
     "name": "stdout",
     "output_type": "stream",
     "text": [
      "[0.98       0.96666667 0.98       0.98      ]\n"
     ]
    }
   ],
   "source": [
    "print(clf.cv_results_['mean_test_score'])\n"
   ]
  },
  {
   "cell_type": "code",
   "execution_count": 15,
   "metadata": {},
   "outputs": [
    {
     "data": {
      "text/plain": [
       "array([0.96666667, 0.96666667, 0.96666667, 0.96666667])"
      ]
     },
     "execution_count": 15,
     "metadata": {},
     "output_type": "execute_result"
    }
   ],
   "source": [
    "clf.cv_results_['split0_test_score']"
   ]
  }
 ],
 "metadata": {
  "kernelspec": {
   "display_name": "Python 3",
   "language": "python",
   "name": "python3"
  },
  "language_info": {
   "codemirror_mode": {
    "name": "ipython",
    "version": 3
   },
   "file_extension": ".py",
   "mimetype": "text/x-python",
   "name": "python",
   "nbconvert_exporter": "python",
   "pygments_lexer": "ipython3",
   "version": "3.7.7"
  }
 },
 "nbformat": 4,
 "nbformat_minor": 5
}
