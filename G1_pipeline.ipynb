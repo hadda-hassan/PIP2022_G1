{
 "cells": [
  {
   "cell_type": "code",
   "execution_count": 2,
   "metadata": {},
   "outputs": [],
   "source": [
    "#!pip install pipelinehelper\n",
    "#!pip install xgboost\n",
    "import pandas as pd\n",
    "from sklearn.pipeline import Pipeline\n",
    "from sklearn.model_selection import GridSearchCV\n",
    "from sklearn.preprocessing import StandardScaler, MaxAbsScaler\n",
    "from sklearn.svm import LinearSVC\n",
    "from sklearn.ensemble import RandomForestClassifier\n",
    "from sklearn import datasets\n",
    "from pipelinehelper import PipelineHelper\n",
    "import numpy as np\n",
    "from sklearn.linear_model import LogisticRegression\n",
    "from sklearn.ensemble import RandomForestClassifier\n",
    "from sklearn.svm import SVC\n",
    "from xgboost import XGBClassifier\n",
    "from sklearn.metrics import fbeta_score, make_scorer\n",
    "from sklearn.metrics import f1_score\n",
    "from sklearn.metrics import roc_auc_score\n",
    "from sklearn.metrics import precision_recall_curve\n",
    "from sklearn.metrics import auc\n",
    "ftwo_scorer = make_scorer(fbeta_score, beta=2)\n",
    "f1_scorer = make_scorer(f1_score)\n",
    "roc_scorer = make_scorer(roc_auc_score)\n",
    "pr_scorer = make_scorer(precision_recall_curve)\n",
    "dict_score = {'f2':ftwo_scorer,'f1':f1_scorer,'roc':roc_scorer}\n",
    "#SVM\n",
    "#RANDOM FOREST\n",
    "#XGBOOST\n",
    "#LOGISTIC REGRESSION\n",
    "#RNN\n",
    "\n",
    "iris = datasets.load_iris()\n",
    "X_iris = iris.data\n",
    "y_iris = iris.target\n",
    "y_iris = (y_iris>0).astype(int)\n",
    "y_iris[0] = 1\n",
    "pipe = Pipeline([\n",
    "    ('scaler', PipelineHelper([\n",
    "        ('std', StandardScaler())\n",
    "    ])),\n",
    "\n",
    "    ('classifier', PipelineHelper([\n",
    "         ('lg',LogisticRegression())\n",
    "#         ('rf',RandomForestClassifier()),\n",
    "#         ('svc',SVC()),\n",
    "#         ('xgb',XGBClassifier())  \n",
    "        \n",
    "    ])),\n",
    "])\n",
    "\n",
    "params = {\n",
    "    'scaler__selected_model': pipe.named_steps['scaler'].generate({\n",
    "        'std__with_mean': [True,]\n",
    "#         'std__with_std': [True, False],\n",
    "#         'max__copy': [True],  # just for displaying\n",
    "    }),\n",
    "    'classifier__selected_model': pipe.named_steps['classifier'].generate({\n",
    "#         'lg__class_weight' :['balanced' ], \n",
    "#          'lg__penalty' :['l1'],\n",
    "#          'lg__solver' : ['liblinear'],\n",
    "#           'lg__C' : [100],\n",
    "        'lg__class_weight' :['balanced' ], \n",
    "         'lg__penalty' :['l1', 'l2', 'elasticnet'],\n",
    "         'lg__solver' : ['saga','lbfgs'],\n",
    "          'lg__C' : [ 100 , 1.0],\n",
    "        \n",
    "#         'rf__class_weight' :['balanced'], \n",
    "#         'rf__n_estimators' : [10,100,300],\n",
    "#         'rf__max_depth' : [10,20,30],\n",
    "#         'rf__max_features' : ['auto',None],\n",
    "        \n",
    "#         'svc__C': [100,10,1],\n",
    "#         'svc__kernel' : ['linear', 'poly', 'rbf'],\n",
    "#         'svc__class_weight' :['balanced'], \n",
    "        \n",
    "#         'xgb__booster': [\"gbtree\",'dart','gblinear'],\n",
    "#         'xgb__max_depth' : [6 ,10, 20],\n",
    "#         'xgb__class_weight' :['balanced'], \n",
    "        \n",
    "   })\n",
    "}\n",
    "from sklearn.model_selection import GridSearchCV"
   ]
  },
  {
   "cell_type": "code",
   "execution_count": 5,
   "metadata": {},
   "outputs": [],
   "source": [
    "# data_X =pd.read_csv('/home/sid2020-7/Bureau/DATA1/X_data_v2.csv')\n",
    "# data_y =pd.read_csv('/home/sid2020-7/Bureau/DATA1/y_data_v2.csv')\n",
    "# data_B =pd.read_csv('/home/sid2020-7/Bureau/DATA1/data_clean_v10.csv')\n",
    "# data=data_B[features]\n",
    "# data_B.head(5)\n",
    "# X= data_X.values\n",
    "# y= data_y['TOP_FRAUDE'].values\n",
    "# X\n",
    "# data_B\n",
    "L=list(data_B.columns)\n",
    "L.remove('TOP_FRAUDE')\n",
    "X= data_B[L].values\n",
    "y= data_B.TOP_FRAUDE.values\n"
   ]
  },
  {
   "cell_type": "code",
   "execution_count": 6,
   "metadata": {},
   "outputs": [
    {
     "name": "stdout",
     "output_type": "stream",
     "text": [
      "Fitting 5 folds for each of 12 candidates, totalling 60 fits\n"
     ]
    },
    {
     "name": "stderr",
     "output_type": "stream",
     "text": [
      "/home/sid2020-7/anaconda3/lib/python3.7/site-packages/sklearn/linear_model/_sag.py:354: ConvergenceWarning: The max_iter was reached which means the coef_ did not converge\n",
      "  ConvergenceWarning,\n"
     ]
    },
    {
     "name": "stdout",
     "output_type": "stream",
     "text": [
      "[CV 1/5] END classifier__selected_model=('lg', {'C': 100, 'class_weight': 'balanced', 'penalty': 'l1', 'solver': 'saga'}), scaler__selected_model=('std', {'with_mean': True}); f1: (test=0.009) f2: (test=0.023) roc: (test=0.718) total time= 1.6min\n"
     ]
    },
    {
     "name": "stderr",
     "output_type": "stream",
     "text": [
      "/home/sid2020-7/anaconda3/lib/python3.7/site-packages/sklearn/linear_model/_sag.py:354: ConvergenceWarning: The max_iter was reached which means the coef_ did not converge\n",
      "  ConvergenceWarning,\n"
     ]
    },
    {
     "name": "stdout",
     "output_type": "stream",
     "text": [
      "[CV 2/5] END classifier__selected_model=('lg', {'C': 100, 'class_weight': 'balanced', 'penalty': 'l1', 'solver': 'saga'}), scaler__selected_model=('std', {'with_mean': True}); f1: (test=0.010) f2: (test=0.023) roc: (test=0.741) total time= 1.5min\n"
     ]
    },
    {
     "name": "stderr",
     "output_type": "stream",
     "text": [
      "/home/sid2020-7/anaconda3/lib/python3.7/site-packages/sklearn/linear_model/_sag.py:354: ConvergenceWarning: The max_iter was reached which means the coef_ did not converge\n",
      "  ConvergenceWarning,\n"
     ]
    },
    {
     "name": "stdout",
     "output_type": "stream",
     "text": [
      "[CV 3/5] END classifier__selected_model=('lg', {'C': 100, 'class_weight': 'balanced', 'penalty': 'l1', 'solver': 'saga'}), scaler__selected_model=('std', {'with_mean': True}); f1: (test=0.011) f2: (test=0.027) roc: (test=0.767) total time= 1.4min\n"
     ]
    },
    {
     "name": "stderr",
     "output_type": "stream",
     "text": [
      "/home/sid2020-7/anaconda3/lib/python3.7/site-packages/sklearn/linear_model/_sag.py:354: ConvergenceWarning: The max_iter was reached which means the coef_ did not converge\n",
      "  ConvergenceWarning,\n"
     ]
    },
    {
     "name": "stdout",
     "output_type": "stream",
     "text": [
      "[CV 4/5] END classifier__selected_model=('lg', {'C': 100, 'class_weight': 'balanced', 'penalty': 'l1', 'solver': 'saga'}), scaler__selected_model=('std', {'with_mean': True}); f1: (test=0.010) f2: (test=0.024) roc: (test=0.734) total time= 1.6min\n"
     ]
    },
    {
     "name": "stderr",
     "output_type": "stream",
     "text": [
      "/home/sid2020-7/anaconda3/lib/python3.7/site-packages/sklearn/linear_model/_sag.py:354: ConvergenceWarning: The max_iter was reached which means the coef_ did not converge\n",
      "  ConvergenceWarning,\n"
     ]
    },
    {
     "name": "stdout",
     "output_type": "stream",
     "text": [
      "[CV 5/5] END classifier__selected_model=('lg', {'C': 100, 'class_weight': 'balanced', 'penalty': 'l1', 'solver': 'saga'}), scaler__selected_model=('std', {'with_mean': True}); f1: (test=0.010) f2: (test=0.025) roc: (test=0.751) total time= 1.6min\n",
      "[CV 1/5] END classifier__selected_model=('lg', {'C': 100, 'class_weight': 'balanced', 'penalty': 'l1', 'solver': 'lbfgs'}), scaler__selected_model=('std', {'with_mean': True}); f1: (test=nan) f2: (test=nan) roc: (test=nan) total time=   0.6s\n",
      "[CV 2/5] END classifier__selected_model=('lg', {'C': 100, 'class_weight': 'balanced', 'penalty': 'l1', 'solver': 'lbfgs'}), scaler__selected_model=('std', {'with_mean': True}); f1: (test=nan) f2: (test=nan) roc: (test=nan) total time=   0.6s\n",
      "[CV 3/5] END classifier__selected_model=('lg', {'C': 100, 'class_weight': 'balanced', 'penalty': 'l1', 'solver': 'lbfgs'}), scaler__selected_model=('std', {'with_mean': True}); f1: (test=nan) f2: (test=nan) roc: (test=nan) total time=   0.7s\n",
      "[CV 4/5] END classifier__selected_model=('lg', {'C': 100, 'class_weight': 'balanced', 'penalty': 'l1', 'solver': 'lbfgs'}), scaler__selected_model=('std', {'with_mean': True}); f1: (test=nan) f2: (test=nan) roc: (test=nan) total time=   0.6s\n",
      "[CV 5/5] END classifier__selected_model=('lg', {'C': 100, 'class_weight': 'balanced', 'penalty': 'l1', 'solver': 'lbfgs'}), scaler__selected_model=('std', {'with_mean': True}); f1: (test=nan) f2: (test=nan) roc: (test=nan) total time=   0.6s\n"
     ]
    },
    {
     "name": "stderr",
     "output_type": "stream",
     "text": [
      "/home/sid2020-7/anaconda3/lib/python3.7/site-packages/sklearn/linear_model/_sag.py:354: ConvergenceWarning: The max_iter was reached which means the coef_ did not converge\n",
      "  ConvergenceWarning,\n"
     ]
    },
    {
     "name": "stdout",
     "output_type": "stream",
     "text": [
      "[CV 1/5] END classifier__selected_model=('lg', {'C': 100, 'class_weight': 'balanced', 'penalty': 'l2', 'solver': 'saga'}), scaler__selected_model=('std', {'with_mean': True}); f1: (test=0.009) f2: (test=0.023) roc: (test=0.718) total time= 1.3min\n"
     ]
    },
    {
     "name": "stderr",
     "output_type": "stream",
     "text": [
      "/home/sid2020-7/anaconda3/lib/python3.7/site-packages/sklearn/linear_model/_sag.py:354: ConvergenceWarning: The max_iter was reached which means the coef_ did not converge\n",
      "  ConvergenceWarning,\n"
     ]
    },
    {
     "name": "stdout",
     "output_type": "stream",
     "text": [
      "[CV 2/5] END classifier__selected_model=('lg', {'C': 100, 'class_weight': 'balanced', 'penalty': 'l2', 'solver': 'saga'}), scaler__selected_model=('std', {'with_mean': True}); f1: (test=0.010) f2: (test=0.023) roc: (test=0.741) total time= 1.3min\n"
     ]
    },
    {
     "name": "stderr",
     "output_type": "stream",
     "text": [
      "/home/sid2020-7/anaconda3/lib/python3.7/site-packages/sklearn/linear_model/_sag.py:354: ConvergenceWarning: The max_iter was reached which means the coef_ did not converge\n",
      "  ConvergenceWarning,\n"
     ]
    },
    {
     "name": "stdout",
     "output_type": "stream",
     "text": [
      "[CV 3/5] END classifier__selected_model=('lg', {'C': 100, 'class_weight': 'balanced', 'penalty': 'l2', 'solver': 'saga'}), scaler__selected_model=('std', {'with_mean': True}); f1: (test=0.011) f2: (test=0.027) roc: (test=0.767) total time= 1.3min\n"
     ]
    },
    {
     "name": "stderr",
     "output_type": "stream",
     "text": [
      "/home/sid2020-7/anaconda3/lib/python3.7/site-packages/sklearn/linear_model/_sag.py:354: ConvergenceWarning: The max_iter was reached which means the coef_ did not converge\n",
      "  ConvergenceWarning,\n"
     ]
    },
    {
     "name": "stdout",
     "output_type": "stream",
     "text": [
      "[CV 4/5] END classifier__selected_model=('lg', {'C': 100, 'class_weight': 'balanced', 'penalty': 'l2', 'solver': 'saga'}), scaler__selected_model=('std', {'with_mean': True}); f1: (test=0.010) f2: (test=0.024) roc: (test=0.734) total time= 1.3min\n"
     ]
    },
    {
     "name": "stderr",
     "output_type": "stream",
     "text": [
      "/home/sid2020-7/anaconda3/lib/python3.7/site-packages/sklearn/linear_model/_sag.py:354: ConvergenceWarning: The max_iter was reached which means the coef_ did not converge\n",
      "  ConvergenceWarning,\n"
     ]
    },
    {
     "name": "stdout",
     "output_type": "stream",
     "text": [
      "[CV 5/5] END classifier__selected_model=('lg', {'C': 100, 'class_weight': 'balanced', 'penalty': 'l2', 'solver': 'saga'}), scaler__selected_model=('std', {'with_mean': True}); f1: (test=0.010) f2: (test=0.025) roc: (test=0.751) total time= 1.2min\n"
     ]
    },
    {
     "name": "stderr",
     "output_type": "stream",
     "text": [
      "/home/sid2020-7/anaconda3/lib/python3.7/site-packages/sklearn/linear_model/_logistic.py:818: ConvergenceWarning: lbfgs failed to converge (status=1):\n",
      "STOP: TOTAL NO. of ITERATIONS REACHED LIMIT.\n",
      "\n",
      "Increase the number of iterations (max_iter) or scale the data as shown in:\n",
      "    https://scikit-learn.org/stable/modules/preprocessing.html\n",
      "Please also refer to the documentation for alternative solver options:\n",
      "    https://scikit-learn.org/stable/modules/linear_model.html#logistic-regression\n",
      "  extra_warning_msg=_LOGISTIC_SOLVER_CONVERGENCE_MSG,\n"
     ]
    },
    {
     "name": "stdout",
     "output_type": "stream",
     "text": [
      "[CV 1/5] END classifier__selected_model=('lg', {'C': 100, 'class_weight': 'balanced', 'penalty': 'l2', 'solver': 'lbfgs'}), scaler__selected_model=('std', {'with_mean': True}); f1: (test=0.010) f2: (test=0.023) roc: (test=0.718) total time=  15.2s\n"
     ]
    },
    {
     "name": "stderr",
     "output_type": "stream",
     "text": [
      "/home/sid2020-7/anaconda3/lib/python3.7/site-packages/sklearn/linear_model/_logistic.py:818: ConvergenceWarning: lbfgs failed to converge (status=1):\n",
      "STOP: TOTAL NO. of ITERATIONS REACHED LIMIT.\n",
      "\n",
      "Increase the number of iterations (max_iter) or scale the data as shown in:\n",
      "    https://scikit-learn.org/stable/modules/preprocessing.html\n",
      "Please also refer to the documentation for alternative solver options:\n",
      "    https://scikit-learn.org/stable/modules/linear_model.html#logistic-regression\n",
      "  extra_warning_msg=_LOGISTIC_SOLVER_CONVERGENCE_MSG,\n"
     ]
    },
    {
     "name": "stdout",
     "output_type": "stream",
     "text": [
      "[CV 2/5] END classifier__selected_model=('lg', {'C': 100, 'class_weight': 'balanced', 'penalty': 'l2', 'solver': 'lbfgs'}), scaler__selected_model=('std', {'with_mean': True}); f1: (test=0.010) f2: (test=0.023) roc: (test=0.740) total time=  15.5s\n"
     ]
    },
    {
     "name": "stderr",
     "output_type": "stream",
     "text": [
      "/home/sid2020-7/anaconda3/lib/python3.7/site-packages/sklearn/linear_model/_logistic.py:818: ConvergenceWarning: lbfgs failed to converge (status=1):\n",
      "STOP: TOTAL NO. of ITERATIONS REACHED LIMIT.\n",
      "\n",
      "Increase the number of iterations (max_iter) or scale the data as shown in:\n",
      "    https://scikit-learn.org/stable/modules/preprocessing.html\n",
      "Please also refer to the documentation for alternative solver options:\n",
      "    https://scikit-learn.org/stable/modules/linear_model.html#logistic-regression\n",
      "  extra_warning_msg=_LOGISTIC_SOLVER_CONVERGENCE_MSG,\n"
     ]
    },
    {
     "name": "stdout",
     "output_type": "stream",
     "text": [
      "[CV 3/5] END classifier__selected_model=('lg', {'C': 100, 'class_weight': 'balanced', 'penalty': 'l2', 'solver': 'lbfgs'}), scaler__selected_model=('std', {'with_mean': True}); f1: (test=0.011) f2: (test=0.027) roc: (test=0.771) total time=  15.6s\n"
     ]
    },
    {
     "name": "stderr",
     "output_type": "stream",
     "text": [
      "/home/sid2020-7/anaconda3/lib/python3.7/site-packages/sklearn/linear_model/_logistic.py:818: ConvergenceWarning: lbfgs failed to converge (status=1):\n",
      "STOP: TOTAL NO. of ITERATIONS REACHED LIMIT.\n",
      "\n",
      "Increase the number of iterations (max_iter) or scale the data as shown in:\n",
      "    https://scikit-learn.org/stable/modules/preprocessing.html\n",
      "Please also refer to the documentation for alternative solver options:\n",
      "    https://scikit-learn.org/stable/modules/linear_model.html#logistic-regression\n",
      "  extra_warning_msg=_LOGISTIC_SOLVER_CONVERGENCE_MSG,\n"
     ]
    },
    {
     "name": "stdout",
     "output_type": "stream",
     "text": [
      "[CV 4/5] END classifier__selected_model=('lg', {'C': 100, 'class_weight': 'balanced', 'penalty': 'l2', 'solver': 'lbfgs'}), scaler__selected_model=('std', {'with_mean': True}); f1: (test=0.010) f2: (test=0.024) roc: (test=0.736) total time=  16.3s\n"
     ]
    },
    {
     "name": "stderr",
     "output_type": "stream",
     "text": [
      "/home/sid2020-7/anaconda3/lib/python3.7/site-packages/sklearn/linear_model/_logistic.py:818: ConvergenceWarning: lbfgs failed to converge (status=1):\n",
      "STOP: TOTAL NO. of ITERATIONS REACHED LIMIT.\n",
      "\n",
      "Increase the number of iterations (max_iter) or scale the data as shown in:\n",
      "    https://scikit-learn.org/stable/modules/preprocessing.html\n",
      "Please also refer to the documentation for alternative solver options:\n",
      "    https://scikit-learn.org/stable/modules/linear_model.html#logistic-regression\n",
      "  extra_warning_msg=_LOGISTIC_SOLVER_CONVERGENCE_MSG,\n"
     ]
    },
    {
     "name": "stdout",
     "output_type": "stream",
     "text": [
      "[CV 5/5] END classifier__selected_model=('lg', {'C': 100, 'class_weight': 'balanced', 'penalty': 'l2', 'solver': 'lbfgs'}), scaler__selected_model=('std', {'with_mean': True}); f1: (test=0.010) f2: (test=0.025) roc: (test=0.750) total time=  16.0s\n",
      "[CV 1/5] END classifier__selected_model=('lg', {'C': 100, 'class_weight': 'balanced', 'penalty': 'elasticnet', 'solver': 'saga'}), scaler__selected_model=('std', {'with_mean': True}); f1: (test=nan) f2: (test=nan) roc: (test=nan) total time=   0.8s\n",
      "[CV 2/5] END classifier__selected_model=('lg', {'C': 100, 'class_weight': 'balanced', 'penalty': 'elasticnet', 'solver': 'saga'}), scaler__selected_model=('std', {'with_mean': True}); f1: (test=nan) f2: (test=nan) roc: (test=nan) total time=   0.7s\n",
      "[CV 3/5] END classifier__selected_model=('lg', {'C': 100, 'class_weight': 'balanced', 'penalty': 'elasticnet', 'solver': 'saga'}), scaler__selected_model=('std', {'with_mean': True}); f1: (test=nan) f2: (test=nan) roc: (test=nan) total time=   0.6s\n",
      "[CV 4/5] END classifier__selected_model=('lg', {'C': 100, 'class_weight': 'balanced', 'penalty': 'elasticnet', 'solver': 'saga'}), scaler__selected_model=('std', {'with_mean': True}); f1: (test=nan) f2: (test=nan) roc: (test=nan) total time=   0.6s\n",
      "[CV 5/5] END classifier__selected_model=('lg', {'C': 100, 'class_weight': 'balanced', 'penalty': 'elasticnet', 'solver': 'saga'}), scaler__selected_model=('std', {'with_mean': True}); f1: (test=nan) f2: (test=nan) roc: (test=nan) total time=   0.6s\n",
      "[CV 1/5] END classifier__selected_model=('lg', {'C': 100, 'class_weight': 'balanced', 'penalty': 'elasticnet', 'solver': 'lbfgs'}), scaler__selected_model=('std', {'with_mean': True}); f1: (test=nan) f2: (test=nan) roc: (test=nan) total time=   0.6s\n",
      "[CV 2/5] END classifier__selected_model=('lg', {'C': 100, 'class_weight': 'balanced', 'penalty': 'elasticnet', 'solver': 'lbfgs'}), scaler__selected_model=('std', {'with_mean': True}); f1: (test=nan) f2: (test=nan) roc: (test=nan) total time=   0.6s\n",
      "[CV 3/5] END classifier__selected_model=('lg', {'C': 100, 'class_weight': 'balanced', 'penalty': 'elasticnet', 'solver': 'lbfgs'}), scaler__selected_model=('std', {'with_mean': True}); f1: (test=nan) f2: (test=nan) roc: (test=nan) total time=   0.6s\n",
      "[CV 4/5] END classifier__selected_model=('lg', {'C': 100, 'class_weight': 'balanced', 'penalty': 'elasticnet', 'solver': 'lbfgs'}), scaler__selected_model=('std', {'with_mean': True}); f1: (test=nan) f2: (test=nan) roc: (test=nan) total time=   0.6s\n",
      "[CV 5/5] END classifier__selected_model=('lg', {'C': 100, 'class_weight': 'balanced', 'penalty': 'elasticnet', 'solver': 'lbfgs'}), scaler__selected_model=('std', {'with_mean': True}); f1: (test=nan) f2: (test=nan) roc: (test=nan) total time=   0.6s\n"
     ]
    },
    {
     "name": "stderr",
     "output_type": "stream",
     "text": [
      "/home/sid2020-7/anaconda3/lib/python3.7/site-packages/sklearn/linear_model/_sag.py:354: ConvergenceWarning: The max_iter was reached which means the coef_ did not converge\n",
      "  ConvergenceWarning,\n"
     ]
    },
    {
     "name": "stdout",
     "output_type": "stream",
     "text": [
      "[CV 1/5] END classifier__selected_model=('lg', {'C': 1.0, 'class_weight': 'balanced', 'penalty': 'l1', 'solver': 'saga'}), scaler__selected_model=('std', {'with_mean': True}); f1: (test=0.009) f2: (test=0.023) roc: (test=0.718) total time= 1.5min\n"
     ]
    },
    {
     "name": "stderr",
     "output_type": "stream",
     "text": [
      "/home/sid2020-7/anaconda3/lib/python3.7/site-packages/sklearn/linear_model/_sag.py:354: ConvergenceWarning: The max_iter was reached which means the coef_ did not converge\n",
      "  ConvergenceWarning,\n"
     ]
    },
    {
     "name": "stdout",
     "output_type": "stream",
     "text": [
      "[CV 2/5] END classifier__selected_model=('lg', {'C': 1.0, 'class_weight': 'balanced', 'penalty': 'l1', 'solver': 'saga'}), scaler__selected_model=('std', {'with_mean': True}); f1: (test=0.010) f2: (test=0.023) roc: (test=0.741) total time= 1.6min\n"
     ]
    },
    {
     "name": "stderr",
     "output_type": "stream",
     "text": [
      "/home/sid2020-7/anaconda3/lib/python3.7/site-packages/sklearn/linear_model/_sag.py:354: ConvergenceWarning: The max_iter was reached which means the coef_ did not converge\n",
      "  ConvergenceWarning,\n"
     ]
    },
    {
     "name": "stdout",
     "output_type": "stream",
     "text": [
      "[CV 3/5] END classifier__selected_model=('lg', {'C': 1.0, 'class_weight': 'balanced', 'penalty': 'l1', 'solver': 'saga'}), scaler__selected_model=('std', {'with_mean': True}); f1: (test=0.011) f2: (test=0.027) roc: (test=0.767) total time= 1.5min\n"
     ]
    },
    {
     "name": "stderr",
     "output_type": "stream",
     "text": [
      "/home/sid2020-7/anaconda3/lib/python3.7/site-packages/sklearn/linear_model/_sag.py:354: ConvergenceWarning: The max_iter was reached which means the coef_ did not converge\n",
      "  ConvergenceWarning,\n"
     ]
    },
    {
     "name": "stdout",
     "output_type": "stream",
     "text": [
      "[CV 4/5] END classifier__selected_model=('lg', {'C': 1.0, 'class_weight': 'balanced', 'penalty': 'l1', 'solver': 'saga'}), scaler__selected_model=('std', {'with_mean': True}); f1: (test=0.010) f2: (test=0.024) roc: (test=0.734) total time= 1.7min\n"
     ]
    },
    {
     "name": "stderr",
     "output_type": "stream",
     "text": [
      "/home/sid2020-7/anaconda3/lib/python3.7/site-packages/sklearn/linear_model/_sag.py:354: ConvergenceWarning: The max_iter was reached which means the coef_ did not converge\n",
      "  ConvergenceWarning,\n"
     ]
    },
    {
     "name": "stdout",
     "output_type": "stream",
     "text": [
      "[CV 5/5] END classifier__selected_model=('lg', {'C': 1.0, 'class_weight': 'balanced', 'penalty': 'l1', 'solver': 'saga'}), scaler__selected_model=('std', {'with_mean': True}); f1: (test=0.010) f2: (test=0.025) roc: (test=0.751) total time= 1.5min\n",
      "[CV 1/5] END classifier__selected_model=('lg', {'C': 1.0, 'class_weight': 'balanced', 'penalty': 'l1', 'solver': 'lbfgs'}), scaler__selected_model=('std', {'with_mean': True}); f1: (test=nan) f2: (test=nan) roc: (test=nan) total time=   0.6s\n",
      "[CV 2/5] END classifier__selected_model=('lg', {'C': 1.0, 'class_weight': 'balanced', 'penalty': 'l1', 'solver': 'lbfgs'}), scaler__selected_model=('std', {'with_mean': True}); f1: (test=nan) f2: (test=nan) roc: (test=nan) total time=   0.6s\n",
      "[CV 3/5] END classifier__selected_model=('lg', {'C': 1.0, 'class_weight': 'balanced', 'penalty': 'l1', 'solver': 'lbfgs'}), scaler__selected_model=('std', {'with_mean': True}); f1: (test=nan) f2: (test=nan) roc: (test=nan) total time=   0.6s\n",
      "[CV 4/5] END classifier__selected_model=('lg', {'C': 1.0, 'class_weight': 'balanced', 'penalty': 'l1', 'solver': 'lbfgs'}), scaler__selected_model=('std', {'with_mean': True}); f1: (test=nan) f2: (test=nan) roc: (test=nan) total time=   0.6s\n",
      "[CV 5/5] END classifier__selected_model=('lg', {'C': 1.0, 'class_weight': 'balanced', 'penalty': 'l1', 'solver': 'lbfgs'}), scaler__selected_model=('std', {'with_mean': True}); f1: (test=nan) f2: (test=nan) roc: (test=nan) total time=   0.6s\n"
     ]
    },
    {
     "name": "stderr",
     "output_type": "stream",
     "text": [
      "/home/sid2020-7/anaconda3/lib/python3.7/site-packages/sklearn/linear_model/_sag.py:354: ConvergenceWarning: The max_iter was reached which means the coef_ did not converge\n",
      "  ConvergenceWarning,\n"
     ]
    },
    {
     "name": "stdout",
     "output_type": "stream",
     "text": [
      "[CV 1/5] END classifier__selected_model=('lg', {'C': 1.0, 'class_weight': 'balanced', 'penalty': 'l2', 'solver': 'saga'}), scaler__selected_model=('std', {'with_mean': True}); f1: (test=0.009) f2: (test=0.023) roc: (test=0.718) total time= 1.3min\n"
     ]
    },
    {
     "name": "stderr",
     "output_type": "stream",
     "text": [
      "/home/sid2020-7/anaconda3/lib/python3.7/site-packages/sklearn/linear_model/_sag.py:354: ConvergenceWarning: The max_iter was reached which means the coef_ did not converge\n",
      "  ConvergenceWarning,\n"
     ]
    },
    {
     "name": "stdout",
     "output_type": "stream",
     "text": [
      "[CV 2/5] END classifier__selected_model=('lg', {'C': 1.0, 'class_weight': 'balanced', 'penalty': 'l2', 'solver': 'saga'}), scaler__selected_model=('std', {'with_mean': True}); f1: (test=0.010) f2: (test=0.023) roc: (test=0.741) total time= 1.3min\n"
     ]
    },
    {
     "name": "stderr",
     "output_type": "stream",
     "text": [
      "/home/sid2020-7/anaconda3/lib/python3.7/site-packages/sklearn/linear_model/_sag.py:354: ConvergenceWarning: The max_iter was reached which means the coef_ did not converge\n",
      "  ConvergenceWarning,\n"
     ]
    },
    {
     "name": "stdout",
     "output_type": "stream",
     "text": [
      "[CV 3/5] END classifier__selected_model=('lg', {'C': 1.0, 'class_weight': 'balanced', 'penalty': 'l2', 'solver': 'saga'}), scaler__selected_model=('std', {'with_mean': True}); f1: (test=0.011) f2: (test=0.027) roc: (test=0.767) total time= 1.3min\n"
     ]
    },
    {
     "name": "stderr",
     "output_type": "stream",
     "text": [
      "/home/sid2020-7/anaconda3/lib/python3.7/site-packages/sklearn/linear_model/_sag.py:354: ConvergenceWarning: The max_iter was reached which means the coef_ did not converge\n",
      "  ConvergenceWarning,\n"
     ]
    },
    {
     "name": "stdout",
     "output_type": "stream",
     "text": [
      "[CV 4/5] END classifier__selected_model=('lg', {'C': 1.0, 'class_weight': 'balanced', 'penalty': 'l2', 'solver': 'saga'}), scaler__selected_model=('std', {'with_mean': True}); f1: (test=0.010) f2: (test=0.024) roc: (test=0.734) total time= 1.3min\n"
     ]
    },
    {
     "name": "stderr",
     "output_type": "stream",
     "text": [
      "/home/sid2020-7/anaconda3/lib/python3.7/site-packages/sklearn/linear_model/_sag.py:354: ConvergenceWarning: The max_iter was reached which means the coef_ did not converge\n",
      "  ConvergenceWarning,\n"
     ]
    },
    {
     "name": "stdout",
     "output_type": "stream",
     "text": [
      "[CV 5/5] END classifier__selected_model=('lg', {'C': 1.0, 'class_weight': 'balanced', 'penalty': 'l2', 'solver': 'saga'}), scaler__selected_model=('std', {'with_mean': True}); f1: (test=0.010) f2: (test=0.025) roc: (test=0.751) total time= 1.4min\n",
      "[CV 1/5] END classifier__selected_model=('lg', {'C': 1.0, 'class_weight': 'balanced', 'penalty': 'l2', 'solver': 'lbfgs'}), scaler__selected_model=('std', {'with_mean': True}); f1: (test=0.010) f2: (test=0.023) roc: (test=0.718) total time=  15.7s\n"
     ]
    },
    {
     "name": "stderr",
     "output_type": "stream",
     "text": [
      "/home/sid2020-7/anaconda3/lib/python3.7/site-packages/sklearn/linear_model/_logistic.py:818: ConvergenceWarning: lbfgs failed to converge (status=1):\n",
      "STOP: TOTAL NO. of ITERATIONS REACHED LIMIT.\n",
      "\n",
      "Increase the number of iterations (max_iter) or scale the data as shown in:\n",
      "    https://scikit-learn.org/stable/modules/preprocessing.html\n",
      "Please also refer to the documentation for alternative solver options:\n",
      "    https://scikit-learn.org/stable/modules/linear_model.html#logistic-regression\n",
      "  extra_warning_msg=_LOGISTIC_SOLVER_CONVERGENCE_MSG,\n"
     ]
    },
    {
     "name": "stdout",
     "output_type": "stream",
     "text": [
      "[CV 2/5] END classifier__selected_model=('lg', {'C': 1.0, 'class_weight': 'balanced', 'penalty': 'l2', 'solver': 'lbfgs'}), scaler__selected_model=('std', {'with_mean': True}); f1: (test=0.010) f2: (test=0.023) roc: (test=0.740) total time=  16.7s\n"
     ]
    },
    {
     "name": "stderr",
     "output_type": "stream",
     "text": [
      "/home/sid2020-7/anaconda3/lib/python3.7/site-packages/sklearn/linear_model/_logistic.py:818: ConvergenceWarning: lbfgs failed to converge (status=1):\n",
      "STOP: TOTAL NO. of ITERATIONS REACHED LIMIT.\n",
      "\n",
      "Increase the number of iterations (max_iter) or scale the data as shown in:\n",
      "    https://scikit-learn.org/stable/modules/preprocessing.html\n",
      "Please also refer to the documentation for alternative solver options:\n",
      "    https://scikit-learn.org/stable/modules/linear_model.html#logistic-regression\n",
      "  extra_warning_msg=_LOGISTIC_SOLVER_CONVERGENCE_MSG,\n"
     ]
    },
    {
     "name": "stdout",
     "output_type": "stream",
     "text": [
      "[CV 3/5] END classifier__selected_model=('lg', {'C': 1.0, 'class_weight': 'balanced', 'penalty': 'l2', 'solver': 'lbfgs'}), scaler__selected_model=('std', {'with_mean': True}); f1: (test=0.011) f2: (test=0.027) roc: (test=0.771) total time=  17.1s\n"
     ]
    },
    {
     "name": "stderr",
     "output_type": "stream",
     "text": [
      "/home/sid2020-7/anaconda3/lib/python3.7/site-packages/sklearn/linear_model/_logistic.py:818: ConvergenceWarning: lbfgs failed to converge (status=1):\n",
      "STOP: TOTAL NO. of ITERATIONS REACHED LIMIT.\n",
      "\n",
      "Increase the number of iterations (max_iter) or scale the data as shown in:\n",
      "    https://scikit-learn.org/stable/modules/preprocessing.html\n",
      "Please also refer to the documentation for alternative solver options:\n",
      "    https://scikit-learn.org/stable/modules/linear_model.html#logistic-regression\n",
      "  extra_warning_msg=_LOGISTIC_SOLVER_CONVERGENCE_MSG,\n"
     ]
    },
    {
     "name": "stdout",
     "output_type": "stream",
     "text": [
      "[CV 4/5] END classifier__selected_model=('lg', {'C': 1.0, 'class_weight': 'balanced', 'penalty': 'l2', 'solver': 'lbfgs'}), scaler__selected_model=('std', {'with_mean': True}); f1: (test=0.010) f2: (test=0.025) roc: (test=0.736) total time=  18.7s\n"
     ]
    },
    {
     "name": "stderr",
     "output_type": "stream",
     "text": [
      "/home/sid2020-7/anaconda3/lib/python3.7/site-packages/sklearn/linear_model/_logistic.py:818: ConvergenceWarning: lbfgs failed to converge (status=1):\n",
      "STOP: TOTAL NO. of ITERATIONS REACHED LIMIT.\n",
      "\n",
      "Increase the number of iterations (max_iter) or scale the data as shown in:\n",
      "    https://scikit-learn.org/stable/modules/preprocessing.html\n",
      "Please also refer to the documentation for alternative solver options:\n",
      "    https://scikit-learn.org/stable/modules/linear_model.html#logistic-regression\n",
      "  extra_warning_msg=_LOGISTIC_SOLVER_CONVERGENCE_MSG,\n"
     ]
    },
    {
     "name": "stdout",
     "output_type": "stream",
     "text": [
      "[CV 5/5] END classifier__selected_model=('lg', {'C': 1.0, 'class_weight': 'balanced', 'penalty': 'l2', 'solver': 'lbfgs'}), scaler__selected_model=('std', {'with_mean': True}); f1: (test=0.010) f2: (test=0.025) roc: (test=0.750) total time=  17.8s\n",
      "[CV 1/5] END classifier__selected_model=('lg', {'C': 1.0, 'class_weight': 'balanced', 'penalty': 'elasticnet', 'solver': 'saga'}), scaler__selected_model=('std', {'with_mean': True}); f1: (test=nan) f2: (test=nan) roc: (test=nan) total time=   0.8s\n",
      "[CV 2/5] END classifier__selected_model=('lg', {'C': 1.0, 'class_weight': 'balanced', 'penalty': 'elasticnet', 'solver': 'saga'}), scaler__selected_model=('std', {'with_mean': True}); f1: (test=nan) f2: (test=nan) roc: (test=nan) total time=   0.8s\n",
      "[CV 3/5] END classifier__selected_model=('lg', {'C': 1.0, 'class_weight': 'balanced', 'penalty': 'elasticnet', 'solver': 'saga'}), scaler__selected_model=('std', {'with_mean': True}); f1: (test=nan) f2: (test=nan) roc: (test=nan) total time=   0.7s\n",
      "[CV 4/5] END classifier__selected_model=('lg', {'C': 1.0, 'class_weight': 'balanced', 'penalty': 'elasticnet', 'solver': 'saga'}), scaler__selected_model=('std', {'with_mean': True}); f1: (test=nan) f2: (test=nan) roc: (test=nan) total time=   0.6s\n",
      "[CV 5/5] END classifier__selected_model=('lg', {'C': 1.0, 'class_weight': 'balanced', 'penalty': 'elasticnet', 'solver': 'saga'}), scaler__selected_model=('std', {'with_mean': True}); f1: (test=nan) f2: (test=nan) roc: (test=nan) total time=   0.7s\n",
      "[CV 1/5] END classifier__selected_model=('lg', {'C': 1.0, 'class_weight': 'balanced', 'penalty': 'elasticnet', 'solver': 'lbfgs'}), scaler__selected_model=('std', {'with_mean': True}); f1: (test=nan) f2: (test=nan) roc: (test=nan) total time=   0.6s\n",
      "[CV 2/5] END classifier__selected_model=('lg', {'C': 1.0, 'class_weight': 'balanced', 'penalty': 'elasticnet', 'solver': 'lbfgs'}), scaler__selected_model=('std', {'with_mean': True}); f1: (test=nan) f2: (test=nan) roc: (test=nan) total time=   0.7s\n",
      "[CV 3/5] END classifier__selected_model=('lg', {'C': 1.0, 'class_weight': 'balanced', 'penalty': 'elasticnet', 'solver': 'lbfgs'}), scaler__selected_model=('std', {'with_mean': True}); f1: (test=nan) f2: (test=nan) roc: (test=nan) total time=   0.6s\n",
      "[CV 4/5] END classifier__selected_model=('lg', {'C': 1.0, 'class_weight': 'balanced', 'penalty': 'elasticnet', 'solver': 'lbfgs'}), scaler__selected_model=('std', {'with_mean': True}); f1: (test=nan) f2: (test=nan) roc: (test=nan) total time=   0.8s\n",
      "[CV 5/5] END classifier__selected_model=('lg', {'C': 1.0, 'class_weight': 'balanced', 'penalty': 'elasticnet', 'solver': 'lbfgs'}), scaler__selected_model=('std', {'with_mean': True}); f1: (test=nan) f2: (test=nan) roc: (test=nan) total time=   0.8s\n"
     ]
    },
    {
     "name": "stderr",
     "output_type": "stream",
     "text": [
      "/home/sid2020-7/anaconda3/lib/python3.7/site-packages/sklearn/model_selection/_validation.py:372: FitFailedWarning: \n",
      "30 fits failed out of a total of 60.\n",
      "The score on these train-test partitions for these parameters will be set to nan.\n",
      "If these failures are not expected, you can try to debug them by setting error_score='raise'.\n",
      "\n",
      "Below are more details about the failures:\n",
      "--------------------------------------------------------------------------------\n",
      "10 fits failed with the following error:\n",
      "Traceback (most recent call last):\n",
      "  File \"/home/sid2020-7/anaconda3/lib/python3.7/site-packages/sklearn/model_selection/_validation.py\", line 680, in _fit_and_score\n",
      "    estimator.fit(X_train, y_train, **fit_params)\n",
      "  File \"/home/sid2020-7/anaconda3/lib/python3.7/site-packages/sklearn/pipeline.py\", line 394, in fit\n",
      "    self._final_estimator.fit(Xt, y, **fit_params_last_step)\n",
      "  File \"/home/sid2020-7/anaconda3/lib/python3.7/site-packages/pipelinehelper/__init__.py\", line 159, in fit\n",
      "    return self.selected_model.fit(x, y, **kwargs)\n",
      "  File \"/home/sid2020-7/anaconda3/lib/python3.7/site-packages/sklearn/linear_model/_logistic.py\", line 1461, in fit\n",
      "    solver = _check_solver(self.solver, self.penalty, self.dual)\n",
      "  File \"/home/sid2020-7/anaconda3/lib/python3.7/site-packages/sklearn/linear_model/_logistic.py\", line 449, in _check_solver\n",
      "    % (solver, penalty)\n",
      "ValueError: Solver lbfgs supports only 'l2' or 'none' penalties, got l1 penalty.\n",
      "\n",
      "--------------------------------------------------------------------------------\n",
      "10 fits failed with the following error:\n",
      "Traceback (most recent call last):\n",
      "  File \"/home/sid2020-7/anaconda3/lib/python3.7/site-packages/sklearn/model_selection/_validation.py\", line 680, in _fit_and_score\n",
      "    estimator.fit(X_train, y_train, **fit_params)\n",
      "  File \"/home/sid2020-7/anaconda3/lib/python3.7/site-packages/sklearn/pipeline.py\", line 394, in fit\n",
      "    self._final_estimator.fit(Xt, y, **fit_params_last_step)\n",
      "  File \"/home/sid2020-7/anaconda3/lib/python3.7/site-packages/pipelinehelper/__init__.py\", line 159, in fit\n",
      "    return self.selected_model.fit(x, y, **kwargs)\n",
      "  File \"/home/sid2020-7/anaconda3/lib/python3.7/site-packages/sklearn/linear_model/_logistic.py\", line 1473, in fit\n",
      "    % self.l1_ratio\n",
      "ValueError: l1_ratio must be between 0 and 1; got (l1_ratio=None)\n",
      "\n",
      "--------------------------------------------------------------------------------\n",
      "10 fits failed with the following error:\n",
      "Traceback (most recent call last):\n",
      "  File \"/home/sid2020-7/anaconda3/lib/python3.7/site-packages/sklearn/model_selection/_validation.py\", line 680, in _fit_and_score\n",
      "    estimator.fit(X_train, y_train, **fit_params)\n",
      "  File \"/home/sid2020-7/anaconda3/lib/python3.7/site-packages/sklearn/pipeline.py\", line 394, in fit\n",
      "    self._final_estimator.fit(Xt, y, **fit_params_last_step)\n",
      "  File \"/home/sid2020-7/anaconda3/lib/python3.7/site-packages/pipelinehelper/__init__.py\", line 159, in fit\n",
      "    return self.selected_model.fit(x, y, **kwargs)\n",
      "  File \"/home/sid2020-7/anaconda3/lib/python3.7/site-packages/sklearn/linear_model/_logistic.py\", line 1461, in fit\n",
      "    solver = _check_solver(self.solver, self.penalty, self.dual)\n",
      "  File \"/home/sid2020-7/anaconda3/lib/python3.7/site-packages/sklearn/linear_model/_logistic.py\", line 449, in _check_solver\n",
      "    % (solver, penalty)\n",
      "ValueError: Solver lbfgs supports only 'l2' or 'none' penalties, got elasticnet penalty.\n",
      "\n",
      "  warnings.warn(some_fits_failed_message, FitFailedWarning)\n",
      "/home/sid2020-7/anaconda3/lib/python3.7/site-packages/sklearn/model_selection/_search.py:972: UserWarning: One or more of the test scores are non-finite: [0.02463425        nan 0.02463527 0.02478646        nan        nan\n",
      " 0.02463546        nan 0.02463406 0.02478886        nan        nan]\n",
      "  category=UserWarning,\n",
      "/home/sid2020-7/anaconda3/lib/python3.7/site-packages/sklearn/model_selection/_search.py:972: UserWarning: One or more of the test scores are non-finite: [0.01004439        nan 0.01004481 0.0101078         nan        nan\n",
      " 0.01004489        nan 0.01004431 0.0101088         nan        nan]\n",
      "  category=UserWarning,\n",
      "/home/sid2020-7/anaconda3/lib/python3.7/site-packages/sklearn/model_selection/_search.py:972: UserWarning: One or more of the test scores are non-finite: [0.74211173        nan 0.74211881 0.74288604        nan        nan\n",
      " 0.74211999        nan 0.74211055 0.74289901        nan        nan]\n",
      "  category=UserWarning,\n"
     ]
    },
    {
     "ename": "TypeError",
     "evalue": "__call__() missing 2 required positional arguments: 'X' and 'y_true'",
     "output_type": "error",
     "traceback": [
      "\u001b[0;31m---------------------------------------------------------------------------\u001b[0m",
      "\u001b[0;31mTypeError\u001b[0m                                 Traceback (most recent call last)",
      "\u001b[0;32m<ipython-input-6-bc037d7f4714>\u001b[0m in \u001b[0;36m<module>\u001b[0;34m\u001b[0m\n\u001b[1;32m      1\u001b[0m \u001b[0;31m# grid = GridSearchCV(pipe, params, scoring=dict_score, verbose=3)\u001b[0m\u001b[0;34m\u001b[0m\u001b[0;34m\u001b[0m\u001b[0;34m\u001b[0m\u001b[0m\n\u001b[1;32m      2\u001b[0m \u001b[0mgrid\u001b[0m \u001b[0;34m=\u001b[0m \u001b[0mGridSearchCV\u001b[0m\u001b[0;34m(\u001b[0m\u001b[0mpipe\u001b[0m\u001b[0;34m,\u001b[0m \u001b[0mparams\u001b[0m\u001b[0;34m,\u001b[0m \u001b[0mscoring\u001b[0m\u001b[0;34m=\u001b[0m\u001b[0mdict_score\u001b[0m\u001b[0;34m,\u001b[0m \u001b[0mverbose\u001b[0m\u001b[0;34m=\u001b[0m\u001b[0;36m3\u001b[0m\u001b[0;34m,\u001b[0m\u001b[0mrefit\u001b[0m\u001b[0;34m=\u001b[0m\u001b[0mftwo_scorer\u001b[0m\u001b[0;34m)\u001b[0m\u001b[0;34m\u001b[0m\u001b[0;34m\u001b[0m\u001b[0m\n\u001b[0;32m----> 3\u001b[0;31m \u001b[0mgrid\u001b[0m\u001b[0;34m.\u001b[0m\u001b[0mfit\u001b[0m\u001b[0;34m(\u001b[0m\u001b[0mX\u001b[0m\u001b[0;34m,\u001b[0m \u001b[0my\u001b[0m\u001b[0;34m)\u001b[0m\u001b[0;34m\u001b[0m\u001b[0;34m\u001b[0m\u001b[0m\n\u001b[0m\u001b[1;32m      4\u001b[0m \u001b[0mprint\u001b[0m\u001b[0;34m(\u001b[0m\u001b[0;34m\"Best: %f using %s\"\u001b[0m \u001b[0;34m%\u001b[0m \u001b[0;34m(\u001b[0m\u001b[0mgrid\u001b[0m\u001b[0;34m.\u001b[0m\u001b[0mbest_score_\u001b[0m\u001b[0;34m,\u001b[0m \u001b[0mgrid\u001b[0m\u001b[0;34m.\u001b[0m\u001b[0mbest_params_\u001b[0m\u001b[0;34m)\u001b[0m\u001b[0;34m)\u001b[0m\u001b[0;34m\u001b[0m\u001b[0;34m\u001b[0m\u001b[0m\n\u001b[1;32m      5\u001b[0m \u001b[0mmeans\u001b[0m \u001b[0;34m=\u001b[0m \u001b[0mgrid\u001b[0m\u001b[0;34m.\u001b[0m\u001b[0mcv_results_\u001b[0m\u001b[0;34m[\u001b[0m\u001b[0;34m'mean_test_score'\u001b[0m\u001b[0;34m]\u001b[0m\u001b[0;34m\u001b[0m\u001b[0;34m\u001b[0m\u001b[0m\n",
      "\u001b[0;32m~/anaconda3/lib/python3.7/site-packages/sklearn/model_selection/_search.py\u001b[0m in \u001b[0;36mfit\u001b[0;34m(self, X, y, groups, **fit_params)\u001b[0m\n\u001b[1;32m    906\u001b[0m         \u001b[0;32mif\u001b[0m \u001b[0mself\u001b[0m\u001b[0;34m.\u001b[0m\u001b[0mrefit\u001b[0m \u001b[0;32mor\u001b[0m \u001b[0;32mnot\u001b[0m \u001b[0mself\u001b[0m\u001b[0;34m.\u001b[0m\u001b[0mmultimetric_\u001b[0m\u001b[0;34m:\u001b[0m\u001b[0;34m\u001b[0m\u001b[0;34m\u001b[0m\u001b[0m\n\u001b[1;32m    907\u001b[0m             self.best_index_ = self._select_best_index(\n\u001b[0;32m--> 908\u001b[0;31m                 \u001b[0mself\u001b[0m\u001b[0;34m.\u001b[0m\u001b[0mrefit\u001b[0m\u001b[0;34m,\u001b[0m \u001b[0mrefit_metric\u001b[0m\u001b[0;34m,\u001b[0m \u001b[0mresults\u001b[0m\u001b[0;34m\u001b[0m\u001b[0;34m\u001b[0m\u001b[0m\n\u001b[0m\u001b[1;32m    909\u001b[0m             )\n\u001b[1;32m    910\u001b[0m             \u001b[0;32mif\u001b[0m \u001b[0;32mnot\u001b[0m \u001b[0mcallable\u001b[0m\u001b[0;34m(\u001b[0m\u001b[0mself\u001b[0m\u001b[0;34m.\u001b[0m\u001b[0mrefit\u001b[0m\u001b[0;34m)\u001b[0m\u001b[0;34m:\u001b[0m\u001b[0;34m\u001b[0m\u001b[0;34m\u001b[0m\u001b[0m\n",
      "\u001b[0;32m~/anaconda3/lib/python3.7/site-packages/sklearn/model_selection/_search.py\u001b[0m in \u001b[0;36m_select_best_index\u001b[0;34m(refit, refit_metric, results)\u001b[0m\n\u001b[1;32m    748\u001b[0m             \u001b[0;31m# If callable, refit is expected to return the index of the best\u001b[0m\u001b[0;34m\u001b[0m\u001b[0;34m\u001b[0m\u001b[0;34m\u001b[0m\u001b[0m\n\u001b[1;32m    749\u001b[0m             \u001b[0;31m# parameter set.\u001b[0m\u001b[0;34m\u001b[0m\u001b[0;34m\u001b[0m\u001b[0;34m\u001b[0m\u001b[0m\n\u001b[0;32m--> 750\u001b[0;31m             \u001b[0mbest_index\u001b[0m \u001b[0;34m=\u001b[0m \u001b[0mrefit\u001b[0m\u001b[0;34m(\u001b[0m\u001b[0mresults\u001b[0m\u001b[0;34m)\u001b[0m\u001b[0;34m\u001b[0m\u001b[0;34m\u001b[0m\u001b[0m\n\u001b[0m\u001b[1;32m    751\u001b[0m             \u001b[0;32mif\u001b[0m \u001b[0;32mnot\u001b[0m \u001b[0misinstance\u001b[0m\u001b[0;34m(\u001b[0m\u001b[0mbest_index\u001b[0m\u001b[0;34m,\u001b[0m \u001b[0mnumbers\u001b[0m\u001b[0;34m.\u001b[0m\u001b[0mIntegral\u001b[0m\u001b[0;34m)\u001b[0m\u001b[0;34m:\u001b[0m\u001b[0;34m\u001b[0m\u001b[0;34m\u001b[0m\u001b[0m\n\u001b[1;32m    752\u001b[0m                 \u001b[0;32mraise\u001b[0m \u001b[0mTypeError\u001b[0m\u001b[0;34m(\u001b[0m\u001b[0;34m\"best_index_ returned is not an integer\"\u001b[0m\u001b[0;34m)\u001b[0m\u001b[0;34m\u001b[0m\u001b[0;34m\u001b[0m\u001b[0m\n",
      "\u001b[0;31mTypeError\u001b[0m: __call__() missing 2 required positional arguments: 'X' and 'y_true'"
     ]
    }
   ],
   "source": [
    "# grid = GridSearchCV(pipe, params, scoring=dict_score, verbose=3)\n",
    "grid = GridSearchCV(pipe, params, scoring=dict_score, verbose=3,refit=ftwo_scorer)\n",
    "grid.fit(X, y)\n",
    "print(\"Best: %f using %s\" % (grid.best_score_, grid.best_params_))\n",
    "means = grid.cv_results_['mean_test_score']\n",
    "stds = grid.cv_results_['std_test_score']\n",
    "params = grid.cv_results_['params']\n",
    "for mean, stdev, param in zip(means, stds, params):\n",
    "    print(\"%f (%f) with: %r\" % (mean, stdev, param))\n"
   ]
  },
  {
   "cell_type": "code",
   "execution_count": 16,
   "metadata": {},
   "outputs": [],
   "source": [
    "# print(\"Best: %f using %s\" % (grid.best_score_, grid.best_params_))\n",
    "# means = grid.cv_results_['mean_test_score']\n",
    "# stds = grid.cv_results_['std_test_score']\n",
    "# params = grid.cv_results_['params']\n",
    "# for mean, stdev, param in zip(means, stds, params):\n",
    "#     print(\"%f (%f) with: %r\" % (mean, stdev, param))"
   ]
  },
  {
   "cell_type": "code",
   "execution_count": 8,
   "metadata": {},
   "outputs": [
    {
     "data": {
      "text/html": [
       "<div>\n",
       "<style scoped>\n",
       "    .dataframe tbody tr th:only-of-type {\n",
       "        vertical-align: middle;\n",
       "    }\n",
       "\n",
       "    .dataframe tbody tr th {\n",
       "        vertical-align: top;\n",
       "    }\n",
       "\n",
       "    .dataframe thead th {\n",
       "        text-align: right;\n",
       "    }\n",
       "</style>\n",
       "<table border=\"1\" class=\"dataframe\">\n",
       "  <thead>\n",
       "    <tr style=\"text-align: right;\">\n",
       "      <th></th>\n",
       "      <th>params</th>\n",
       "      <th>mean_score_time</th>\n",
       "      <th>std_score_time</th>\n",
       "      <th>mean_test_score</th>\n",
       "      <th>modele</th>\n",
       "    </tr>\n",
       "  </thead>\n",
       "  <tbody>\n",
       "    <tr>\n",
       "      <th>21</th>\n",
       "      <td>{'classifier__selected_model': ('lg', {'C': 1....</td>\n",
       "      <td>0.009164</td>\n",
       "      <td>0.000789</td>\n",
       "      <td>0.862948</td>\n",
       "      <td>lg</td>\n",
       "    </tr>\n",
       "  </tbody>\n",
       "</table>\n",
       "</div>"
      ],
      "text/plain": [
       "                                               params  mean_score_time  std_score_time  mean_test_score modele\n",
       "21  {'classifier__selected_model': ('lg', {'C': 1....         0.009164        0.000789         0.862948     lg"
      ]
     },
     "execution_count": 8,
     "metadata": {},
     "output_type": "execute_result"
    }
   ],
   "source": [
    "\n",
    "cv_results = pd.DataFrame.from_dict(grid.cv_results_)\n",
    "df = cv_results[['params', 'mean_score_time', 'std_score_time', 'mean_test_score']]  #RAJOUTER LES AUTRES SCORES POSSIBLES !!\n",
    "\n",
    "pd.set_option(\"display.max_rows\", None, \"display.max_columns\", None)\n",
    "pd.set_option('expand_frame_repr', False)\n",
    "d = df.dropna().sort_values('mean_test_score',ascending = False)\n",
    "d['modele'] = [ i['classifier__selected_model'][0] for i in d['params']]\n",
    "d.drop_duplicates('modele',keep='first')\n"
   ]
  },
  {
   "cell_type": "code",
   "execution_count": 32,
   "metadata": {},
   "outputs": [
    {
     "data": {
      "text/plain": [
       "{'classifier__selected_model': ('lg',\n",
       "  {'C': 100,\n",
       "   'class_weight': 'balanced',\n",
       "   'penalty': 'l1',\n",
       "   'solver': 'liblinear'}),\n",
       " 'scaler__selected_model': ('std', {'with_mean': True})}"
      ]
     },
     "execution_count": 32,
     "metadata": {},
     "output_type": "execute_result"
    }
   ],
   "source": [
    "# #Trouver pour chaque modele la meilleure combinaison de paramètres\n",
    "# df['params'][0]\n",
    "# {'classifier__selected_model': ('lg',\n",
    "#   {'C': 100,\n",
    "#    'class_weight': 'balanced',\n",
    "#    'penalty': 'l1',\n",
    "#    'solver': 'liblinear'}),\n",
    "#  'scaler__selected_model': ('std', {'with_mean': True})}"
   ]
  },
  {
   "cell_type": "code",
   "execution_count": 10,
   "metadata": {},
   "outputs": [
    {
     "data": {
      "text/plain": [
       "{'classifier__selected_model': ('lg',\n",
       "  {'C': 100,\n",
       "   'class_weight': 'balanced',\n",
       "   'penalty': 'l1',\n",
       "   'solver': 'liblinear'}),\n",
       " 'scaler__selected_model': ('std', {'with_mean': True})}"
      ]
     },
     "execution_count": 10,
     "metadata": {},
     "output_type": "execute_result"
    }
   ],
   "source": [
    "d['params'][0]\n",
    "# {'classifier__selected_model': ('lg',\n",
    "#   {'C': 100,\n",
    "#    'class_weight': 'balanced',\n",
    "#    'penalty': 'l1',\n",
    "#    'solver': 'liblinear'}),\n",
    "#  'scaler__selected_model': ('std', {'with_mean': True})}"
   ]
  },
  {
   "cell_type": "code",
   "execution_count": 28,
   "metadata": {},
   "outputs": [
    {
     "data": {
      "text/plain": [
       "dict_keys(['mean_fit_time', 'std_fit_time', 'mean_score_time', 'std_score_time', 'param_classifier__selected_model', 'param_scaler__selected_model', 'params', 'split0_test_score', 'split1_test_score', 'split2_test_score', 'split3_test_score', 'split4_test_score', 'mean_test_score', 'std_test_score', 'rank_test_score'])"
      ]
     },
     "execution_count": 28,
     "metadata": {},
     "output_type": "execute_result"
    }
   ],
   "source": [
    "grid.cv_results_.keys()"
   ]
  },
  {
   "cell_type": "code",
   "execution_count": 76,
   "metadata": {},
   "outputs": [
    {
     "data": {
      "text/plain": [
       "dict_keys(['mean_fit_time', 'std_fit_time', 'mean_score_time', 'std_score_time', 'param_classifier__selected_model', 'param_scaler__selected_model', 'params', 'split0_test_score', 'split1_test_score', 'split2_test_score', 'split3_test_score', 'split4_test_score', 'mean_test_score', 'std_test_score', 'rank_test_score'])"
      ]
     },
     "execution_count": 76,
     "metadata": {},
     "output_type": "execute_result"
    }
   ],
   "source": [
    "(grid.cv_results_.keys())"
   ]
  },
  {
   "cell_type": "code",
   "execution_count": 8,
   "metadata": {
    "scrolled": true
   },
   "outputs": [
    {
     "data": {
      "text/plain": [
       "dict_keys(['mean_fit_time', 'std_fit_time', 'mean_score_time', 'std_score_time', 'param_classifier__selected_model', 'param_scaler__selected_model', 'params', 'split0_test_score', 'split1_test_score', 'split2_test_score', 'split3_test_score', 'split4_test_score', 'mean_test_score', 'std_test_score', 'rank_test_score'])"
      ]
     },
     "execution_count": 8,
     "metadata": {},
     "output_type": "execute_result"
    }
   ],
   "source": [
    "grid.cv_results_.keys()"
   ]
  },
  {
   "cell_type": "code",
   "execution_count": 30,
   "metadata": {
    "collapsed": true
   },
   "outputs": [
    {
     "data": {
      "text/plain": [
       "['lg',\n",
       " 'lg',\n",
       " 'lg',\n",
       " 'lg',\n",
       " 'lg',\n",
       " 'lg',\n",
       " 'lg',\n",
       " 'lg',\n",
       " 'lg',\n",
       " 'lg',\n",
       " 'lg',\n",
       " 'lg',\n",
       " 'lg',\n",
       " 'lg',\n",
       " 'lg',\n",
       " 'lg',\n",
       " 'lg',\n",
       " 'lg',\n",
       " 'lg',\n",
       " 'lg',\n",
       " 'lg',\n",
       " 'lg',\n",
       " 'lg',\n",
       " 'lg',\n",
       " 'lg',\n",
       " 'lg',\n",
       " 'lg']"
      ]
     },
     "execution_count": 30,
     "metadata": {},
     "output_type": "execute_result"
    }
   ],
   "source": [
    "[ i['classifier__selected_model'][0] for i in grid.cv_results_['params']]"
   ]
  },
  {
   "cell_type": "code",
   "execution_count": 29,
   "metadata": {},
   "outputs": [
    {
     "data": {
      "text/plain": [
       "Pipeline(steps=[('scaler',\n",
       "                 PipelineHelper(available_models={'std': StandardScaler()},\n",
       "                                selected_model=StandardScaler())),\n",
       "                ('classifier',\n",
       "                 PipelineHelper(available_models={'lg': LogisticRegression(C=100,\n",
       "                                                                           class_weight='balanced',\n",
       "                                                                           penalty='l1',\n",
       "                                                                           solver='liblinear')},\n",
       "                                selected_model=LogisticRegression(C=100,\n",
       "                                                                  class_weight='balanced',\n",
       "                                                                  penalty='l1',\n",
       "                                                                  solver='liblinear')))])"
      ]
     },
     "execution_count": 29,
     "metadata": {},
     "output_type": "execute_result"
    }
   ],
   "source": [
    "grid.best_estimator_"
   ]
  },
  {
   "cell_type": "code",
   "execution_count": null,
   "metadata": {},
   "outputs": [],
   "source": [
    "# Pipeline(steps=[('scaler',\n",
    "#                  PipelineHelper(available_models={'std': StandardScaler()},\n",
    "#                                 selected_model=StandardScaler())),\n",
    "#                 ('classifier',\n",
    "#                  PipelineHelper(available_models={'lg': LogisticRegression(C=100,\n",
    "#                                                                            class_weight='balanced',\n",
    "#                                                                            penalty='l1',\n",
    "#                                                                            solver='liblinear')},\n",
    "#                                 selected_model=LogisticRegression(C=100,\n",
    "#                                                                   class_weight='balanced',\n",
    "#                                                                   penalty='l1',\n",
    "#                                                                   solver='liblinear')))])"
   ]
  },
  {
   "cell_type": "code",
   "execution_count": 11,
   "metadata": {},
   "outputs": [
    {
     "data": {
      "text/plain": [
       "array([0.00176115, 0.00382094, 0.00084667, 0.00151587, 0.00375414,\n",
       "       0.00823579, 0.00085711, 0.00093107, 0.00088058, 0.00230408,\n",
       "       0.00425692, 0.00084195, 0.00174446, 0.00381703, 0.00622158,\n",
       "       0.00081797, 0.00073733, 0.00082459, 0.00189323, 0.00450058,\n",
       "       0.00106382, 0.00190096, 0.00294857, 0.00595932, 0.00076971,\n",
       "       0.00087233, 0.00081158, 0.01791644, 0.16701074, 0.39601574,\n",
       "       0.00941052, 0.13766222, 0.42199192, 0.01457219, 0.13551278,\n",
       "       0.37371817, 0.01044722, 0.14587483, 0.38055534, 0.01528668,\n",
       "       0.13010159, 0.3960279 , 0.01947904, 0.10370007, 0.39476485,\n",
       "       0.00161514, 0.00145874, 0.00171647, 0.00145278, 0.00137634,\n",
       "       0.00160284, 0.00139823, 0.00138865, 0.00154762, 0.38283253,\n",
       "       0.35685887, 0.36917081, 0.4595118 , 0.4209455 , 0.42303128,\n",
       "       0.34504032, 0.31248951, 0.31720905])"
      ]
     },
     "execution_count": 11,
     "metadata": {},
     "output_type": "execute_result"
    }
   ],
   "source": [
    "grid.cv_results_['mean_fit_time']"
   ]
  },
  {
   "cell_type": "code",
   "execution_count": 1,
   "metadata": {},
   "outputs": [],
   "source": [
    "features=['TOP_FRAUDE',\n",
    "#  'TOP_FRAUDE_CARTE',\n",
    "#  'TOP_FRAUDE_VIREMENT',\n",
    " 'TOP_E_RELEVE',\n",
    " 'MESSAGERIE_WEB_ACTIVE',\n",
    " 'NBJ_CNT_AGENCE_VENTE_6M',\n",
    " 'TOT_CNX_WEB_WEEK_6M',\n",
    " 'TOT_CNX_WEB_END_6M',\n",
    " 'TOT_CCOMPTE_WEB_6M',\n",
    " 'TOT_IMPRESSIONRIB_WEB_6M',\n",
    " 'TOT_CCOMPTE_MBANQUE_6M',\n",
    " 'TOT_MODIF_PARAM_CARTE_WEB_6M',\n",
    " 'NB_JR_WEB_6M',\n",
    " 'NB_CNXS_WEB_6M',\n",
    " 'NB_JR_MBANQUE_6M',\n",
    " 'NB_CNXS_MBANQUE_6M',\n",
    " 'TOT_VIR_WEB_6M',\n",
    " 'TX_PAIEMTNB_WEB_TOT_6M',\n",
    " 'TX_PAIEMTMTT_WEB_TOT_6M',\n",
    " 'NB_PAP_CLIQUEE_6M',\n",
    " 'TAUX_LECTURE_PAP_6M',\n",
    " 'NB_MAIL_LU_6M',\n",
    " 'TAUX_LECTURE_EMAIL_6M',\n",
    " 'anciennete',\n",
    " 'top_affecte',\n",
    " 'top_entretien_3M',\n",
    " 'top_entretien_6M',\n",
    " 'top_entretien_12M',\n",
    " 'nb_mois_dernier_entretien',\n",
    "#  'csp_1',\n",
    " 'note_mire',\n",
    " 'note_FOpDebitrice',\n",
    " 'note_FService',\n",
    " 'MONETAIRE_BLOQUE_ECART_M6',\n",
    " 'mt_remise_chq_M',\n",
    " 'mt_remise_chq_M6',\n",
    " 'nb_DAV',\n",
    " 'nb_produit_Assurance',\n",
    " 'nb_remise_chq_M',\n",
    " 'nb_remise_chq_M6',\n",
    " 'societaire_M',\n",
    " 'top_ouv_prod_6M',\n",
    " 'top_produit_Cartes',\n",
    " 'top_produit_Credit',\n",
    " 'Flag_bq_principale',\n",
    " 'Client_2',\n",
    " 'DUREE_CNX_WEB_TOT_6M',\n",
    " 'DUREE_CNX_MOY_WEB_6M',\n",
    " 'seg_nature_potentiel_GRAND PUBLIC',\n",
    " 'type_residence_1_PROPRIETAIRE',\n",
    " 'situ_fam_1_CELIBATAIRE',\n",
    " 'Tranche_age_1_18-25',\n",
    " 'Tranche_age_1_26-35',\n",
    " 'Tranche_age_1_36-45',\n",
    " 'Tranche_age_1_46-55',\n",
    " 'Tranche_age_1_56-65',\n",
    " 'Tranche_age_1_66-75',\n",
    " 'Tranche_age_1_76-85',\n",
    " 'Fidelite_calcule_NF',\n",
    " 'profil_sans contact',\n",
    " 'INDICSMS_SMS_NEUTRE',\n",
    " 'INDICMAIL_MAIL_NEUTRE',\n",
    " 'INDICMAIL_MAIL_OPTIN']\n",
    "featuresf=[\n",
    " 'TOP_E_RELEVE',\n",
    " 'MESSAGERIE_WEB_ACTIVE',\n",
    " 'NBJ_CNT_AGENCE_VENTE_6M',\n",
    " 'TOT_CNX_WEB_WEEK_6M',\n",
    " 'TOT_CNX_WEB_END_6M',\n",
    " 'TOT_CCOMPTE_WEB_6M',\n",
    " 'TOT_IMPRESSIONRIB_WEB_6M',\n",
    " 'TOT_CCOMPTE_MBANQUE_6M',\n",
    " 'TOT_MODIF_PARAM_CARTE_WEB_6M',\n",
    " 'NB_JR_WEB_6M',\n",
    " 'NB_CNXS_WEB_6M',\n",
    " 'NB_JR_MBANQUE_6M',\n",
    " 'NB_CNXS_MBANQUE_6M',\n",
    " 'TOT_VIR_WEB_6M',\n",
    " 'TX_PAIEMTNB_WEB_TOT_6M',\n",
    " 'TX_PAIEMTMTT_WEB_TOT_6M',\n",
    " 'NB_PAP_CLIQUEE_6M',\n",
    " 'TAUX_LECTURE_PAP_6M',\n",
    " 'NB_MAIL_LU_6M',\n",
    " 'TAUX_LECTURE_EMAIL_6M',\n",
    " 'anciennete',\n",
    " 'top_affecte',\n",
    " 'top_entretien_3M',\n",
    " 'top_entretien_6M',\n",
    " 'top_entretien_12M',\n",
    " 'nb_mois_dernier_entretien',\n",
    "#  'csp_1',\n",
    " 'note_mire',\n",
    " 'note_FOpDebitrice',\n",
    " 'note_FService',\n",
    " 'MONETAIRE_BLOQUE_ECART_M6',\n",
    " 'mt_remise_chq_M',\n",
    " 'mt_remise_chq_M6',\n",
    " 'nb_DAV',\n",
    " 'nb_produit_Assurance',\n",
    " 'nb_remise_chq_M',\n",
    " 'nb_remise_chq_M6',\n",
    " 'societaire_M',\n",
    " 'top_ouv_prod_6M',\n",
    " 'top_produit_Cartes',\n",
    " 'top_produit_Credit',\n",
    " 'Flag_bq_principale',\n",
    " 'Client_2',\n",
    " 'DUREE_CNX_WEB_TOT_6M',\n",
    " 'DUREE_CNX_MOY_WEB_6M',\n",
    " 'seg_nature_potentiel_GRAND PUBLIC',\n",
    " 'type_residence_1_PROPRIETAIRE',\n",
    " 'situ_fam_1_CELIBATAIRE',\n",
    " 'Tranche_age_1_18-25',\n",
    " 'Tranche_age_1_26-35',\n",
    " 'Tranche_age_1_36-45',\n",
    " 'Tranche_age_1_46-55',\n",
    " 'Tranche_age_1_56-65',\n",
    " 'Tranche_age_1_66-75',\n",
    " 'Tranche_age_1_76-85',\n",
    " 'Fidelite_calcule_NF',\n",
    " 'profil_sans contact',\n",
    " 'INDICSMS_SMS_NEUTRE',\n",
    " 'INDICMAIL_MAIL_NEUTRE',\n",
    " 'INDICMAIL_MAIL_OPTIN']\n",
    "#  'Tranche_age_1_>85''csp_1', 'TOP_FRAUDE_VIREMENT', 'TOP_FRAUDE_CARTE'"
   ]
  }
 ],
 "metadata": {
  "kernelspec": {
   "display_name": "Python 3",
   "language": "python",
   "name": "python3"
  },
  "language_info": {
   "codemirror_mode": {
    "name": "ipython",
    "version": 3
   },
   "file_extension": ".py",
   "mimetype": "text/x-python",
   "name": "python",
   "nbconvert_exporter": "python",
   "pygments_lexer": "ipython3",
   "version": "3.7.7"
  }
 },
 "nbformat": 4,
 "nbformat_minor": 4
}
