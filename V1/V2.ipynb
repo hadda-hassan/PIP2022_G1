{
 "cells": [
  {
   "cell_type": "code",
   "execution_count": 18,
   "metadata": {},
   "outputs": [],
   "source": [
    "import numpy as np\n",
    "import pandas as pd"
   ]
  },
  {
   "cell_type": "code",
   "execution_count": 19,
   "metadata": {},
   "outputs": [],
   "source": [
    "from sklearn.datasets import make_classification\n",
    "from sklearn.model_selection import cross_val_score\n",
    "from sklearn.model_selection import RepeatedStratifiedKFold\n",
    "\n",
    "from imblearn.pipeline import Pipeline\n",
    "from sklearn.tree import DecisionTreeClassifier"
   ]
  },
  {
   "cell_type": "code",
   "execution_count": 20,
   "metadata": {},
   "outputs": [],
   "source": [
    "path_file = 'C:/Users/JulesBoutibou/Documents/Perso/PIP/DATA/Data_G2/Donnees_v1.csv'\n",
    "df = pd.read_csv(path_file)"
   ]
  },
  {
   "cell_type": "code",
   "execution_count": 21,
   "metadata": {},
   "outputs": [],
   "source": [
    "df['TAUX_LECTURE_MS_6M']=df['TAUX_LECTURE_MS_6M'].str.rstrip('%').astype('float') / 100.0\n",
    "df['TAUX_LECTURE_PAP_6M']=df['TAUX_LECTURE_PAP_6M'].str.rstrip('%').astype('float') / 100.0\n",
    "df['TAUX_LECTURE_EMAIL_6M']=df['TAUX_LECTURE_EMAIL_6M'].str.rstrip('%').astype('float') / 100.0"
   ]
  },
  {
   "cell_type": "code",
   "execution_count": 22,
   "metadata": {},
   "outputs": [
    {
     "data": {
      "text/plain": [
       "0    84796\n",
       "1      145\n",
       "Name: TOP_FRAUDE, dtype: int64"
      ]
     },
     "execution_count": 22,
     "metadata": {},
     "output_type": "execute_result"
    }
   ],
   "source": [
    "df2 = df.sample(frac = 0.1)\n",
    "df2.TOP_FRAUDE.value_counts()"
   ]
  },
  {
   "cell_type": "code",
   "execution_count": 23,
   "metadata": {},
   "outputs": [],
   "source": [
    "X = df2.drop(columns = ['TOP_FRAUDE_VIREMENT','TOP_FRAUDE_CARTE','TOP_FRAUDE','Unnamed: 0', 'ID'])\n",
    "y = df2.TOP_FRAUDE"
   ]
  },
  {
   "cell_type": "markdown",
   "metadata": {},
   "source": [
    "# Sampling"
   ]
  },
  {
   "cell_type": "code",
   "execution_count": 24,
   "metadata": {},
   "outputs": [],
   "source": [
    "from imblearn.under_sampling import NearMiss"
   ]
  },
  {
   "cell_type": "code",
   "execution_count": 61,
   "metadata": {},
   "outputs": [],
   "source": [
    "params_nearmiss = {\n",
    "    'u__version': [1, 2],\n",
    "    'u__sampling_strategy': [0.005, 0.01, 0.05, 0.1],\n",
    "    'u__n_neighbors_ver3': [1, 2, 3, 4]\n",
    "}"
   ]
  },
  {
   "cell_type": "markdown",
   "metadata": {},
   "source": [
    "### SVMSMOTE (Only oversampling)"
   ]
  },
  {
   "cell_type": "code",
   "execution_count": 26,
   "metadata": {},
   "outputs": [],
   "source": [
    "from imblearn.over_sampling import SVMSMOTE\n",
    "from sklearn.svm import SVC"
   ]
  },
  {
   "cell_type": "code",
   "execution_count": 27,
   "metadata": {},
   "outputs": [],
   "source": [
    "params_svmsmote = {\n",
    "    'o__sampling_strategy': [0.005, 0.01, 0.03, 0.1, 0.4],\n",
    "    'o__k_neighbors': [3, 16, 30],\n",
    "    'o__m_neighbors': [3, 16, 30],\n",
    "    'o__svm_estimator': [SVC(kernel='poly'), SVC(kernel='poly', degree=6), SVC(kernel='sigmoid'), SVC(kernel='rbf')]\n",
    "}\n",
    "\n",
    "params_svmsmote = {\n",
    "    'o__sampling_strategy': [0.1, 0.01],\n",
    "    'o__k_neighbors': [5, 15],\n",
    "    'o__m_neighbors': [5],\n",
    "    'o__svm_estimator': [SVC(kernel='sigmoid')]\n",
    "}"
   ]
  },
  {
   "cell_type": "markdown",
   "metadata": {},
   "source": [
    "### SMOTE and CC"
   ]
  },
  {
   "cell_type": "code",
   "execution_count": 28,
   "metadata": {},
   "outputs": [],
   "source": [
    "# combined SMOTE and Edited Nearest Neighbors sampling for imbalanced classification\n",
    "from imblearn.over_sampling import SMOTE\n",
    "from imblearn.under_sampling import EditedNearestNeighbours\n",
    "from imblearn.under_sampling import ClusterCentroids "
   ]
  },
  {
   "cell_type": "code",
   "execution_count": 29,
   "metadata": {},
   "outputs": [],
   "source": [
    "params_smotecc = {\n",
    "    'o__sampling_strategy': [0.1],\n",
    "    'o__k_neighbors': [10],\n",
    "    'u__sampling_strategy': [0.2],\n",
    "    'u__n_jobs': [-1]\n",
    "}"
   ]
  },
  {
   "cell_type": "markdown",
   "metadata": {},
   "source": [
    "## Testing models"
   ]
  },
  {
   "cell_type": "code",
   "execution_count": 30,
   "metadata": {},
   "outputs": [],
   "source": [
    "from sklearn.model_selection import GridSearchCV\n",
    "from sklearn.model_selection import cross_val_score\n",
    "from sklearn.model_selection import RepeatedStratifiedKFold"
   ]
  },
  {
   "cell_type": "code",
   "execution_count": 31,
   "metadata": {},
   "outputs": [],
   "source": [
    "from sklearn.linear_model import LogisticRegression\n",
    "from xgboost import XGBClassifier\n",
    "from sklearn.ensemble import RandomForestClassifier"
   ]
  },
  {
   "cell_type": "markdown",
   "metadata": {},
   "source": [
    "#### Initialize pipelines"
   ]
  },
  {
   "cell_type": "code",
   "execution_count": 62,
   "metadata": {},
   "outputs": [],
   "source": [
    "# Model\n",
    "#model = LogisticRegression(C=0.1, class_weight= 'balanced',  max_iter = 500)\n",
    "model = XGBClassifier(objective='binary:hinge', use_label_encoder=False)\n",
    "\n",
    "# Oversamplers\n",
    "over_smote = SMOTE()\n",
    "over_svmsmote = SVMSMOTE()\n",
    "\n",
    "# Undersamplers\n",
    "under_nearmiss = NearMiss()\n",
    "under_enn = EditedNearestNeighbours()\n",
    "under_cc = ClusterCentroids()\n",
    "\n",
    "# Pipelines\n",
    "pipeline_nearmiss = Pipeline([('u', under_nearmiss), ('m', model)])\n",
    "pipeline_svmsmote = Pipeline([('o', over_svmsmote), ('m', model)])\n",
    "pipeline_smotecc = Pipeline([('o', over_smote),('u', under_cc), ('m', model)])"
   ]
  },
  {
   "cell_type": "code",
   "execution_count": 63,
   "metadata": {},
   "outputs": [],
   "source": [
    "scoring = {\"AUC\": \"roc_auc\", \"F1\": 'f1'}"
   ]
  },
  {
   "cell_type": "code",
   "execution_count": 52,
   "metadata": {},
   "outputs": [
    {
     "data": {
      "text/plain": [
       "(84941, 10)"
      ]
     },
     "execution_count": 52,
     "metadata": {},
     "output_type": "execute_result"
    }
   ],
   "source": [
    "Xsampled = X.iloc[:,:10]\n",
    "Xsampled.shape"
   ]
  },
  {
   "cell_type": "code",
   "execution_count": 64,
   "metadata": {},
   "outputs": [
    {
     "name": "stdout",
     "output_type": "stream",
     "text": [
      "Fitting 2 folds for each of 32 candidates, totalling 64 fits\n",
      "[CV 1/2] END u__n_neighbors_ver3=1, u__sampling_strategy=0.005, u__version=1; total time=   5.1s\n",
      "[CV 2/2] END u__n_neighbors_ver3=1, u__sampling_strategy=0.005, u__version=1; total time=   4.6s\n",
      "[CV 1/2] END u__n_neighbors_ver3=1, u__sampling_strategy=0.005, u__version=2; total time=   5.6s\n",
      "[CV 2/2] END u__n_neighbors_ver3=1, u__sampling_strategy=0.005, u__version=2; total time=   7.3s\n",
      "[CV 1/2] END u__n_neighbors_ver3=1, u__sampling_strategy=0.01, u__version=1; total time=   2.7s\n",
      "[CV 2/2] END u__n_neighbors_ver3=1, u__sampling_strategy=0.01, u__version=1; total time=   3.0s\n",
      "[CV 1/2] END u__n_neighbors_ver3=1, u__sampling_strategy=0.01, u__version=2; total time=   3.9s\n",
      "[CV 2/2] END u__n_neighbors_ver3=1, u__sampling_strategy=0.01, u__version=2; total time=   4.8s\n",
      "[CV 1/2] END u__n_neighbors_ver3=1, u__sampling_strategy=0.05, u__version=1; total time=   1.8s\n",
      "[CV 2/2] END u__n_neighbors_ver3=1, u__sampling_strategy=0.05, u__version=1; total time=   2.1s\n",
      "[CV 1/2] END u__n_neighbors_ver3=1, u__sampling_strategy=0.05, u__version=2; total time=   2.7s\n",
      "[CV 2/2] END u__n_neighbors_ver3=1, u__sampling_strategy=0.05, u__version=2; total time=   2.5s\n",
      "[CV 1/2] END u__n_neighbors_ver3=1, u__sampling_strategy=0.1, u__version=1; total time=   1.7s\n",
      "[CV 2/2] END u__n_neighbors_ver3=1, u__sampling_strategy=0.1, u__version=1; total time=   1.9s\n",
      "[CV 1/2] END u__n_neighbors_ver3=1, u__sampling_strategy=0.1, u__version=2; total time=   1.8s\n",
      "[CV 2/2] END u__n_neighbors_ver3=1, u__sampling_strategy=0.1, u__version=2; total time=   1.9s\n",
      "[CV 1/2] END u__n_neighbors_ver3=2, u__sampling_strategy=0.005, u__version=1; total time=  10.4s\n",
      "[CV 2/2] END u__n_neighbors_ver3=2, u__sampling_strategy=0.005, u__version=1; total time=  13.0s\n",
      "[CV 1/2] END u__n_neighbors_ver3=2, u__sampling_strategy=0.005, u__version=2; total time=   8.0s\n",
      "[CV 2/2] END u__n_neighbors_ver3=2, u__sampling_strategy=0.005, u__version=2; total time=   7.3s\n",
      "[CV 1/2] END u__n_neighbors_ver3=2, u__sampling_strategy=0.01, u__version=1; total time=   2.5s\n",
      "[CV 2/2] END u__n_neighbors_ver3=2, u__sampling_strategy=0.01, u__version=1; total time=   2.6s\n",
      "[CV 1/2] END u__n_neighbors_ver3=2, u__sampling_strategy=0.01, u__version=2; total time=   3.6s\n",
      "[CV 2/2] END u__n_neighbors_ver3=2, u__sampling_strategy=0.01, u__version=2; total time=   3.6s\n",
      "[CV 1/2] END u__n_neighbors_ver3=2, u__sampling_strategy=0.05, u__version=1; total time=   1.4s\n",
      "[CV 2/2] END u__n_neighbors_ver3=2, u__sampling_strategy=0.05, u__version=1; total time=   1.4s\n",
      "[CV 1/2] END u__n_neighbors_ver3=2, u__sampling_strategy=0.05, u__version=2; total time=   1.6s\n",
      "[CV 2/2] END u__n_neighbors_ver3=2, u__sampling_strategy=0.05, u__version=2; total time=   1.7s\n",
      "[CV 1/2] END u__n_neighbors_ver3=2, u__sampling_strategy=0.1, u__version=1; total time=   1.3s\n",
      "[CV 2/2] END u__n_neighbors_ver3=2, u__sampling_strategy=0.1, u__version=1; total time=   1.3s\n",
      "[CV 1/2] END u__n_neighbors_ver3=2, u__sampling_strategy=0.1, u__version=2; total time=   1.4s\n",
      "[CV 2/2] END u__n_neighbors_ver3=2, u__sampling_strategy=0.1, u__version=2; total time=   1.5s\n",
      "[CV 1/2] END u__n_neighbors_ver3=3, u__sampling_strategy=0.005, u__version=1; total time=   6.0s\n",
      "[CV 2/2] END u__n_neighbors_ver3=3, u__sampling_strategy=0.005, u__version=1; total time=   6.4s\n",
      "[CV 1/2] END u__n_neighbors_ver3=3, u__sampling_strategy=0.005, u__version=2; total time=   7.2s\n",
      "[CV 2/2] END u__n_neighbors_ver3=3, u__sampling_strategy=0.005, u__version=2; total time=   7.4s\n",
      "[CV 1/2] END u__n_neighbors_ver3=3, u__sampling_strategy=0.01, u__version=1; total time=   2.5s\n",
      "[CV 2/2] END u__n_neighbors_ver3=3, u__sampling_strategy=0.01, u__version=1; total time=   2.9s\n",
      "[CV 1/2] END u__n_neighbors_ver3=3, u__sampling_strategy=0.01, u__version=2; total time=   3.6s\n",
      "[CV 2/2] END u__n_neighbors_ver3=3, u__sampling_strategy=0.01, u__version=2; total time=   4.1s\n",
      "[CV 1/2] END u__n_neighbors_ver3=3, u__sampling_strategy=0.05, u__version=1; total time=   1.7s\n",
      "[CV 2/2] END u__n_neighbors_ver3=3, u__sampling_strategy=0.05, u__version=1; total time=   1.7s\n",
      "[CV 1/2] END u__n_neighbors_ver3=3, u__sampling_strategy=0.05, u__version=2; total time=   1.9s\n",
      "[CV 2/2] END u__n_neighbors_ver3=3, u__sampling_strategy=0.05, u__version=2; total time=   2.1s\n",
      "[CV 1/2] END u__n_neighbors_ver3=3, u__sampling_strategy=0.1, u__version=1; total time=   1.7s\n",
      "[CV 2/2] END u__n_neighbors_ver3=3, u__sampling_strategy=0.1, u__version=1; total time=   1.8s\n",
      "[CV 1/2] END u__n_neighbors_ver3=3, u__sampling_strategy=0.1, u__version=2; total time=   1.9s\n",
      "[CV 2/2] END u__n_neighbors_ver3=3, u__sampling_strategy=0.1, u__version=2; total time=   2.1s\n",
      "[CV 1/2] END u__n_neighbors_ver3=4, u__sampling_strategy=0.005, u__version=1; total time=   6.7s\n",
      "[CV 2/2] END u__n_neighbors_ver3=4, u__sampling_strategy=0.005, u__version=1; total time=   6.6s\n",
      "[CV 1/2] END u__n_neighbors_ver3=4, u__sampling_strategy=0.005, u__version=2; total time=   8.1s\n",
      "[CV 2/2] END u__n_neighbors_ver3=4, u__sampling_strategy=0.005, u__version=2; total time=   8.6s\n",
      "[CV 1/2] END u__n_neighbors_ver3=4, u__sampling_strategy=0.01, u__version=1; total time=   3.1s\n",
      "[CV 2/2] END u__n_neighbors_ver3=4, u__sampling_strategy=0.01, u__version=1; total time=   3.1s\n",
      "[CV 1/2] END u__n_neighbors_ver3=4, u__sampling_strategy=0.01, u__version=2; total time=   3.7s\n",
      "[CV 2/2] END u__n_neighbors_ver3=4, u__sampling_strategy=0.01, u__version=2; total time=   3.7s\n",
      "[CV 1/2] END u__n_neighbors_ver3=4, u__sampling_strategy=0.05, u__version=1; total time=   1.4s\n",
      "[CV 2/2] END u__n_neighbors_ver3=4, u__sampling_strategy=0.05, u__version=1; total time=   1.4s\n",
      "[CV 1/2] END u__n_neighbors_ver3=4, u__sampling_strategy=0.05, u__version=2; total time=   1.6s\n",
      "[CV 2/2] END u__n_neighbors_ver3=4, u__sampling_strategy=0.05, u__version=2; total time=   1.6s\n",
      "[CV 1/2] END u__n_neighbors_ver3=4, u__sampling_strategy=0.1, u__version=1; total time=   1.3s\n",
      "[CV 2/2] END u__n_neighbors_ver3=4, u__sampling_strategy=0.1, u__version=1; total time=   1.3s\n",
      "[CV 1/2] END u__n_neighbors_ver3=4, u__sampling_strategy=0.1, u__version=2; total time=   1.5s\n",
      "[CV 2/2] END u__n_neighbors_ver3=4, u__sampling_strategy=0.1, u__version=2; total time=   1.5s\n"
     ]
    }
   ],
   "source": [
    "grid = GridSearchCV(pipeline_nearmiss, params_nearmiss, scoring='f1', verbose=3, refit = 'f1', cv=5)\n",
    "grid_res = grid.fit(X, y)"
   ]
  },
  {
   "cell_type": "code",
   "execution_count": 65,
   "metadata": {},
   "outputs": [
    {
     "name": "stdout",
     "output_type": "stream",
     "text": [
      "Best: 0.004924 using {'u__n_neighbors_ver3': 1, 'u__sampling_strategy': 0.005, 'u__version': 1}\n",
      "0.004924 (0.000028) with: {'u__n_neighbors_ver3': 1, 'u__sampling_strategy': 0.005, 'u__version': 1}\n",
      "0.002851 (0.000339) with: {'u__n_neighbors_ver3': 1, 'u__sampling_strategy': 0.005, 'u__version': 2}\n",
      "0.004166 (0.000130) with: {'u__n_neighbors_ver3': 1, 'u__sampling_strategy': 0.01, 'u__version': 1}\n",
      "0.002682 (0.000158) with: {'u__n_neighbors_ver3': 1, 'u__sampling_strategy': 0.01, 'u__version': 2}\n",
      "0.003739 (0.000074) with: {'u__n_neighbors_ver3': 1, 'u__sampling_strategy': 0.05, 'u__version': 1}\n",
      "0.002999 (0.000223) with: {'u__n_neighbors_ver3': 1, 'u__sampling_strategy': 0.05, 'u__version': 2}\n",
      "0.003734 (0.000071) with: {'u__n_neighbors_ver3': 1, 'u__sampling_strategy': 0.1, 'u__version': 1}\n",
      "0.003174 (0.000086) with: {'u__n_neighbors_ver3': 1, 'u__sampling_strategy': 0.1, 'u__version': 2}\n",
      "0.004924 (0.000028) with: {'u__n_neighbors_ver3': 2, 'u__sampling_strategy': 0.005, 'u__version': 1}\n",
      "0.002851 (0.000339) with: {'u__n_neighbors_ver3': 2, 'u__sampling_strategy': 0.005, 'u__version': 2}\n",
      "0.004166 (0.000130) with: {'u__n_neighbors_ver3': 2, 'u__sampling_strategy': 0.01, 'u__version': 1}\n",
      "0.002682 (0.000158) with: {'u__n_neighbors_ver3': 2, 'u__sampling_strategy': 0.01, 'u__version': 2}\n",
      "0.003739 (0.000074) with: {'u__n_neighbors_ver3': 2, 'u__sampling_strategy': 0.05, 'u__version': 1}\n",
      "0.002999 (0.000223) with: {'u__n_neighbors_ver3': 2, 'u__sampling_strategy': 0.05, 'u__version': 2}\n",
      "0.003734 (0.000071) with: {'u__n_neighbors_ver3': 2, 'u__sampling_strategy': 0.1, 'u__version': 1}\n",
      "0.003174 (0.000086) with: {'u__n_neighbors_ver3': 2, 'u__sampling_strategy': 0.1, 'u__version': 2}\n",
      "0.004924 (0.000028) with: {'u__n_neighbors_ver3': 3, 'u__sampling_strategy': 0.005, 'u__version': 1}\n",
      "0.002851 (0.000339) with: {'u__n_neighbors_ver3': 3, 'u__sampling_strategy': 0.005, 'u__version': 2}\n",
      "0.004166 (0.000130) with: {'u__n_neighbors_ver3': 3, 'u__sampling_strategy': 0.01, 'u__version': 1}\n",
      "0.002682 (0.000158) with: {'u__n_neighbors_ver3': 3, 'u__sampling_strategy': 0.01, 'u__version': 2}\n",
      "0.003739 (0.000074) with: {'u__n_neighbors_ver3': 3, 'u__sampling_strategy': 0.05, 'u__version': 1}\n",
      "0.002999 (0.000223) with: {'u__n_neighbors_ver3': 3, 'u__sampling_strategy': 0.05, 'u__version': 2}\n",
      "0.003734 (0.000071) with: {'u__n_neighbors_ver3': 3, 'u__sampling_strategy': 0.1, 'u__version': 1}\n",
      "0.003174 (0.000086) with: {'u__n_neighbors_ver3': 3, 'u__sampling_strategy': 0.1, 'u__version': 2}\n",
      "0.004924 (0.000028) with: {'u__n_neighbors_ver3': 4, 'u__sampling_strategy': 0.005, 'u__version': 1}\n",
      "0.002851 (0.000339) with: {'u__n_neighbors_ver3': 4, 'u__sampling_strategy': 0.005, 'u__version': 2}\n",
      "0.004166 (0.000130) with: {'u__n_neighbors_ver3': 4, 'u__sampling_strategy': 0.01, 'u__version': 1}\n",
      "0.002682 (0.000158) with: {'u__n_neighbors_ver3': 4, 'u__sampling_strategy': 0.01, 'u__version': 2}\n",
      "0.003739 (0.000074) with: {'u__n_neighbors_ver3': 4, 'u__sampling_strategy': 0.05, 'u__version': 1}\n",
      "0.002999 (0.000223) with: {'u__n_neighbors_ver3': 4, 'u__sampling_strategy': 0.05, 'u__version': 2}\n",
      "0.003734 (0.000071) with: {'u__n_neighbors_ver3': 4, 'u__sampling_strategy': 0.1, 'u__version': 1}\n",
      "0.003174 (0.000086) with: {'u__n_neighbors_ver3': 4, 'u__sampling_strategy': 0.1, 'u__version': 2}\n"
     ]
    }
   ],
   "source": [
    "print(\"Best: %f using %s\" % (grid.best_score_, grid.best_params_))\n",
    "means = grid_res.cv_results_['mean_test_score']\n",
    "stds = grid_res.cv_results_['std_test_score']\n",
    "params = grid_res.cv_results_['params']\n",
    "for mean, stdev, param in zip(means, stds, params):\n",
    "    print(\"%f (%f) with: %r\" % (mean, stdev, param))"
   ]
  },
  {
   "cell_type": "code",
   "execution_count": 58,
   "metadata": {},
   "outputs": [
    {
     "data": {
      "text/plain": [
       "0.003453805056233165"
      ]
     },
     "execution_count": 58,
     "metadata": {},
     "output_type": "execute_result"
    }
   ],
   "source": [
    "grid.best_score_"
   ]
  }
 ],
 "metadata": {
  "interpreter": {
   "hash": "02c0a698e5bae336b1cfd57b343326d4566dccd77f6d24db160f05b5a95afb84"
  },
  "kernelspec": {
   "display_name": "Python 3.8.8 64-bit ('base': conda)",
   "language": "python",
   "name": "python3"
  },
  "language_info": {
   "codemirror_mode": {
    "name": "ipython",
    "version": 3
   },
   "file_extension": ".py",
   "mimetype": "text/x-python",
   "name": "python",
   "nbconvert_exporter": "python",
   "pygments_lexer": "ipython3",
   "version": "3.8.8"
  },
  "orig_nbformat": 4
 },
 "nbformat": 4,
 "nbformat_minor": 2
}
