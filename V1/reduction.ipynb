{
 "cells": [
  {
   "cell_type": "code",
   "execution_count": 40,
   "metadata": {},
   "outputs": [],
   "source": [
    "from sklearn.decomposition import PCA\n",
    "import numpy as np\n",
    "import pandas as pd"
   ]
  },
  {
   "cell_type": "code",
   "execution_count": 41,
   "metadata": {},
   "outputs": [
    {
     "ename": "AttributeError",
     "evalue": "'DataFrame' object has no attribute 'remove'",
     "output_type": "error",
     "traceback": [
      "\u001b[1;31m---------------------------------------------------------------------------\u001b[0m",
      "\u001b[1;31mAttributeError\u001b[0m                            Traceback (most recent call last)",
      "\u001b[1;32m<ipython-input-41-c8a2f3711229>\u001b[0m in \u001b[0;36m<module>\u001b[1;34m\u001b[0m\n\u001b[0;32m      1\u001b[0m \u001b[0mpath_file\u001b[0m \u001b[1;33m=\u001b[0m \u001b[1;34m'C:/Users/JulesBoutibou/Documents/Perso/PIP/DATA/Data_G2/Donnees_v1.csv'\u001b[0m\u001b[1;33m\u001b[0m\u001b[1;33m\u001b[0m\u001b[0m\n\u001b[0;32m      2\u001b[0m \u001b[0mdf\u001b[0m \u001b[1;33m=\u001b[0m \u001b[0mpd\u001b[0m\u001b[1;33m.\u001b[0m\u001b[0mread_csv\u001b[0m\u001b[1;33m(\u001b[0m\u001b[0mpath_file\u001b[0m\u001b[1;33m)\u001b[0m\u001b[1;33m\u001b[0m\u001b[1;33m\u001b[0m\u001b[0m\n\u001b[1;32m----> 3\u001b[1;33m \u001b[0mdf\u001b[0m\u001b[1;33m.\u001b[0m\u001b[0mremove\u001b[0m\u001b[1;33m(\u001b[0m\u001b[1;34m'Unnamed: 0'\u001b[0m\u001b[1;33m)\u001b[0m\u001b[1;33m\u001b[0m\u001b[1;33m\u001b[0m\u001b[0m\n\u001b[0m",
      "\u001b[1;32m~\\anaconda3\\lib\\site-packages\\pandas\\core\\generic.py\u001b[0m in \u001b[0;36m__getattr__\u001b[1;34m(self, name)\u001b[0m\n\u001b[0;32m   5463\u001b[0m             \u001b[1;32mif\u001b[0m \u001b[0mself\u001b[0m\u001b[1;33m.\u001b[0m\u001b[0m_info_axis\u001b[0m\u001b[1;33m.\u001b[0m\u001b[0m_can_hold_identifiers_and_holds_name\u001b[0m\u001b[1;33m(\u001b[0m\u001b[0mname\u001b[0m\u001b[1;33m)\u001b[0m\u001b[1;33m:\u001b[0m\u001b[1;33m\u001b[0m\u001b[1;33m\u001b[0m\u001b[0m\n\u001b[0;32m   5464\u001b[0m                 \u001b[1;32mreturn\u001b[0m \u001b[0mself\u001b[0m\u001b[1;33m[\u001b[0m\u001b[0mname\u001b[0m\u001b[1;33m]\u001b[0m\u001b[1;33m\u001b[0m\u001b[1;33m\u001b[0m\u001b[0m\n\u001b[1;32m-> 5465\u001b[1;33m             \u001b[1;32mreturn\u001b[0m \u001b[0mobject\u001b[0m\u001b[1;33m.\u001b[0m\u001b[0m__getattribute__\u001b[0m\u001b[1;33m(\u001b[0m\u001b[0mself\u001b[0m\u001b[1;33m,\u001b[0m \u001b[0mname\u001b[0m\u001b[1;33m)\u001b[0m\u001b[1;33m\u001b[0m\u001b[1;33m\u001b[0m\u001b[0m\n\u001b[0m\u001b[0;32m   5466\u001b[0m \u001b[1;33m\u001b[0m\u001b[0m\n\u001b[0;32m   5467\u001b[0m     \u001b[1;32mdef\u001b[0m \u001b[0m__setattr__\u001b[0m\u001b[1;33m(\u001b[0m\u001b[0mself\u001b[0m\u001b[1;33m,\u001b[0m \u001b[0mname\u001b[0m\u001b[1;33m:\u001b[0m \u001b[0mstr\u001b[0m\u001b[1;33m,\u001b[0m \u001b[0mvalue\u001b[0m\u001b[1;33m)\u001b[0m \u001b[1;33m->\u001b[0m \u001b[1;32mNone\u001b[0m\u001b[1;33m:\u001b[0m\u001b[1;33m\u001b[0m\u001b[1;33m\u001b[0m\u001b[0m\n",
      "\u001b[1;31mAttributeError\u001b[0m: 'DataFrame' object has no attribute 'remove'"
     ]
    }
   ],
   "source": [
    "path_file = 'C:/Users/JulesBoutibou/Documents/Perso/PIP/DATA/Data_G2/Donnees_v1.csv'\n",
    "df = pd.read_csv(path_file)\n",
    "df = df.drop(columns = ['Unnamed: 0'])"
   ]
  },
  {
   "cell_type": "code",
   "execution_count": 43,
   "metadata": {},
   "outputs": [],
   "source": [
    "df['TAUX_LECTURE_MS_6M']=df['TAUX_LECTURE_MS_6M'].str.rstrip('%').astype('float') / 100.0\n",
    "df['TAUX_LECTURE_PAP_6M']=df['TAUX_LECTURE_PAP_6M'].str.rstrip('%').astype('float') / 100.0\n",
    "df['TAUX_LECTURE_EMAIL_6M']=df['TAUX_LECTURE_EMAIL_6M'].str.rstrip('%').astype('float') / 100.0"
   ]
  },
  {
   "cell_type": "code",
   "execution_count": 52,
   "metadata": {},
   "outputs": [],
   "source": [
    "X = df.drop(columns = ['TOP_FRAUDE_VIREMENT','TOP_FRAUDE_CARTE','TOP_FRAUDE', 'ID'])\n",
    "y = df.TOP_FRAUDE"
   ]
  },
  {
   "cell_type": "code",
   "execution_count": 50,
   "metadata": {},
   "outputs": [],
   "source": [
    "from sklearn.preprocessing import StandardScaler\n",
    "scaler = StandardScaler()\n",
    "scaler.fit(X)\n",
    "scaled_X = scaler.transform(X) \n",
    "X = pd.DataFrame(scaled_X, index=X.index, columns=X.columns)"
   ]
  },
  {
   "cell_type": "code",
   "execution_count": null,
   "metadata": {},
   "outputs": [],
   "source": [
    "pca = PCA(200) # définition du modèle\n",
    "pca.fit(X,y) # Ajuste le modèle\n",
    "x_new = pca.transform(X) # Applique la réduction de dimension sur X"
   ]
  },
  {
   "cell_type": "code",
   "execution_count": 11,
   "metadata": {},
   "outputs": [
    {
     "data": {
      "text/plain": [
       "0.8692308033857606"
      ]
     },
     "execution_count": 11,
     "metadata": {},
     "output_type": "execute_result"
    }
   ],
   "source": [
    "np.sum(pca.explained_variance_ratio_)"
   ]
  },
  {
   "cell_type": "markdown",
   "metadata": {},
   "source": [
    "## LDA"
   ]
  },
  {
   "cell_type": "code",
   "execution_count": 71,
   "metadata": {},
   "outputs": [],
   "source": [
    "from sklearn.discriminant_analysis import LinearDiscriminantAnalysis\n",
    "import matplotlib.pyplot as plt\n"
   ]
  },
  {
   "cell_type": "code",
   "execution_count": 73,
   "metadata": {},
   "outputs": [],
   "source": [
    "clf = LinearDiscriminantAnalysis()\n",
    "data = clf.fit(X , y).transform(X)"
   ]
  },
  {
   "cell_type": "code",
   "execution_count": 74,
   "metadata": {},
   "outputs": [],
   "source": [
    "importances = clf.coef_\n",
    "importances = importances.reshape(len(X.columns) , 1)"
   ]
  },
  {
   "cell_type": "code",
   "execution_count": 75,
   "metadata": {},
   "outputs": [],
   "source": [
    "d = dict(zip(X.columns , importances))\n",
    "d_tri = sorted(d.items(), key=lambda t: np.abs(t[1]))"
   ]
  },
  {
   "cell_type": "code",
   "execution_count": 76,
   "metadata": {},
   "outputs": [
    {
     "data": {
      "image/png": "[encoded data removed]",
      "text/plain": [
       "<Figure size 432x288 with 1 Axes>"
      ]
     },
     "metadata": {
      "needs_background": "light"
     },
     "output_type": "display_data"
    }
   ],
   "source": [
    "plt.scatter(df[df[\"TOP_FRAUDE\"]==0][d_tri[-1][0]], df[df[\"TOP_FRAUDE\"]==0][d_tri[-2][0]], alpha=0.2, c=\"orange\", label=\"Not Fraude\")\n",
    "plt.scatter(df[df[\"TOP_FRAUDE\"]==1][d_tri[-1][0]], df[df[\"TOP_FRAUDE\"]==1][d_tri[-2][0]], alpha=0.7, c=\"blue\", label=\"Fraude\")\n",
    "plt.legend()\n",
    "plt.title('Fraudes sur les 2 meilleurs axes')\n",
    "plt.show()"
   ]
  },
  {
   "cell_type": "code",
   "execution_count": 77,
   "metadata": {},
   "outputs": [
    {
     "data": {
      "text/plain": [
       "['Tranche_age_1_76-85',\n",
       " 'mt_ret_carte_Aut_bq_M6',\n",
       " 'Tranche_age_1_18-25',\n",
       " 'seg_nature_potentiel_GP ACTIF',\n",
       " 'profil_actifs classiques',\n",
       " 'Tranche_age_moyen_66-75',\n",
       " 'Tranche_age_moyen_56-65',\n",
       " 'Tranche_age_1_66-75',\n",
       " 'profil_Très peu actifs',\n",
       " 'Tranche_age_moyen_46-55',\n",
       " 'Tranche_age_1_36-45',\n",
       " 'profil_sans contact',\n",
       " 'Tranche_age_1_56-65',\n",
       " 'Tranche_age_1_26-35',\n",
       " 'Tranche_age_moyen_36-45',\n",
       " 'Tranche_age_moyen_18-25',\n",
       " 'Tranche_age_moyen_26-35',\n",
       " 'Tranche_age_1_46-55',\n",
       " 'profil_Digital Ma Banque',\n",
       " 'seg_nature_potentiel_INT DYNAMIQUE',\n",
       " \"contrat_travail_1_NE S'APPLIQUE PAS\",\n",
       " 'situ_globale_Famille',\n",
       " 'situ_globale_Couple',\n",
       " 'situ_globale_M seul',\n",
       " 'EPARGNE_LOGEMENT_ECART_M6',\n",
       " 'situ_globale_F seule',\n",
       " 'EMPRUNTS',\n",
       " 'EMPRUNTS_M6',\n",
       " 'mt_ret_carte_CRCA_M6',\n",
       " 'contrat_travail_1_CONTRAT A DUREE INDETERMINEE',\n",
       " 'contrat_travail_1_INCONNU',\n",
       " 'mt_retrait_carte_M6',\n",
       " 'seg_nature_potentiel_INTERM',\n",
       " 'sexe_1_F',\n",
       " 'sexe_1_M',\n",
       " 'seg_nature_potentiel_GRAND PUBLIC',\n",
       " 'MONETAIRE_BLOQUE_ECART_M6',\n",
       " 'EPARGNE_LOGEMENT_M6',\n",
       " 'SURFACE_FINANCIERE_ECART_M6',\n",
       " 'EPARGNE_LOGEMENT',\n",
       " 'MONETAIRE_DISPONIBLE_ECART_M6',\n",
       " 'ENCOURS_DAV_ECART_M6',\n",
       " 'MONETAIRE_BLOQUE_M6',\n",
       " 'MONETAIRE_BLOQUE',\n",
       " 'ENCOURS_DAV_M6',\n",
       " 'ENCOURS_DAV',\n",
       " 'MONETAIRE_DISPONIBLE_M6',\n",
       " 'MONETAIRE_DISPONIBLE',\n",
       " 'SURFACE_FINANCIERE_M6',\n",
       " 'SURFACE_FINANCIERE']"
      ]
     },
     "execution_count": 77,
     "metadata": {},
     "output_type": "execute_result"
    }
   ],
   "source": [
    "col = [d_tri[-50:][i][0] for i in range(len(d_tri[-50:]))]\n",
    "col"
   ]
  }
 ],
 "metadata": {
  "interpreter": {
   "hash": "02c0a698e5bae336b1cfd57b343326d4566dccd77f6d24db160f05b5a95afb84"
  },
  "kernelspec": {
   "display_name": "Python 3.8.8 64-bit ('base': conda)",
   "language": "python",
   "name": "python3"
  },
  "language_info": {
   "codemirror_mode": {
    "name": "ipython",
    "version": 3
   },
   "file_extension": ".py",
   "mimetype": "text/x-python",
   "name": "python",
   "nbconvert_exporter": "python",
   "pygments_lexer": "ipython3",
   "version": "3.8.8"
  },
  "orig_nbformat": 4
 },
 "nbformat": 4,
 "nbformat_minor": 2
}
