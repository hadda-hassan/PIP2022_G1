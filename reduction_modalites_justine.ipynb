{
 "cells": [
  {
   "cell_type": "markdown",
   "metadata": {},
   "source": [
    "Nettoyage de SECTEUR_GESTION. Création de nouvelles modalités:\n",
    "- SUD\n",
    "- EST\n",
    "- OUEST\n",
    "- NORD\n",
    "- AUDE\n",
    "- GARD\n",
    "- HERAULT\n",
    "- LOZERE\n",
    "- PYRENNEES ORIENTALES"
   ]
  },
  {
   "cell_type": "markdown",
   "metadata": {},
   "source": [
    "Nettoyage de profil. Création de nouvelles modalités :\n",
    "- peu actifs\n",
    "- actifs\n",
    "- très actifs\n",
    "- actif digital\n",
    "- peu actif digital\n",
    "- sans contact\n",
    "- Bienvenue"
   ]
  },
  {
   "cell_type": "code",
   "execution_count": null,
   "metadata": {},
   "outputs": [],
   "source": [
    "data1['SECTEUR_GESTION'] = data1['SECTEUR_GESTION'].replace(to_replace='SECTEUR ALES CVN', value='SECTEUR GARD')\n",
    "data1['SECTEUR_GESTION'] = data1['SECTEUR_GESTION'].replace(to_replace='SECTEUR NARBONNE', value='SECTEUR AUDE')\n",
    "data1['SECTEUR_GESTION'] = data1['SECTEUR_GESTION'].replace(to_replace='SECTEUR MONTPELLIER CENTRE UNIV', value='SECTEUR HERAULT')\n",
    "data1['SECTEUR_GESTION'] = data1['SECTEUR_GESTION'].replace(to_replace='SECTEUR NIMES', value='GARD')\n",
    "data1['SECTEUR_GESTION'] = data1['SECTEUR_GESTION'].replace(to_replace='SECTEUR COSTIERES VIDOURLE', value='SECTEUR GARD')\n",
    "data1['SECTEUR_GESTION'] = data1['SECTEUR_GESTION'].replace(to_replace='SECTEUR THAU LITTORAL', value='SECTEUR HERAULT')\n",
    "data1['SECTEUR_GESTION'] = data1['SECTEUR_GESTION'].replace(to_replace='SECTEUR HAUT LGDC COEUR HERAULT', value='SECTEUR HERAULT')\n",
    "data1['SECTEUR_GESTION'] = data1['SECTEUR_GESTION'].replace(to_replace='SECTEUR BEZIERS', value='SECTEUR HERAULT')\n",
    "data1['SECTEUR_GESTION'] = data1['SECTEUR_GESTION'].replace(to_replace='SECTEUR BEAUCAIROIS UZEGE', value='SECTEUR GARD')\n",
    "data1['SECTEUR_GESTION'] = data1['SECTEUR_GESTION'].replace(to_replace='SECTEUR MONTPELLIER PIC ST LOUP', value='SECTEUR HERAULT')\n",
    "data1['SECTEUR_GESTION'] = data1['SECTEUR_GESTION'].replace(to_replace='SECTEUR MAUGUIO MEDITERRANEE', value='SECTEUR HERAULT')\n",
    "data1['SECTEUR_GESTION'] = data1['SECTEUR_GESTION'].replace(to_replace='SECTEUR VALLEE DU RHONE', value='SECTEUR GARD')\n",
    "data1['SECTEUR_GESTION'] = data1['SECTEUR_GESTION'].replace(to_replace='SECTEUR CARCASSONNE', value='SECTEUR AUDE')\n",
    "data1['SECTEUR_GESTION'] = data1['SECTEUR_GESTION'].replace(to_replace='SECTEUR CASTELNAUDARY HVA', value='SECTEUR AUDE')\n",
    "data1['SECTEUR_GESTION'] = data1['SECTEUR_GESTION'].replace(to_replace='RISQUES', value='SECTEUR AUTRE')\n",
    "data1['SECTEUR_GESTION'] = data1['SECTEUR_GESTION'].replace(to_replace='CENTRE DE CONTACTS MULTICANAL', value='SECTEUR AUTRE')\n",
    "data1['SECTEUR_GESTION'] = data1['SECTEUR_GESTION'].replace(to_replace='SECTEUR BANQUE PRIVEE', value='SECTEUR AUTRE')\n",
    "data1['SECTEUR_GESTION'] = data1['SECTEUR_GESTION'].replace(to_replace='SECTEUR ANIM ET COORD MULTICANAL', value='SECTEUR AUTRE')\n",
    "data1['SECTEUR_GESTION'] = data1['SECTEUR_GESTION'].replace(to_replace='SVCES SIEGES BR RESEAUX', value='SECTEUR AUTRE')\n",
    "data1['SECTEUR_GESTION'] = data1['SECTEUR_GESTION'].replace(to_replace='SECT RECOUVREMENT RESEAU', value='SECTEUR AUTRE')\n",
    "data1['SECTEUR_GESTION'] = data1['SECTEUR_GESTION'].replace(to_replace='SECTEUR CENTRE D AFFAIRES', value='SECTEUR AUTRE')\n",
    "data1['SECTEUR_GESTION'] = data1['SECTEUR_GESTION'].replace(to_replace='BANQUE D AFFAIRES ET D INVESTISS', value='SECTEUR AUTRE')\n",
    "data1['SECTEUR_GESTION'] = data1['SECTEUR_GESTION'].replace(to_replace=\"CENTRE D'AFFAIRES EST LANGUEDOC\", value='SECTEUR AUTRE')\n",
    "data1['SECTEUR_GESTION'] = data1['SECTEUR_GESTION'].replace(to_replace='CTRE AFFAIRE OUEST LANGUEDOC', value='SECTEUR AUTRE')\n",
    "data1['SECTEUR_GESTION'] = data1['SECTEUR_GESTION'].replace(to_replace='SECT BANCAIRE RESEAU', value='SECTEUR AUTRE')\n",
    "data1['SECTEUR_GESTION'] = data1['SECTEUR_GESTION'].replace(to_replace='COOPERATIVES', value='SECTEUR AUTRE')\n",
    "data1['SECTEUR_GESTION'] = data1['SECTEUR_GESTION'].replace(to_replace='POLE IMMOBILIER', value='SECTEUR AUTRE')\n",
    "data1['SECTEUR_GESTION'] = data1['SECTEUR_GESTION'].replace(to_replace='SECTEUR BOREAL', value='SECTEUR AUTRE')\n",
    "\n",
    "data1['profil'] = data1['profil'].replace(to_replace='Digital Ma Banque', value='DIGITAL')\n",
    "data1['profil'] = data1['profil'].replace(to_replace='Très peu actifs', value='PEU ACTIF')\n",
    "data1['profil'] = data1['profil'].replace(to_replace='actifs classiques', value='ACTIF')\n",
    "data1['profil'] = data1['profil'].replace(to_replace='Hyper actifs', value='TRES ACTIFS')\n",
    "data1['profil'] = data1['profil'].replace(to_replace='Digital Web modéré', value='DIGITAL')\n",
    "data1['profil'] = data1['profil'].replace(to_replace='actifs trad ss rdv', value='ACTIF')\n",
    "data1['profil'] = data1['profil'].replace(to_replace='Full digital', value='ACTIF DIGITAL')\n",
    "data1['profil'] = data1['profil'].replace(to_replace='Digital Web', value='ACTIF DIGITAL')\n",
    "data1['profil'] = data1['profil'].replace(to_replace='Peu actifs Ma banque', value='PEU ACTIF DIGITAL')\n",
    "data1['profil'] = data1['profil'].replace(to_replace='Peu actifs internet', value='PEU ACTIF DIGITAL')\n",
    "data1['profil'] = data1['profil'].replace(to_replace='actifs trad ac rdv', value='ACTIF')\n",
    "data1['profil'] = data1['profil'].replace(to_replace='sans contact', value='SANS CONTACT')"
   ]
  }
 ],
 "metadata": {
  "kernelspec": {
   "display_name": "Python 3",
   "language": "python",
   "name": "python3"
  },
  "language_info": {
   "codemirror_mode": {
    "name": "ipython",
    "version": 3
   },
   "file_extension": ".py",
   "mimetype": "text/x-python",
   "name": "python",
   "nbconvert_exporter": "python",
   "pygments_lexer": "ipython3",
   "version": "3.8.3"
  }
 },
 "nbformat": 4,
 "nbformat_minor": 4
}
